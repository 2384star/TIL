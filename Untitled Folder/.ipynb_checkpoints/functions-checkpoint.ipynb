{
 "cells": [
  {
   "cell_type": "code",
   "execution_count": 4,
   "id": "a6700a62",
   "metadata": {},
   "outputs": [],
   "source": [
    "CONSTANT = 10\n",
    "def add(num1, num2):\n",
    "    return num1+num2\n",
    "# if __name__\"__main__\":\n",
    "#     print(\"직접실행됫을 경우에만 시행\")"
   ]
  },
  {
   "cell_type": "code",
   "execution_count": null,
   "id": "33976a79",
   "metadata": {},
   "outputs": [],
   "source": []
  }
 ],
 "metadata": {
  "kernelspec": {
   "display_name": "Python 3 (ipykernel)",
   "language": "python",
   "name": "python3"
  },
  "language_info": {
   "codemirror_mode": {
    "name": "ipython",
    "version": 3
   },
   "file_extension": ".py",
   "mimetype": "text/x-python",
   "name": "python",
   "nbconvert_exporter": "python",
   "pygments_lexer": "ipython3",
   "version": "3.9.16"
  }
 },
 "nbformat": 4,
 "nbformat_minor": 5
}
