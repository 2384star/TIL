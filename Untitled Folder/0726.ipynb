{
 "cells": [
  {
   "cell_type": "code",
   "execution_count": 1,
   "id": "4476f887",
   "metadata": {},
   "outputs": [],
   "source": [
    "from collections import deque"
   ]
  },
  {
   "cell_type": "code",
   "execution_count": 2,
   "id": "e1a0d3bd",
   "metadata": {},
   "outputs": [],
   "source": [
    "que= deque([10,5,12])\n",
    "\n"
   ]
  },
  {
   "cell_type": "code",
   "execution_count": 3,
   "id": "d274072f",
   "metadata": {},
   "outputs": [
    {
     "data": {
      "text/plain": [
       "12"
      ]
     },
     "execution_count": 3,
     "metadata": {},
     "output_type": "execute_result"
    }
   ],
   "source": [
    "que.appendleft(16)\n",
    "que.pop()"
   ]
  },
  {
   "cell_type": "code",
   "execution_count": 5,
   "id": "6637e090",
   "metadata": {},
   "outputs": [
    {
     "data": {
      "text/plain": [
       "16"
      ]
     },
     "execution_count": 5,
     "metadata": {},
     "output_type": "execute_result"
    }
   ],
   "source": [
    "que.append(20)\n",
    "que.popleft()"
   ]
  },
  {
   "cell_type": "code",
   "execution_count": 8,
   "id": "f857fb4a",
   "metadata": {},
   "outputs": [
    {
     "data": {
      "text/plain": [
       "deque([20, 5, 10])"
      ]
     },
     "execution_count": 8,
     "metadata": {},
     "output_type": "execute_result"
    }
   ],
   "source": [
    "deque(reversed(que))"
   ]
  },
  {
   "cell_type": "code",
   "execution_count": 9,
   "id": "77bd6d51",
   "metadata": {},
   "outputs": [],
   "source": [
    "import heapq"
   ]
  },
  {
   "cell_type": "code",
   "execution_count": 22,
   "id": "23be1507",
   "metadata": {},
   "outputs": [],
   "source": [
    "que2=[5,2,7,4,1,10,9,8,3]\n"
   ]
  },
  {
   "cell_type": "code",
   "execution_count": 23,
   "id": "3a9879ab",
   "metadata": {},
   "outputs": [],
   "source": [
    "heapq.heapify(que2)\n"
   ]
  },
  {
   "cell_type": "code",
   "execution_count": 24,
   "id": "e89d570d",
   "metadata": {},
   "outputs": [],
   "source": [
    "# heapq.heappush(que2,11)\n",
    "# heapq.heappush(que2,-2)\n",
    "# heapq.heappush(que2,3)"
   ]
  },
  {
   "cell_type": "code",
   "execution_count": 27,
   "id": "15059f5c",
   "metadata": {},
   "outputs": [
    {
     "data": {
      "text/plain": [
       "[1, 2, 7, 3, 5, 10, 9, 8, 4]"
      ]
     },
     "execution_count": 27,
     "metadata": {},
     "output_type": "execute_result"
    }
   ],
   "source": [
    "que2"
   ]
  },
  {
   "cell_type": "code",
   "execution_count": 30,
   "id": "b7abb5b6",
   "metadata": {},
   "outputs": [],
   "source": [
    "from collections import Counter"
   ]
  },
  {
   "cell_type": "code",
   "execution_count": 31,
   "id": "8182d353",
   "metadata": {},
   "outputs": [
    {
     "name": "stdout",
     "output_type": "stream",
     "text": [
      "Counter({'a': 5, 'd': 5, 'f': 4, 'r': 4, 's': 3, 'q': 3, 'e': 3, 'w': 2, 'g': 2, 't': 1})\n"
     ]
    }
   ],
   "source": [
    "text = \"asdfadfasdfasdfadrwqgqrgqtrweeer\"\n",
    "\n",
    "characters = Counter(text)\n",
    "\n",
    "\n",
    "print(characters)"
   ]
  },
  {
   "cell_type": "code",
   "execution_count": 35,
   "id": "d997c260",
   "metadata": {},
   "outputs": [],
   "source": [
    "c=Counter({'a':5,'b':3})"
   ]
  },
  {
   "cell_type": "code",
   "execution_count": 53,
   "id": "0d142fe8",
   "metadata": {},
   "outputs": [
    {
     "data": {
      "text/plain": [
       "['a', 'a', 'a', 'a', 'a', 'b', 'b', 'b']"
      ]
     },
     "execution_count": 53,
     "metadata": {},
     "output_type": "execute_result"
    }
   ],
   "source": [
    "list(c.elements())"
   ]
  },
  {
   "cell_type": "code",
   "execution_count": 43,
   "id": "f86ffe5f",
   "metadata": {},
   "outputs": [],
   "source": [
    "a=Counter([1,1,2,2,2,3])\n",
    "b=Counter([2,3,3,4])"
   ]
  },
  {
   "cell_type": "code",
   "execution_count": 44,
   "id": "1bad5b54",
   "metadata": {},
   "outputs": [
    {
     "data": {
      "text/plain": [
       "Counter({1: 2, 2: 3, 3: 1})"
      ]
     },
     "execution_count": 44,
     "metadata": {},
     "output_type": "execute_result"
    }
   ],
   "source": [
    "a"
   ]
  },
  {
   "cell_type": "code",
   "execution_count": 45,
   "id": "16901b51",
   "metadata": {},
   "outputs": [
    {
     "data": {
      "text/plain": [
       "Counter({2: 1, 3: 2, 4: 1})"
      ]
     },
     "execution_count": 45,
     "metadata": {},
     "output_type": "execute_result"
    }
   ],
   "source": [
    "b"
   ]
  },
  {
   "cell_type": "code",
   "execution_count": 46,
   "id": "9cbe5165",
   "metadata": {},
   "outputs": [
    {
     "data": {
      "text/plain": [
       "Counter({1: 2, 2: 4, 3: 3, 4: 1})"
      ]
     },
     "execution_count": 46,
     "metadata": {},
     "output_type": "execute_result"
    }
   ],
   "source": [
    "a+b"
   ]
  },
  {
   "cell_type": "code",
   "execution_count": 47,
   "id": "7f5d100d",
   "metadata": {},
   "outputs": [
    {
     "data": {
      "text/plain": [
       "Counter({2: 1, 3: 1})"
      ]
     },
     "execution_count": 47,
     "metadata": {},
     "output_type": "execute_result"
    }
   ],
   "source": [
    "a&b"
   ]
  },
  {
   "cell_type": "code",
   "execution_count": 50,
   "id": "aaf299e6",
   "metadata": {},
   "outputs": [
    {
     "data": {
      "text/plain": [
       "Counter({1: 2, 2: 3, 3: 2, 4: 1})"
      ]
     },
     "execution_count": 50,
     "metadata": {},
     "output_type": "execute_result"
    }
   ],
   "source": [
    "a|b"
   ]
  },
  {
   "cell_type": "code",
   "execution_count": 51,
   "id": "d2187a88",
   "metadata": {},
   "outputs": [],
   "source": [
    "coord1=(1,2,3)\n",
    "coord2=(3,-2,5)"
   ]
  },
  {
   "cell_type": "code",
   "execution_count": 54,
   "id": "04156c20",
   "metadata": {},
   "outputs": [
    {
     "name": "stdout",
     "output_type": "stream",
     "text": [
      "1 2\n"
     ]
    }
   ],
   "source": [
    "class Coords3D:\n",
    "    def __init__(self, x, y, z):\n",
    "        self._x = x\n",
    "        self._y = y\n",
    "        self._z = z\n",
    "\n",
    "    @property\n",
    "    def x(self):\n",
    "        return self._x\n",
    "\n",
    "    @property\n",
    "    def y(self):\n",
    "        return self._y\n",
    "\n",
    "    @property\n",
    "    def z(self):\n",
    "        return self._z\n",
    "\n",
    "coord1 = Coords3D(1,2,3)\n",
    "coord2 = Coords3D(-1,2,5)\n",
    "\n",
    "\n",
    "print(coord1.x, coord1.y)"
   ]
  },
  {
   "cell_type": "code",
   "execution_count": 61,
   "id": "1904114b",
   "metadata": {},
   "outputs": [
    {
     "name": "stdout",
     "output_type": "stream",
     "text": [
      "10 20\n",
      "10\n",
      "10 20 30\n"
     ]
    }
   ],
   "source": [
    "from collections import namedtuple\n",
    "\n",
    "Coords=namedtuple(\"Coodrs3D\",['x','y','z'])\n",
    "point=Coords(10,20,z=30)\n",
    "print(point.x,point.y)\n",
    "print(point[0])\n",
    "print(*point)\n"
   ]
  },
  {
   "cell_type": "code",
   "execution_count": 65,
   "id": "fa7f2c60",
   "metadata": {},
   "outputs": [
    {
     "name": "stdout",
     "output_type": "stream",
     "text": [
      "37.416573867739416\n"
     ]
    }
   ],
   "source": [
    "from dataclasses import dataclass\n",
    "\n",
    "@dataclass\n",
    "class Coords3D:\n",
    "    x:float\n",
    "    y:float\n",
    "    z:float =0\n",
    "\n",
    "\n",
    "    def norm(self):\n",
    "        return (self.x **2 +self.y **2 + self.z **2)**.5\n",
    "\n",
    "\n",
    "coord1 = Coords3D(1,2,3)\n",
    "coord2 = Coords3D(-1,2,5)\n",
    "point = Coords3D(10, 20, 30)\n",
    "print(point.norm())\n"
   ]
  },
  {
   "cell_type": "code",
   "execution_count": 68,
   "id": "46e9eeef",
   "metadata": {},
   "outputs": [],
   "source": [
    "a= \"\"\"\n",
    "fdfd\n",
    "asd\n",
    "\"\"\""
   ]
  },
  {
   "cell_type": "code",
   "execution_count": 69,
   "id": "273c8611",
   "metadata": {},
   "outputs": [
    {
     "name": "stdout",
     "output_type": "stream",
     "text": [
      "\n",
      "fdfd\n",
      "asd\n",
      "\n"
     ]
    }
   ],
   "source": [
    "print(a)"
   ]
  },
  {
   "cell_type": "code",
   "execution_count": 70,
   "id": "2daccc43",
   "metadata": {},
   "outputs": [
    {
     "ename": "SyntaxError",
     "evalue": "invalid syntax (316192197.py, line 6)",
     "output_type": "error",
     "traceback": [
      "\u001b[0;36m  Cell \u001b[0;32mIn[70], line 6\u001b[0;36m\u001b[0m\n\u001b[0;31m    repr -> 어떤 개채를 받아서 이것에 대한 String 표현을 나타낸것 :s\u001b[0m\n\u001b[0m         ^\u001b[0m\n\u001b[0;31mSyntaxError\u001b[0m\u001b[0;31m:\u001b[0m invalid syntax\n"
     ]
    }
   ],
   "source": [
    "class A:\n",
    "    pass\n",
    "str(A)\n",
    "repr(A)\n",
    "\n",
    "repr #-> 어떤 개채를 받아서 이것에 대한 String 표현을 나타낸것 :s"
   ]
  },
  {
   "cell_type": "code",
   "execution_count": 76,
   "id": "d07545fd",
   "metadata": {},
   "outputs": [
    {
     "data": {
      "text/plain": [
       "'3'"
      ]
     },
     "execution_count": 76,
     "metadata": {},
     "output_type": "execute_result"
    }
   ],
   "source": [
    "repr(3)"
   ]
  },
  {
   "cell_type": "code",
   "execution_count": 77,
   "id": "8a0f5802",
   "metadata": {},
   "outputs": [],
   "source": [
    "text=\"this is the Python coures\""
   ]
  },
  {
   "cell_type": "code",
   "execution_count": 78,
   "id": "0124d57c",
   "metadata": {},
   "outputs": [],
   "source": [
    "test=\"                공백      \\t asdfasdf\\t \\n  \""
   ]
  },
  {
   "cell_type": "code",
   "execution_count": 92,
   "id": "a2d720c1",
   "metadata": {},
   "outputs": [
    {
     "data": {
      "text/plain": [
       "['한국어 ', ' 테스트 \\n ', '중 \\t 입니다']"
      ]
     },
     "execution_count": 92,
     "metadata": {},
     "output_type": "execute_result"
    }
   ],
   "source": [
    "test.strip()#양측 공백\n",
    "test.lstrip() #왼쪽\n",
    "test.rstrip() #오른쪽\n",
    "test.isdigit() #숫자로 이뤄짐?\n",
    "test.isupper()#소문자?\n",
    "test.islower()#대문자>\n",
    "test=\"한국어 abc 테스트 \\n abc중 \\t 입니다\"\n",
    "pattern=\"abc\"\n",
    "test.count(pattern)\n",
    "test.lower()\n",
    "test.split(pattern)"
   ]
  },
  {
   "cell_type": "code",
   "execution_count": 93,
   "id": "bd542bba",
   "metadata": {},
   "outputs": [],
   "source": [
    "a,b,c = 10, 1.725, \"sample\""
   ]
  },
  {
   "cell_type": "code",
   "execution_count": 94,
   "id": "1cdb5024",
   "metadata": {},
   "outputs": [
    {
     "data": {
      "text/plain": [
       "'10 : 1.725 - sample'"
      ]
     },
     "execution_count": 94,
     "metadata": {},
     "output_type": "execute_result"
    }
   ],
   "source": [
    "\"{} : {} - {}\".format(a,b,c)"
   ]
  },
  {
   "cell_type": "code",
   "execution_count": 95,
   "id": "e5413177",
   "metadata": {},
   "outputs": [
    {
     "data": {
      "text/plain": [
       "'10: 1.725 -sample'"
      ]
     },
     "execution_count": 95,
     "metadata": {},
     "output_type": "execute_result"
    }
   ],
   "source": [
    "f\"{a}: {b} -{c}\""
   ]
  },
  {
   "cell_type": "code",
   "execution_count": 96,
   "id": "067d3b9c",
   "metadata": {},
   "outputs": [],
   "source": [
    "import pickle"
   ]
  },
  {
   "cell_type": "code",
   "execution_count": 97,
   "id": "165616ce",
   "metadata": {},
   "outputs": [
    {
     "name": "stdout",
     "output_type": "stream",
     "text": [
      "[[0, 1, 2, 3, 4, 5, 6, 7, 8, 9], [0, 1, 2, 3, 4, 5, 6, 7, 8, 9], [0, 1, 2, 3, 4, 5, 6, 7, 8, 9], [0, 1, 2, 3, 4, 5, 6, 7, 8, 9], [0, 1, 2, 3, 4, 5, 6, 7, 8, 9], [0, 1, 2, 3, 4, 5, 6, 7, 8, 9], [0, 1, 2, 3, 4, 5, 6, 7, 8, 9], [0, 1, 2, 3, 4, 5, 6, 7, 8, 9], [0, 1, 2, 3, 4, 5, 6, 7, 8, 9], [0, 1, 2, 3, 4, 5, 6, 7, 8, 9]]\n"
     ]
    }
   ],
   "source": [
    "a = [[i for i in range(10)]for j in range(10)]\n",
    "\n",
    "with open(\"test.pkl\",\"wb\") as fd:\n",
    "    pickle.dump(a,fd)\n",
    "print(a)"
   ]
  },
  {
   "cell_type": "code",
   "execution_count": null,
   "id": "6717e70c",
   "metadata": {},
   "outputs": [],
   "source": []
  }
 ],
 "metadata": {
  "kernelspec": {
   "display_name": "Python 3 (ipykernel)",
   "language": "python",
   "name": "python3"
  },
  "language_info": {
   "codemirror_mode": {
    "name": "ipython",
    "version": 3
   },
   "file_extension": ".py",
   "mimetype": "text/x-python",
   "name": "python",
   "nbconvert_exporter": "python",
   "pygments_lexer": "ipython3",
   "version": "3.9.16"
  }
 },
 "nbformat": 4,
 "nbformat_minor": 5
}
