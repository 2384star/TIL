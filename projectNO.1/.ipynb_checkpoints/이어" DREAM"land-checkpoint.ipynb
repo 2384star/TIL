{
 "cells": [
  {
   "cell_type": "code",
   "execution_count": 116,
   "id": "0c42e8c3",
   "metadata": {},
   "outputs": [],
   "source": [
    "import random"
   ]
  },
  {
   "cell_type": "code",
   "execution_count": 163,
   "id": "b86ae0c3",
   "metadata": {},
   "outputs": [],
   "source": [
    "money=100000\n",
    "c_money =100000\n",
    "default=500\n",
    "gamemoney=0\n",
    "stage=0"
   ]
  },
  {
   "cell_type": "code",
   "execution_count": 160,
   "id": "0cb5b3bd",
   "metadata": {},
   "outputs": [],
   "source": [
    "deck= [(design,number) for design in [\"space\",\"heart\",\"diamond\", \"clober\"]for number in range(1,14) ]"
   ]
  },
  {
   "cell_type": "markdown",
   "id": "adee35fb",
   "metadata": {},
   "source": [
    "### 여기서부터 루트 돌아야 할것이야"
   ]
  },
  {
   "cell_type": "code",
   "execution_count": 152,
   "id": "950ce374",
   "metadata": {},
   "outputs": [
    {
     "name": "stdout",
     "output_type": "stream",
     "text": [
      "베팅금 -5000 남은 배팅금= -30000\n",
      "현재 패는   '@','@'[('heart', 1), ('heart', 5), ('heart', 13)]\n",
      "상대 방의패는 @','@'[('clober', 1), ('clober', 4), ('clober', 3)]\n",
      "현재 베팅금 10000\n",
      "1:하프 판돈의 50% 배팅 2:더블 판돈 2배 베팅 3: 다이: 게임 종료2\n",
      " 하프베팅 베팅금 추가20000\n",
      "현재 총베팅금엑 :40000\n",
      "현재 패는   '@','@'[]\n",
      "상대 방의패는 @','@'[]\n"
     ]
    }
   ],
   "source": [
    "# random.shuffle(dack)\n",
    "# money -=defult\n",
    "# c_money-=defult\n",
    "# gamemoney=(defult*2)\n",
    "# print(f\"베팅금 -5000 남은 배팅금= {money}\")\n",
    "    \n",
    "    \n",
    "#     # 과정 4: 선수 A에게 카드 다섯장을 선수 B에게 카드 다섯장을 섞은 카드 맨 앞부터 뺴서 준다.\n",
    "# player = [ dack[number] for number in range(0, 5)]\n",
    "# computer = [ dack[number] for number in range(5, 10)]\n",
    "    \n",
    "\n",
    "# print(f\"현재 패는   '@','@'{player[2:]}\")\n",
    "# print(f\"상대 방의패는 @','@'{computer[2:]}\")\n",
    "# print(f\"현재 베팅금 {gamemoney}\")\n",
    "# chice=int(input(f\"1:하프 판돈의 50% 배팅 2:더블 판돈 2배 베팅 3: 다이: 게임 종료\"))\n",
    "# if chice ==1:\n",
    "#     c_money-=(gamemoney*1.5)\n",
    "#     money-=(gamemoney*1.5)\n",
    "#     gamemoney=gamemoney*3\n",
    "#     stage=2;\n",
    "#     print(f\" 하프베팅 베팅금 추가{gamemoney*1.5}\")\n",
    "#     print(f\"현재 총베팅금엑 :{gamemoney}\")\n",
    "        \n",
    "# if chice ==2:\n",
    "#     print(f\" 하프베팅 베팅금 추가{gamemoney*2}\")\n",
    "#     c_money-=(gamemoney*2)\n",
    "#     money-=(gamemoney*2)\n",
    "#     gamemoney=gamemoney*4\n",
    "#     stage=2;\n",
    "#     print(f\"현재 총베팅금엑 :{gamemoney}\")\n",
    "\n",
    "# if chice ==3:\n",
    "#           print(\"게임종료\")\n",
    "        \n",
    "# if stage==2:\n",
    "#     player = [ dack[number] for number in range(11, 12)]\n",
    "#     computer = [ dack[number] for number in range(13, 14)]\n",
    "#     print(f\"현재 패는   '@','@'{player[2:]}\")\n",
    "#     print(f\"상대 방의패는 @','@'{computer[2:]}\")"
   ]
  },
  {
   "cell_type": "code",
   "execution_count": 165,
   "id": "8b6ad576",
   "metadata": {},
   "outputs": [
    {
     "name": "stdout",
     "output_type": "stream",
     "text": [
      "베팅금 -5000 남은 배팅금: 97000.0\n",
      "현재 패는 '@', '@' [('diamond', 10), ('diamond', 12)]\n",
      "상대 방의 패는 '@', '@' [('heart', 12), ('diamond', 4)]\n",
      "현재 베팅금: 1000\n",
      "1: 하프 판돈의 50% 배팅, 2: 더블 판돈 2배 베팅, 3: 다이, 게임 종료: 1\n",
      "하프베팅 베팅금 추가: 4500.0\n",
      "현재 총 베팅금: 3000\n",
      "베팅금 -5000 남은 배팅금: 95000.0\n",
      "현재 패는 '@', '@' [('diamond', 10), ('diamond', 12), ('heart', 11)]\n",
      "상대 방의 패는 '@', '@' [('heart', 12), ('diamond', 4), ('clober', 8)]\n",
      "현재 베팅금: 1000\n",
      "1: 하프 판돈의 50% 배팅, 2: 더블 판돈 2배 베팅, 3: 다이, 게임 종료: 1\n",
      "하프베팅 베팅금 추가: 4500.0\n",
      "현재 총 베팅금: 3000\n",
      "베팅금 -5000 남은 배팅금: 93000.0\n",
      "현재 패는 '@', '@' [('diamond', 10), ('diamond', 12), ('heart', 11), ('clober', 7)]\n",
      "상대 방의 패는 '@', '@' [('heart', 12), ('diamond', 4), ('clober', 8), ('clober', 11)]\n",
      "현재 베팅금: 1000\n",
      "1: 하프 판돈의 50% 배팅, 2: 더블 판돈 2배 베팅, 3: 다이, 게임 종료: 1\n",
      "하프베팅 베팅금 추가: 4500.0\n",
      "현재 총 베팅금: 3000\n",
      "베팅금 -5000 남은 배팅금: 91000.0\n",
      "현재 패는 '@', '@' [('diamond', 10), ('diamond', 12), ('heart', 11), ('clober', 7), ('clober', 10)]\n",
      "상대 방의 패는 '@', '@' [('heart', 12), ('diamond', 4), ('clober', 8), ('clober', 11), ('space', 7)]\n",
      "현재 베팅금: 1000\n",
      "1: 하프 판돈의 50% 배팅, 2: 더블 판돈 2배 베팅, 3: 다이, 게임 종료: 1\n",
      "하프베팅 베팅금 추가: 4500.0\n",
      "현재 총 베팅금: 3000\n",
      "베팅금 -5000 남은 배팅금: 89000.0\n",
      "현재 패는 '@', '@' [('diamond', 10), ('diamond', 12), ('heart', 11), ('clober', 7), ('clober', 10), ('heart', 9)]\n",
      "상대 방의 패는 '@', '@' [('heart', 12), ('diamond', 4), ('clober', 8), ('clober', 11), ('space', 7), ('heart', 10)]\n",
      "현재 베팅금: 1000\n",
      "1: 하프 판돈의 50% 배팅, 2: 더블 판돈 2배 베팅, 3: 다이, 게임 종료: 1\n",
      "하프베팅 베팅금 추가: 4500.0\n",
      "현재 총 베팅금: 3000\n",
      "베팅금 -5000 남은 배팅금: 87000.0\n",
      "현재 패는 '@', '@' [('diamond', 10), ('diamond', 12), ('heart', 11), ('clober', 7), ('clober', 10), ('heart', 9), ('clober', 4)]\n",
      "상대 방의 패는 '@', '@' [('heart', 12), ('diamond', 4), ('clober', 8), ('clober', 11), ('space', 7), ('heart', 10), ('space', 10)]\n",
      "현재 베팅금: 1000\n",
      "1: 하프 판돈의 50% 배팅, 2: 더블 판돈 2배 베팅, 3: 다이, 게임 종료: 2\n",
      "더블베팅 베팅금 추가: 2000\n",
      "현재 총 베팅금: 4000\n",
      "베팅금 -5000 남은 배팅금: 84500.0\n",
      "현재 패는 '@', '@' [('diamond', 10), ('diamond', 12), ('heart', 11), ('clober', 7), ('clober', 10), ('heart', 9), ('clober', 4), ('clober', 13)]\n",
      "상대 방의 패는 '@', '@' [('heart', 12), ('diamond', 4), ('clober', 8), ('clober', 11), ('space', 7), ('heart', 10), ('space', 10), ('space', 9)]\n",
      "현재 베팅금: 1000\n"
     ]
    },
    {
     "ename": "KeyboardInterrupt",
     "evalue": "Interrupted by user",
     "output_type": "error",
     "traceback": [
      "\u001b[0;31m---------------------------------------------------------------------------\u001b[0m",
      "\u001b[0;31mKeyboardInterrupt\u001b[0m                         Traceback (most recent call last)",
      "Cell \u001b[0;32mIn[165], line 22\u001b[0m\n\u001b[1;32m     20\u001b[0m \u001b[38;5;28mprint\u001b[39m(\u001b[38;5;124mf\u001b[39m\u001b[38;5;124m\"\u001b[39m\u001b[38;5;124m상대 방의 패는 \u001b[39m\u001b[38;5;124m'\u001b[39m\u001b[38;5;124m@\u001b[39m\u001b[38;5;124m'\u001b[39m\u001b[38;5;124m, \u001b[39m\u001b[38;5;124m'\u001b[39m\u001b[38;5;124m@\u001b[39m\u001b[38;5;124m'\u001b[39m\u001b[38;5;124m \u001b[39m\u001b[38;5;132;01m{\u001b[39;00mcomputer[\u001b[38;5;241m2\u001b[39m:]\u001b[38;5;132;01m}\u001b[39;00m\u001b[38;5;124m\"\u001b[39m)\n\u001b[1;32m     21\u001b[0m \u001b[38;5;28mprint\u001b[39m(\u001b[38;5;124mf\u001b[39m\u001b[38;5;124m\"\u001b[39m\u001b[38;5;124m현재 베팅금: \u001b[39m\u001b[38;5;132;01m{\u001b[39;00mgamemoney\u001b[38;5;132;01m}\u001b[39;00m\u001b[38;5;124m\"\u001b[39m)\n\u001b[0;32m---> 22\u001b[0m choice \u001b[38;5;241m=\u001b[39m \u001b[38;5;28mint\u001b[39m(\u001b[38;5;28;43minput\u001b[39;49m\u001b[43m(\u001b[49m\u001b[38;5;124;43mf\u001b[39;49m\u001b[38;5;124;43m\"\u001b[39;49m\u001b[38;5;124;43m1: 하프 판돈의 50% 배팅, 2: 더블 판돈 2배 베팅, 3: 다이, 게임 종료: \u001b[39;49m\u001b[38;5;124;43m\"\u001b[39;49m\u001b[43m)\u001b[49m)\n\u001b[1;32m     24\u001b[0m \u001b[38;5;28;01mif\u001b[39;00m choice \u001b[38;5;241m==\u001b[39m \u001b[38;5;241m1\u001b[39m:\n\u001b[1;32m     25\u001b[0m     c_money \u001b[38;5;241m-\u001b[39m\u001b[38;5;241m=\u001b[39m (gamemoney \u001b[38;5;241m*\u001b[39m \u001b[38;5;241m1.5\u001b[39m)\n",
      "File \u001b[0;32m/opt/homebrew/Caskroom/miniconda/base/envs/yeardream/lib/python3.9/site-packages/ipykernel/kernelbase.py:1175\u001b[0m, in \u001b[0;36mKernel.raw_input\u001b[0;34m(self, prompt)\u001b[0m\n\u001b[1;32m   1171\u001b[0m \u001b[38;5;28;01mif\u001b[39;00m \u001b[38;5;129;01mnot\u001b[39;00m \u001b[38;5;28mself\u001b[39m\u001b[38;5;241m.\u001b[39m_allow_stdin:\n\u001b[1;32m   1172\u001b[0m     \u001b[38;5;28;01mraise\u001b[39;00m StdinNotImplementedError(\n\u001b[1;32m   1173\u001b[0m         \u001b[38;5;124m\"\u001b[39m\u001b[38;5;124mraw_input was called, but this frontend does not support input requests.\u001b[39m\u001b[38;5;124m\"\u001b[39m\n\u001b[1;32m   1174\u001b[0m     )\n\u001b[0;32m-> 1175\u001b[0m \u001b[38;5;28;01mreturn\u001b[39;00m \u001b[38;5;28;43mself\u001b[39;49m\u001b[38;5;241;43m.\u001b[39;49m\u001b[43m_input_request\u001b[49m\u001b[43m(\u001b[49m\n\u001b[1;32m   1176\u001b[0m \u001b[43m    \u001b[49m\u001b[38;5;28;43mstr\u001b[39;49m\u001b[43m(\u001b[49m\u001b[43mprompt\u001b[49m\u001b[43m)\u001b[49m\u001b[43m,\u001b[49m\n\u001b[1;32m   1177\u001b[0m \u001b[43m    \u001b[49m\u001b[38;5;28;43mself\u001b[39;49m\u001b[38;5;241;43m.\u001b[39;49m\u001b[43m_parent_ident\u001b[49m\u001b[43m[\u001b[49m\u001b[38;5;124;43m\"\u001b[39;49m\u001b[38;5;124;43mshell\u001b[39;49m\u001b[38;5;124;43m\"\u001b[39;49m\u001b[43m]\u001b[49m\u001b[43m,\u001b[49m\n\u001b[1;32m   1178\u001b[0m \u001b[43m    \u001b[49m\u001b[38;5;28;43mself\u001b[39;49m\u001b[38;5;241;43m.\u001b[39;49m\u001b[43mget_parent\u001b[49m\u001b[43m(\u001b[49m\u001b[38;5;124;43m\"\u001b[39;49m\u001b[38;5;124;43mshell\u001b[39;49m\u001b[38;5;124;43m\"\u001b[39;49m\u001b[43m)\u001b[49m\u001b[43m,\u001b[49m\n\u001b[1;32m   1179\u001b[0m \u001b[43m    \u001b[49m\u001b[43mpassword\u001b[49m\u001b[38;5;241;43m=\u001b[39;49m\u001b[38;5;28;43;01mFalse\u001b[39;49;00m\u001b[43m,\u001b[49m\n\u001b[1;32m   1180\u001b[0m \u001b[43m\u001b[49m\u001b[43m)\u001b[49m\n",
      "File \u001b[0;32m/opt/homebrew/Caskroom/miniconda/base/envs/yeardream/lib/python3.9/site-packages/ipykernel/kernelbase.py:1217\u001b[0m, in \u001b[0;36mKernel._input_request\u001b[0;34m(self, prompt, ident, parent, password)\u001b[0m\n\u001b[1;32m   1214\u001b[0m             \u001b[38;5;28;01mbreak\u001b[39;00m\n\u001b[1;32m   1215\u001b[0m \u001b[38;5;28;01mexcept\u001b[39;00m \u001b[38;5;167;01mKeyboardInterrupt\u001b[39;00m:\n\u001b[1;32m   1216\u001b[0m     \u001b[38;5;66;03m# re-raise KeyboardInterrupt, to truncate traceback\u001b[39;00m\n\u001b[0;32m-> 1217\u001b[0m     \u001b[38;5;28;01mraise\u001b[39;00m \u001b[38;5;167;01mKeyboardInterrupt\u001b[39;00m(\u001b[38;5;124m\"\u001b[39m\u001b[38;5;124mInterrupted by user\u001b[39m\u001b[38;5;124m\"\u001b[39m) \u001b[38;5;28;01mfrom\u001b[39;00m \u001b[38;5;28mNone\u001b[39m\n\u001b[1;32m   1218\u001b[0m \u001b[38;5;28;01mexcept\u001b[39;00m \u001b[38;5;167;01mException\u001b[39;00m:\n\u001b[1;32m   1219\u001b[0m     \u001b[38;5;28mself\u001b[39m\u001b[38;5;241m.\u001b[39mlog\u001b[38;5;241m.\u001b[39mwarning(\u001b[38;5;124m\"\u001b[39m\u001b[38;5;124mInvalid Message:\u001b[39m\u001b[38;5;124m\"\u001b[39m, exc_info\u001b[38;5;241m=\u001b[39m\u001b[38;5;28;01mTrue\u001b[39;00m)\n",
      "\u001b[0;31mKeyboardInterrupt\u001b[0m: Interrupted by user"
     ]
    }
   ],
   "source": [
    "stage = 1\n",
    "player = []\n",
    "computer = []\n",
    "\n",
    "while stage < 8:\n",
    "    random.shuffle(deck)\n",
    "    money -= default\n",
    "    c_money -= default\n",
    "    gamemoney = default * 2\n",
    "    print(f\"베팅금 -5000 남은 배팅금: {money}\")\n",
    "\n",
    "    if stage == 1:\n",
    "        player = deck[0:4]\n",
    "        computer = deck[5:9]\n",
    "    else:\n",
    "        player.append(deck[stage + 4])\n",
    "        computer.append(deck[stage + 9])\n",
    "\n",
    "    print(f\"현재 패는 '@', '@' {player[2:]}\")\n",
    "    print(f\"상대 방의 패는 '@', '@' {computer[2:]}\")\n",
    "    print(f\"현재 베팅금: {gamemoney}\")\n",
    "    choice = int(input(f\"1: 하프 판돈의 50% 배팅, 2: 더블 판돈 2배 베팅, 3: 다이, 게임 종료: \"))\n",
    "\n",
    "    if choice == 1:\n",
    "        c_money -= (gamemoney * 1.5)\n",
    "        money -= (gamemoney * 1.5)\n",
    "        gamemoney *= 3\n",
    "        stage += 1\n",
    "        print(f\"하프베팅 베팅금 추가: {gamemoney * 1.5}\")\n",
    "        print(f\"현재 총 베팅금: {gamemoney}\")\n",
    "\n",
    "    elif choice == 2:\n",
    "        print(f\"더블베팅 베팅금 추가: {gamemoney * 2}\")\n",
    "        c_money -= (gamemoney * 2)\n",
    "        money -= (gamemoney * 2)\n",
    "        gamemoney *= 4\n",
    "        stage += 1\n",
    "        print(f\"현재 총 베팅금: {gamemoney}\")\n",
    "\n",
    "    elif choice == 3:\n",
    "        print(\"게임 종료\")\n",
    "        break\n",
    "\n",
    "\n"
   ]
  }
 ],
 "metadata": {
  "kernelspec": {
   "display_name": "Python 3 (ipykernel)",
   "language": "python",
   "name": "python3"
  },
  "language_info": {
   "codemirror_mode": {
    "name": "ipython",
    "version": 3
   },
   "file_extension": ".py",
   "mimetype": "text/x-python",
   "name": "python",
   "nbconvert_exporter": "python",
   "pygments_lexer": "ipython3",
   "version": "3.9.16"
  }
 },
 "nbformat": 4,
 "nbformat_minor": 5
}
