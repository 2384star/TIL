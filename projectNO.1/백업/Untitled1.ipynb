{
 "cells": [
  {
   "cell_type": "code",
   "execution_count": 1,
   "id": "952429ed",
   "metadata": {},
   "outputs": [
    {
     "name": "stderr",
     "output_type": "stream",
     "text": [
      "[nltk_data] Downloading package punkt to /Users/b32/nltk_data...\n",
      "[nltk_data]   Package punkt is already up-to-date!\n"
     ]
    },
    {
     "data": {
      "text/plain": [
       "[['aaa', 'bbb'], ['ccc', 'ddd', 'eee']]"
      ]
     },
     "execution_count": 1,
     "metadata": {},
     "output_type": "execute_result"
    }
   ],
   "source": [
    "import nltk\n",
    "from nltk.tokenize import word_tokenize\n",
    "\n",
    "# nltk의 punkt tokenizer models를 다운로드합니다. \n",
    "# (이 환경에서는 이미 다운로드되어 있을 수 있습니다.)\n",
    "nltk.download('punkt')\n",
    "\n",
    "data_dict = {\"array\": [\"aaa bbb\", \"ccc ddd eee\"]}  # 예시 딕셔너리\n",
    "\n",
    "# 각 문자열을 토큰화\n",
    "tokenized_values = [word_tokenize(value) for value in data_dict[\"array\"]]\n",
    "tokenized_values\n"
   ]
  },
  {
   "cell_type": "code",
   "execution_count": null,
   "id": "5b7f2750",
   "metadata": {},
   "outputs": [],
   "source": []
  }
 ],
 "metadata": {
  "kernelspec": {
   "display_name": "Python 3 (ipykernel)",
   "language": "python",
   "name": "python3"
  },
  "language_info": {
   "codemirror_mode": {
    "name": "ipython",
    "version": 3
   },
   "file_extension": ".py",
   "mimetype": "text/x-python",
   "name": "python",
   "nbconvert_exporter": "python",
   "pygments_lexer": "ipython3",
   "version": "3.9.16"
  }
 },
 "nbformat": 4,
 "nbformat_minor": 5
}
