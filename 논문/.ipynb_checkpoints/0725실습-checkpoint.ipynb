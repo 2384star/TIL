{
 "cells": [
  {
   "cell_type": "code",
   "execution_count": 10,
   "id": "54395624",
   "metadata": {},
   "outputs": [
    {
     "name": "stdout",
     "output_type": "stream",
     "text": [
      "4405666240\n",
      "4405666240\n",
      "かち\n"
     ]
    }
   ],
   "source": [
    "class courier(object):\n",
    "    Nationality=\"KOR\"\n",
    "    def 택배전달(self,parcel1,parcel2):\n",
    "        print(id(self))\n",
    "        print(\"かち\")\n",
    "kim=courier()\n",
    "print(id(kim))\n",
    "kim.택배전달(\"TV\",\"iPhone\")  #--> courier.택배전달(kim)\n"
   ]
  },
  {
   "cell_type": "code",
   "execution_count": 6,
   "id": "d490291a",
   "metadata": {},
   "outputs": [
    {
     "name": "stdout",
     "output_type": "stream",
     "text": [
      "KOR\n",
      "KOR\n",
      "US\n"
     ]
    }
   ],
   "source": [
    "Kim=courier()\n",
    "Lee=courier()\n",
    "\n",
    "print (Kim.Nationality)\n",
    "print(Lee.Nationality)\n",
    "courier.Nationality= \"US\"\n",
    "print(Lee.Nationality)"
   ]
  },
  {
   "cell_type": "code",
   "execution_count": 13,
   "id": "25370838",
   "metadata": {},
   "outputs": [
    {
     "name": "stdout",
     "output_type": "stream",
     "text": [
      "123\n"
     ]
    },
    {
     "data": {
      "text/plain": [
       "function"
      ]
     },
     "execution_count": 13,
     "metadata": {},
     "output_type": "execute_result"
    }
   ],
   "source": [
    "a:str=\"TB\"\n",
    "def print_str(text:str):\n",
    "    print(text)\n",
    "\n",
    "print_str(\"123\")\n"
   ]
  },
  {
   "cell_type": "code",
   "execution_count": 22,
   "id": "79b6f61e",
   "metadata": {},
   "outputs": [
    {
     "name": "stdout",
     "output_type": "stream",
     "text": [
      "1\n",
      "2\n",
      "2\n"
     ]
    }
   ],
   "source": [
    "class Courier2:\n",
    "    pass\n",
    "kim=Courier2\n",
    "lee=Courier2\n",
    "\n",
    "kim.data=1\n",
    "lee.data2=2\n",
    "print(kim.data)\n",
    "print(lee.data2)\n",
    "print(kim.data2)"
   ]
  },
  {
   "cell_type": "code",
   "execution_count": 26,
   "id": "3e84d24c",
   "metadata": {},
   "outputs": [
    {
     "name": "stdout",
     "output_type": "stream",
     "text": [
      "test 생성\n",
      "python 생성\n",
      "test python\n"
     ]
    }
   ],
   "source": [
    "class co:\n",
    "    def __init__(self,data):\n",
    "        self.data=data\n",
    "        print(f\"{data} 생성\")\n",
    "    \n",
    "        \n",
    "kim=co(\"test\")\n",
    "lee=co(\"python\")\n",
    "\n",
    "print(kim.data,lee.data)"
   ]
  },
  {
   "cell_type": "code",
   "execution_count": 29,
   "id": "fc212351",
   "metadata": {},
   "outputs": [],
   "source": [
    "class Courier(object):\n",
    "    Nationality=\"KOR\"\n",
    "    def __init__(self, name: str, address: str):\n",
    "        self.name = name\n",
    "        self.address = address\n",
    "        self.parcels = []\n",
    "    def assign(self, parcel: str) -> None:\n",
    "        self.parcels.append(parcel)\n",
    "    def deliver(self) -> None:\n",
    "        for parcel in self.parcels:\n",
    "            print(parcel, \"배달 중\")\n",
    "\n",
    "    "
   ]
  },
  {
   "cell_type": "code",
   "execution_count": 31,
   "id": "3985f6db",
   "metadata": {},
   "outputs": [
    {
     "name": "stdout",
     "output_type": "stream",
     "text": [
      "김 기사 - 경기도 성남시 정자동 근무 중\n",
      "TV 상자 배달 중\n",
      "편지 배달 중\n"
     ]
    }
   ],
   "source": [
    "# 객체 생성\n",
    "courier1 = Courier(\"김 기사\", \"경기도 성남시 정자동\")\n",
    "# 속성 출력\n",
    "print(courier1.name, \"-\", courier1.address, \"근무 중\")\n",
    "# 메소드 실행 \n",
    "courier1.assign(\"TV 상자\") \n",
    "courier1.assign(\"편지\") \n",
    "courier1.deliver()"
   ]
  },
  {
   "cell_type": "code",
   "execution_count": 34,
   "id": "1ced48e4",
   "metadata": {},
   "outputs": [],
   "source": [
    "# class Courier:\n",
    "#     def __init__(self,name:str):\n",
    "#         self.name=name\n",
    "#         self.parcels=[]\n",
    "        \n",
    "#     def assign(self,parcel:str)->None:\n",
    "#         self.parcels.append(parcel)\n",
    "#     def deilver(self) ->None:\n",
    "#         for parcel in self.parcels:\n",
    "#             print(self.name,parcel,\"qoekfwnd\")\n",
    "            "
   ]
  },
  {
   "cell_type": "code",
   "execution_count": 48,
   "id": "4a543363",
   "metadata": {},
   "outputs": [
    {
     "name": "stdout",
     "output_type": "stream",
     "text": [
      "와왕아아아앙아\n",
      "멍멍\n",
      "힝이잉\n",
      "나옹\n"
     ]
    },
    {
     "ename": "NameError",
     "evalue": "name '고양이' is not defined",
     "output_type": "error",
     "traceback": [
      "\u001b[0;31m---------------------------------------------------------------------------\u001b[0m",
      "\u001b[0;31mNameError\u001b[0m                                 Traceback (most recent call last)",
      "Cell \u001b[0;32mIn[48], line 42\u001b[0m\n\u001b[1;32m     40\u001b[0m \u001b[38;5;28;01mdef\u001b[39;00m \u001b[38;5;21m울어보기\u001b[39m(animal:동물):\n\u001b[1;32m     41\u001b[0m     animal\u001b[38;5;241m.\u001b[39m울기()\n\u001b[0;32m---> 42\u001b[0m sori\u001b[38;5;241m=\u001b[39m\u001b[43m고양이\u001b[49m()\n\u001b[1;32m     43\u001b[0m sori\u001b[38;5;241m.\u001b[39m울기()\n",
      "\u001b[0;31mNameError\u001b[0m: name '고양이' is not defined"
     ]
    }
   ],
   "source": [
    "class 동물:\n",
    "    def 밥먹기(self):\n",
    "        print(\"냠냠\")\n",
    "    def 잠자기(self):\n",
    "        print(\"zzz\")\n",
    "    def 울기(self):\n",
    "        print(\"와왕아아아앙아\")\n",
    "class 한국거주:\n",
    "    def 서울가기(self):\n",
    "        print(\"서울로 가는중\")\n",
    "me=동물()\n",
    "me.울기()\n",
    "\n",
    "# class 포유류:\n",
    "#     def 잠자기(self):\n",
    "#         print(포유류 자는중)\n",
    "# class 나는것:\n",
    "#     def 잠자기(self):\n",
    "#         print(\"땅에 내려가서 자는중\")\n",
    "# class 박쥐(포유류,나는것)\n",
    "class cat(동물):\n",
    "    def 뒹굴거리기(self):\n",
    "        print(\"골골골\")\n",
    "    def 울기(self):\n",
    "        print(\"나옹\")\n",
    "\n",
    "\n",
    "class 개(동물):\n",
    "    def 주인님찾기(self):\n",
    "        print(\"사랑해요\")\n",
    "    def 울기(self):\n",
    "        print(\"멍멍\")\n",
    "\n",
    "class 말(동물):\n",
    "    def 누군가태우기(self,human):\n",
    "        print(human,\"태우기\")\n",
    "    def 울기(self):\n",
    "        print(\"힝이잉\")\n",
    "# sori = cat()\n",
    "# felix = 개()\n",
    "# epona = 말()\n",
    "\n",
    "# felix.울기()\n",
    "# epona.울기()\n",
    "# sori.울기()\n",
    "\n",
    "def 울어보기(animal:동물):\n",
    "    animal.울기()\n",
    "sori=cat()\n",
    "sori.울기()\n"
   ]
  },
  {
   "cell_type": "code",
   "execution_count": 56,
   "id": "c3aab804",
   "metadata": {},
   "outputs": [
    {
     "name": "stdout",
     "output_type": "stream",
     "text": [
      "땅에 내려가\n",
      "zzz\n"
     ]
    }
   ],
   "source": [
    "class 동물:\n",
    "    def 밥먹기(self):\n",
    "        print(\"냠냠\")\n",
    "    def 잠자기(self):\n",
    "        print(\"zzz\")\n",
    "\n",
    "class 나는것(동물):\n",
    "    def 잠자기(self):\n",
    "        print(\"땅에 내려가\")\n",
    "        super().잠자기()\n",
    "        \n",
    "batman=나는것()\n",
    "batman.잠자기()\n"
   ]
  },
  {
   "cell_type": "code",
   "execution_count": 69,
   "id": "5d9c8393",
   "metadata": {},
   "outputs": [
    {
     "name": "stdout",
     "output_type": "stream",
     "text": [
      "15 티켓으로 제주도 이동\n",
      "편지 배달 중\n",
      "편지 배달 중\n"
     ]
    }
   ],
   "source": [
    "# class Couruer:\n",
    "#     def __inlt__(self,name):\n",
    "#         self.name=name\n",
    "        \n",
    "#     def deluver(self):\n",
    "#         print(\"배달 중\")\n",
    "# class JejuCourier(Couruer):\n",
    "#     def __init__(self,name,ticket):\n",
    "#         super().__init__(name)\n",
    "#         self.ticket=ticket\n",
    "    \n",
    "#     def deluver(self):\n",
    "#         print(self.ticket,\"사용해서 제주도로 이동\")\n",
    "#         super().deluver()\n",
    "        \n",
    "# class OverseasCourier(Couruer):\n",
    "#     def __inlt__(self,name,passprot):\n",
    "#         super().__init__(name)\n",
    "#         self.passprot=passprot\n",
    "        \n",
    "#     def deluver(self):\n",
    "#         print(self.passprot, \"해외로 가는중\")\n",
    "#         super().deluver\n",
    "        \n",
    "# kim=JejuCourier(\"김기사\",\"비행기표\")\n",
    "# park=OverseasCourier(\"박기사\",\"여권\")\n",
    "\n",
    "# def 배달하기(Couruer:Couruer):\n",
    "#     Courier.deluver()\n",
    "class Courier:\n",
    "    def __init__(self, name: str):\n",
    "        self.name = name \n",
    "        self.parcels = []\n",
    "    def assign(self, parcel: str) -> None:\n",
    "        self.parcels.append(parcel)\n",
    "    def deliver(self) -> None:\n",
    "        for parcel in self.parcels:\n",
    "            print(parcel, \"배달 중\")\n",
    "class JejuCourier(Courier):\n",
    "    def __init__(self, name: str, ticket: int):\n",
    "        super().__init__(name) \n",
    "        self.ticket = ticket\n",
    "    def deliver(self) -> None: \n",
    "        print(self.ticket, \"티켓으로 제주도 이동\") \n",
    "        super().deliver()\n",
    "courier = JejuCourier('김 기사', 15) \n",
    "courier.assign('편지') \n",
    "courier.deliver()\n",
    "super(JejuCourier, courier).deliver()"
   ]
  },
  {
   "cell_type": "code",
   "execution_count": 74,
   "id": "5079bb69",
   "metadata": {},
   "outputs": [
    {
     "name": "stdout",
     "output_type": "stream",
     "text": [
      "1\n",
      "1\n"
     ]
    }
   ],
   "source": [
    "class Number():\n",
    "    @staticmethod                                                                                                                                                                               \n",
    "    def echo_1():\n",
    "        print(1)\n",
    "        \n",
    "Number.echo_1()\n",
    "\n",
    "a=Number()\n",
    "a.echo_1()\n"
   ]
  },
  {
   "cell_type": "code",
   "execution_count": null,
   "id": "502eb580",
   "metadata": {},
   "outputs": [],
   "source": []
  }
 ],
 "metadata": {
  "kernelspec": {
   "display_name": "Python 3 (ipykernel)",
   "language": "python",
   "name": "python3"
  },
  "language_info": {
   "codemirror_mode": {
    "name": "ipython",
    "version": 3
   },
   "file_extension": ".py",
   "mimetype": "text/x-python",
   "name": "python",
   "nbconvert_exporter": "python",
   "pygments_lexer": "ipython3",
   "version": "3.9.16"
  }
 },
 "nbformat": 4,
 "nbformat_minor": 5
}
