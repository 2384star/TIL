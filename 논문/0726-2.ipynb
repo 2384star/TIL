{
 "cells": [
  {
   "cell_type": "code",
   "execution_count": 2,
   "id": "39a4c24c",
   "metadata": {},
   "outputs": [
    {
     "name": "stdout",
     "output_type": "stream",
     "text": [
      "[[0, 1, 2, 3, 4, 5, 6, 7, 8, 9], [0, 1, 2, 3, 4, 5, 6, 7, 8, 9], [0, 1, 2, 3, 4, 5, 6, 7, 8, 9], [0, 1, 2, 3, 4, 5, 6, 7, 8, 9], [0, 1, 2, 3, 4, 5, 6, 7, 8, 9], [0, 1, 2, 3, 4, 5, 6, 7, 8, 9], [0, 1, 2, 3, 4, 5, 6, 7, 8, 9], [0, 1, 2, 3, 4, 5, 6, 7, 8, 9], [0, 1, 2, 3, 4, 5, 6, 7, 8, 9], [0, 1, 2, 3, 4, 5, 6, 7, 8, 9]]\n"
     ]
    }
   ],
   "source": [
    "import pickle\n",
    "\n",
    "with open(\"test.pkl\",\"rb\") as fd:\n",
    "    obj = pickle.load(fd)\n",
    "    \n",
    "print(obj)"
   ]
  },
  {
   "cell_type": "code",
   "execution_count": 4,
   "id": "5cf39ab7",
   "metadata": {},
   "outputs": [
    {
     "name": "stdout",
     "output_type": "stream",
     "text": [
      "4.500+3.700j\n"
     ]
    }
   ],
   "source": [
    "import pickle\n",
    "\n",
    "class Complex:\n",
    "    def __init__(self, real, img):\n",
    "        self.real = real\n",
    "        self.img = img\n",
    "    \n",
    "    def __str__(self):\n",
    "        return f\"{self.real:.3f}+{self.img:.3f}j\"\n",
    "    \n",
    "    def __add__(self, other):\n",
    "        return Complex(\n",
    "            self.real + other.real,\n",
    "            self.img + other.img\n",
    "        )\n",
    "\n",
    "a = Complex(1.2, 3.3)\n",
    "b = Complex(3.3, .4)\n",
    "\n",
    "print(a + b)\n",
    "with open(\"test.pkl\",\"wb\")as fd:\n",
    "    pickle.dump(a,fd)"
   ]
  },
  {
   "cell_type": "code",
   "execution_count": 12,
   "id": "892f0013",
   "metadata": {},
   "outputs": [],
   "source": [
    "import csv\n",
    "with open(\"test.csv\",\"r\") as fd:\n",
    "    reader=csv.reader(fd)\n",
    "    "
   ]
  },
  {
   "cell_type": "code",
   "execution_count": 13,
   "id": "0d3a5e95",
   "metadata": {},
   "outputs": [],
   "source": [
    "import csv\n",
    "with open(\"test.csv\",\"w\") as fd:\n",
    "    writer=csv.writer(fd)\n",
    "    \n",
    "    writer.writerow((\"이름\",\"학번\",\"id\"))\n",
    "    "
   ]
  },
  {
   "cell_type": "code",
   "execution_count": 11,
   "id": "6e5299d2",
   "metadata": {},
   "outputs": [
    {
     "data": {
      "text/plain": [
       "<_csv.reader at 0x1185094a0>"
      ]
     },
     "execution_count": 11,
     "metadata": {},
     "output_type": "execute_result"
    }
   ],
   "source": [
    "reader"
   ]
  },
  {
   "cell_type": "code",
   "execution_count": null,
   "id": "a3453929",
   "metadata": {},
   "outputs": [],
   "source": []
  }
 ],
 "metadata": {
  "kernelspec": {
   "display_name": "Python 3 (ipykernel)",
   "language": "python",
   "name": "python3"
  },
  "language_info": {
   "codemirror_mode": {
    "name": "ipython",
    "version": 3
   },
   "file_extension": ".py",
   "mimetype": "text/x-python",
   "name": "python",
   "nbconvert_exporter": "python",
   "pygments_lexer": "ipython3",
   "version": "3.9.16"
  }
 },
 "nbformat": 4,
 "nbformat_minor": 5
}
