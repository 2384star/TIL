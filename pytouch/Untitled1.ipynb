{
 "cells": [
  {
   "cell_type": "code",
   "execution_count": 1,
   "id": "512fd634",
   "metadata": {},
   "outputs": [],
   "source": [
    "import torch"
   ]
  },
  {
   "cell_type": "markdown",
   "id": "8d47d6c1",
   "metadata": {},
   "source": [
    "- 파이썬 숫자는 겍채다\n",
    "- 파이썬에서 리스트는 연속된 겍채의 컬렉션이다\n",
    "- 파이썬 인터프리터는 최적화를 거치는 컴파일된 코드보다 느리다"
   ]
  },
  {
   "cell_type": "markdown",
   "id": "b8943374",
   "metadata": {},
   "source": [
    "### 파이썬 숫자타입 \n"
   ]
  },
  {
   "cell_type": "code",
   "execution_count": 6,
   "id": "607cd540",
   "metadata": {},
   "outputs": [
    {
     "data": {
      "text/plain": [
       "torch.int64"
      ]
     },
     "execution_count": 6,
     "metadata": {},
     "output_type": "execute_result"
    }
   ],
   "source": [
    "torch.float16 # 16비트 소수\n",
    "torch.float32 # 32비트 소수\n",
    "torch.float64 #64q비트 소수\n",
    "\n",
    "torch.int8 #8비트 정수t\n",
    "torch.uint8 #8비트 부호없는 정수\n",
    "\n",
    "torch.int16 #16정수\n",
    "torch.int32  #32저웃\n",
    "torch.int64 #64정수\n",
    "torch.bool #불리언\n",
    " \n",
    "##텐서의 기본타입은 32비트 부동소수점 \n",
    "torch.tensor([2,2]).dtype   "
   ]
  },
  {
   "cell_type": "code",
   "execution_count": 7,
   "id": "1e8bd55a",
   "metadata": {},
   "outputs": [],
   "source": [
    "double_points = torch.ones(10,2,dtype=torch.double)\n",
    "short_points=torch.tensor([[1,2],[3,4]],dtype=torch.short) #int16"
   ]
  },
  {
   "cell_type": "code",
   "execution_count": 11,
   "id": "396b302a",
   "metadata": {},
   "outputs": [],
   "source": [
    "short_points.dtype\n",
    "##타입반환가능\n",
    "double_points=torch.zeros(10,2).double()\n",
    "short_points=torch.ones(10,2).short()"
   ]
  },
  {
   "cell_type": "code",
   "execution_count": 14,
   "id": "d8824b60",
   "metadata": {},
   "outputs": [],
   "source": [
    "#to메소드 활용\n",
    "#타입변환\n",
    "double_points=torch.zeros(10,2).to(torch.double)\n",
    "short_points=torch.ones(10,2).to(torch.short)\n",
    "\n"
   ]
  },
  {
   "cell_type": "code",
   "execution_count": 15,
   "id": "9918e811",
   "metadata": {},
   "outputs": [
    {
     "data": {
      "text/plain": [
       "tensor([0., 0., 0., 0., 0.], dtype=torch.float64)"
      ]
     },
     "execution_count": 15,
     "metadata": {},
     "output_type": "execute_result"
    }
   ],
   "source": [
    "##여러 타입의 연산을 할때 가장 큰 타입의 기준으로 연산이됨\n",
    "point64=torch.rand(5,dtype=torch.double)\n",
    "point_short= point64.to(torch.short)\n",
    "point64*point_short  #높은 타입의 연산이 출력된걸 확인할수 있음"
   ]
  },
  {
   "cell_type": "markdown",
   "id": "1cbd0c34",
   "metadata": {},
   "source": [
    "##  문서참고\n",
    "- https://pytorch.org/docs/stable/index.html"
   ]
  },
  {
   "cell_type": "code",
   "execution_count": 19,
   "id": "dbc355b1",
   "metadata": {},
   "outputs": [
    {
     "name": "stdout",
     "output_type": "stream",
     "text": [
      "tensor([[1., 1.],\n",
      "        [1., 1.],\n",
      "        [1., 1.]])\n",
      "tensor([[1., 1., 1.],\n",
      "        [1., 1., 1.]])\n"
     ]
    },
    {
     "data": {
      "text/plain": [
       "(torch.Size([3, 2]), torch.Size([2, 3]))"
      ]
     },
     "execution_count": 19,
     "metadata": {},
     "output_type": "execute_result"
    }
   ],
   "source": [
    "a=torch.ones(3,2)\n",
    "print(a)\n",
    "a_t=torch.transpose(a,0,1) #input  dim 1 dim2 차원을 바꾸고싶은 두차원\n",
    "print(a_t)\n",
    "a.shape, a_t.shape"
   ]
  },
  {
   "cell_type": "code",
   "execution_count": 21,
   "id": "ae699a37",
   "metadata": {},
   "outputs": [
    {
     "data": {
      "text/plain": [
       "(torch.Size([3, 2]), torch.Size([2, 3]))"
      ]
     },
     "execution_count": 21,
     "metadata": {},
     "output_type": "execute_result"
    }
   ],
   "source": [
    "a=torch.ones(3,2)\n",
    "a_t=a.transpose(0,1)\n",
    "a.shape, a_t.shape"
   ]
  },
  {
   "cell_type": "code",
   "execution_count": 23,
   "id": "ace3b3dd",
   "metadata": {},
   "outputs": [
    {
     "data": {
      "text/plain": [
       " 4.0\n",
       " 1.0\n",
       " 5.0\n",
       " 3.0\n",
       " 2.0\n",
       " 1.0\n",
       "[torch.storage._TypedStorage(dtype=torch.float32, device=cpu) of size 6]"
      ]
     },
     "execution_count": 23,
     "metadata": {},
     "output_type": "execute_result"
    }
   ],
   "source": [
    "points=torch.tensor([[4.0,1.0,],[5.0,3.0,],[2.0,1.0,]])\n",
    "points.storage()"
   ]
  },
  {
   "cell_type": "code",
   "execution_count": 30,
   "id": "44cc8592",
   "metadata": {},
   "outputs": [
    {
     "data": {
      "text/plain": [
       "tensor([[15.,  1.],\n",
       "        [ 5.,  3.],\n",
       "        [ 2.,  1.]])"
      ]
     },
     "execution_count": 30,
     "metadata": {},
     "output_type": "execute_result"
    }
   ],
   "source": [
    "#포인터 식개념으로 접근이됨 따라서 포인터처럼 접근가능\n",
    "points_storage=points.storage()\n",
    "points_storage[0]\n",
    "points_storage[1]\n",
    "points_storage[5]\n",
    "#이를보여주는건 실제 저장곤간을 1차원 배열이라는걸 보여준다 \n",
    "\n",
    "#응용 참조하고잇는 포인터를 이용해서 값바꾸기\n",
    "points=torch.tensor([[4.0,1.0,],[5.0,3.0,],[2.0,1.0,]])\n",
    "points_storage=points.storage()\n",
    "points_storage[0]=15.0\n",
    "points #해당 주소값을 참조해서 points의 값을 바꿔버림\n"
   ]
  },
  {
   "cell_type": "code",
   "execution_count": 35,
   "id": "85a61308",
   "metadata": {},
   "outputs": [
    {
     "name": "stdout",
     "output_type": "stream",
     "text": [
      "tensor([[0., 0.],\n",
      "        [0., 0.],\n",
      "        [0., 0.]])\n"
     ]
    },
    {
     "data": {
      "text/plain": [
       "tensor([[0., 0.],\n",
       "        [0., 0.],\n",
       "        [0., 0.]])"
      ]
     },
     "execution_count": 35,
     "metadata": {},
     "output_type": "execute_result"
    }
   ],
   "source": [
    "a=torch.ones(3,2)\n",
    "\n",
    "a.zero_() #a자체를 인플레이스 해버림 즉 a자체를바꿔버림\n",
    "a\n",
    "b = torch.zeros_like(a)\n",
    "print(b)\n",
    "\n",
    "b=torch.zeros(3,2) #바뀌지않고 뷰로만 \n",
    "b"
   ]
  },
  {
   "cell_type": "code",
   "execution_count": 51,
   "id": "7fe46aea",
   "metadata": {},
   "outputs": [
    {
     "data": {
      "text/plain": [
       "(2, 1)"
      ]
     },
     "execution_count": 51,
     "metadata": {},
     "output_type": "execute_result"
    }
   ],
   "source": [
    "## 텐서의 구조 오프셋 스트라이즈 차원\n",
    "points=torch.tensor([[4.0,1.0,],[5.0,3.0,],[2.0,1.0,]])\n",
    "seceond_point=points[2]\n",
    "seceond_point.storage_offset()\n",
    "\n",
    "seceond_point.size()\n",
    "seceond_point.shape\n",
    "seceond_point.storage_offset()  #전체 메모리에서 해당인덱스의 거리 \n",
    "points.stride() #각 차원에 대해 한 원소에서 다음 원소로 넘어가기 위해 스토리지에서 얼마나 많은 위치를 건너뛰어야 하는지를 나타내는 값\n",
    "#3행 2열짜리의 행렬은 1행당 2개의 열이잇으니 2 , 열의 간격으로 넘어갈때 간격이 1 즉 (2,1)\n"
   ]
  },
  {
   "cell_type": "code",
   "execution_count": 61,
   "id": "b6d61779",
   "metadata": {},
   "outputs": [
    {
     "data": {
      "text/plain": [
       "(1,)"
      ]
     },
     "execution_count": 61,
     "metadata": {},
     "output_type": "execute_result"
    }
   ],
   "source": [
    "seceond_point=points[1]\n",
    "seceond_point.size()\n",
    "\n",
    "seceond_point.storage_offset()\n",
    "seceond_point.stride()"
   ]
  },
  {
   "cell_type": "markdown",
   "id": "2b19566e",
   "metadata": {},
   "source": [
    "## 주의 할점 !! \n",
    "- 세텐서를 선언하고 값을 변경해도 기존 텐서의 값이 변환된다"
   ]
  },
  {
   "cell_type": "code",
   "execution_count": 62,
   "id": "a9e81be4",
   "metadata": {},
   "outputs": [
    {
     "data": {
      "text/plain": [
       "tensor([[ 4.,  1.],\n",
       "        [10.,  3.],\n",
       "        [ 2.,  1.]])"
      ]
     },
     "execution_count": 62,
     "metadata": {},
     "output_type": "execute_result"
    }
   ],
   "source": [
    "\n",
    "seceond_point[0]=10.0\n",
    "points  #포인터로 인해  [1][0] 의 원래 텐서가 변경됨"
   ]
  },
  {
   "cell_type": "markdown",
   "id": "cde21445",
   "metadata": {},
   "source": [
    "- 오류를 범하기 쉬운방법이므로 서브텐서를 새탠서로 복제하자"
   ]
  },
  {
   "cell_type": "code",
   "execution_count": 63,
   "id": "f1a0f465",
   "metadata": {},
   "outputs": [
    {
     "data": {
      "text/plain": [
       "tensor([[4., 1.],\n",
       "        [5., 3.],\n",
       "        [2., 1.]])"
      ]
     },
     "execution_count": 63,
     "metadata": {},
     "output_type": "execute_result"
    }
   ],
   "source": [
    "points=torch.tensor([[4.0,1.0,],[5.0,3.0,],[2.0,1.0,]])\n",
    "seceond_point=points[1].clone()\n",
    "seceond_point[0]=10.0\n",
    "points"
   ]
  },
  {
   "cell_type": "markdown",
   "id": "b7082796",
   "metadata": {},
   "source": [
    "- 복사없이 행렬 전치하기"
   ]
  },
  {
   "cell_type": "code",
   "execution_count": 73,
   "id": "3af96506",
   "metadata": {},
   "outputs": [
    {
     "name": "stdout",
     "output_type": "stream",
     "text": [
      "tensor([[4., 5., 2.],\n",
      "        [1., 3., 1.]])\n"
     ]
    },
    {
     "data": {
      "text/plain": [
       "((2, 1), (1, 2))"
      ]
     },
     "execution_count": 73,
     "metadata": {},
     "output_type": "execute_result"
    }
   ],
   "source": [
    "\n",
    "points=torch.tensor([[4.0,1.0,],[5.0,3.0,],[2.0,1.0,]])\n",
    "points\n",
    "points_t= points.t() # points 텐서의 전치(transpose)를 반환\n",
    "print(points_t)\n",
    "#전치햇는대 위 두코드가 똑같이 메모리를 할당하고 있을가?\n",
    "id(points.storage())== id(points_t.storage()) #트루가뜸 #id = 고유한 식별자(주소)를 반환\n",
    "points.stride(), points_t.stride() #텐서의 t는 view만 바꾸기만할뿐 텐서의 메모리 배열을 바꿔지 않기때문에 저값이 출력된다"
   ]
  },
  {
   "cell_type": "markdown",
   "id": "5a4012e2",
   "metadata": {},
   "source": [
    "## 다차원 전치"
   ]
  },
  {
   "cell_type": "code",
   "execution_count": 81,
   "id": "bd74fe9a",
   "metadata": {},
   "outputs": [
    {
     "name": "stdout",
     "output_type": "stream",
     "text": [
      "tensor([[[1., 1., 1., 1., 1.],\n",
      "         [1., 1., 1., 1., 1.],\n",
      "         [1., 1., 1., 1., 1.],\n",
      "         [1., 1., 1., 1., 1.]],\n",
      "\n",
      "        [[1., 1., 1., 1., 1.],\n",
      "         [1., 1., 1., 1., 1.],\n",
      "         [1., 1., 1., 1., 1.],\n",
      "         [1., 1., 1., 1., 1.]],\n",
      "\n",
      "        [[1., 1., 1., 1., 1.],\n",
      "         [1., 1., 1., 1., 1.],\n",
      "         [1., 1., 1., 1., 1.],\n",
      "         [1., 1., 1., 1., 1.]]]) \n",
      " torch.Size([3, 4, 5])\n",
      "tensor([[[1., 1., 1.],\n",
      "         [1., 1., 1.],\n",
      "         [1., 1., 1.],\n",
      "         [1., 1., 1.]],\n",
      "\n",
      "        [[1., 1., 1.],\n",
      "         [1., 1., 1.],\n",
      "         [1., 1., 1.],\n",
      "         [1., 1., 1.]],\n",
      "\n",
      "        [[1., 1., 1.],\n",
      "         [1., 1., 1.],\n",
      "         [1., 1., 1.],\n",
      "         [1., 1., 1.]],\n",
      "\n",
      "        [[1., 1., 1.],\n",
      "         [1., 1., 1.],\n",
      "         [1., 1., 1.],\n",
      "         [1., 1., 1.]],\n",
      "\n",
      "        [[1., 1., 1.],\n",
      "         [1., 1., 1.],\n",
      "         [1., 1., 1.],\n",
      "         [1., 1., 1.]]]) \n",
      " torch.Size([5, 4, 3])\n",
      "somt_t->stride= (20, 5, 1)\n",
      "transpose_t->stride= (1, 5, 20)\n"
     ]
    }
   ],
   "source": [
    "some_t =torch.ones(3,4,5)\n",
    "print(some_t,\"\\n\",some_t.shape)\n",
    "transpose_t =some_t.transpose(0,2) #0번째와 2번째의 차원을 바꿈 --> 5* 4 * 3\n",
    "print(transpose_t,\"\\n\",transpose_t.shape)\n",
    "print(f\"somt_t->stride= {some_t.stride()}\")\n",
    "print(f\"transpose_t->stride= {transpose_t.stride()}\") #-> 20 -> 5 ->1   ----> 1 5 20\n"
   ]
  },
  {
   "cell_type": "code",
   "execution_count": 85,
   "id": "2d53fbe9",
   "metadata": {},
   "outputs": [
    {
     "data": {
      "text/plain": [
       "False"
      ]
     },
     "execution_count": 85,
     "metadata": {},
     "output_type": "execute_result"
    }
   ],
   "source": [
    "points.is_contiguous()\n",
    "points_t.is_contiguous()"
   ]
  },
  {
   "cell_type": "code",
   "execution_count": 96,
   "id": "d060729e",
   "metadata": {},
   "outputs": [
    {
     "name": "stdout",
     "output_type": "stream",
     "text": [
      " 4.0\n",
      " 1.0\n",
      " 5.0\n",
      " 3.0\n",
      " 2.0\n",
      " 1.0\n",
      "[torch.storage._TypedStorage(dtype=torch.float32, device=cpu) of size 6]\n",
      "(2, 1)\n"
     ]
    }
   ],
   "source": [
    "#인접하지않는 텐서를 인접한 텐서로 만들자\n",
    "points=torch.tensor([[4.0,1.0],[5.0,3.0],[2.0,1.0]])\n",
    "points_t=points.t()\n",
    "points_t\n",
    "print(points_t.storage())\n",
    "print(points.stride())"
   ]
  },
  {
   "cell_type": "markdown",
   "id": "d8bf4b37",
   "metadata": {},
   "source": [
    "## contiguous\n",
    "- 연속적인 배열의 메모리 할당이 되엇느냐?"
   ]
  },
  {
   "cell_type": "code",
   "execution_count": 95,
   "id": "c17397e8",
   "metadata": {},
   "outputs": [
    {
     "data": {
      "text/plain": [
       "( 4.0\n",
       "  5.0\n",
       "  2.0\n",
       "  1.0\n",
       "  3.0\n",
       "  1.0\n",
       " [torch.storage._TypedStorage(dtype=torch.float32, device=cpu) of size 6],\n",
       " (3, 1))"
      ]
     },
     "execution_count": 95,
     "metadata": {},
     "output_type": "execute_result"
    }
   ],
   "source": [
    "##컨티기어스를 적용하면?\n",
    "points_cont=points_t.contiguous()\n",
    "points_cont\n",
    "\n",
    "points_cont.storage() ,points_cont.stride()\n",
    "#앞서 말한 문제를 즉 트렌스포즈할때 배열을 바뀌지않앗던 문제를 해결해줫다 열순서로 \n"
   ]
  },
  {
   "cell_type": "code",
   "execution_count": null,
   "id": "282aecca",
   "metadata": {},
   "outputs": [],
   "source": []
  }
 ],
 "metadata": {
  "kernelspec": {
   "display_name": "Python 3 (ipykernel)",
   "language": "python",
   "name": "python3"
  },
  "language_info": {
   "codemirror_mode": {
    "name": "ipython",
    "version": 3
   },
   "file_extension": ".py",
   "mimetype": "text/x-python",
   "name": "python",
   "nbconvert_exporter": "python",
   "pygments_lexer": "ipython3",
   "version": "3.9.16"
  }
 },
 "nbformat": 4,
 "nbformat_minor": 5
}
