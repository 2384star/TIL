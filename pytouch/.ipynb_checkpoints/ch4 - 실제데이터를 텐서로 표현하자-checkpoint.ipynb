{
 "cells": [
  {
   "cell_type": "code",
   "execution_count": 1,
   "id": "559d43d3",
   "metadata": {},
   "outputs": [
    {
     "name": "stderr",
     "output_type": "stream",
     "text": [
      "/var/folders/jj/2hvrxhh50kd174vgps9cn0r00000gn/T/ipykernel_10724/4043929356.py:3: DeprecationWarning: Starting with ImageIO v3 the behavior of this function will switch to that of iio.v3.imread. To keep the current behavior (and make this warning disappear) use `import imageio.v2 as imageio` or call `imageio.v2.imread` directly.\n",
      "  img_arr =imageio.imread(\"./dataset/pytorch/data/p1ch4/image-dog/bobby.jpg\") #이미지를 numpuy로불러옴\n"
     ]
    }
   ],
   "source": [
    "import imageio  #이미지와 비디오 자료를 쉽게 읽고 쓸수잇게 도와주는 라이브러리\n",
    "\n",
    "img_arr =imageio.imread(\"./dataset/pytorch/data/p1ch4/image-dog/bobby.jpg\") #이미지를 numpuy로불러옴"
   ]
  },
  {
   "cell_type": "code",
   "execution_count": 2,
   "id": "46eff14b",
   "metadata": {},
   "outputs": [
    {
     "data": {
      "text/plain": [
       "(720, 1280, 3)"
      ]
     },
     "execution_count": 2,
     "metadata": {},
     "output_type": "execute_result"
    }
   ],
   "source": [
    "img_arr\n",
    "img_arr.shape  #d h*2*c"
   ]
  },
  {
   "cell_type": "code",
   "execution_count": 3,
   "id": "5177b2df",
   "metadata": {},
   "outputs": [
    {
     "name": "stdout",
     "output_type": "stream",
     "text": [
      "(3, 720, 1280)\n",
      "torch.Size([3, 720, 1280])\n",
      "torch.Size([3, 720, 1280])\n"
     ]
    }
   ],
   "source": [
    "import torch\n",
    "#1. 방법 트렌스포즈\n",
    "img= img_arr.transpose(2,0,1)\n",
    "print(img.shape)\n",
    "#2방법 permute\n",
    "img= torch.tensor(img_arr).permute(2,0,1)\n",
    "print(img.shape)\n",
    "#방법\n",
    "img=torch.from_numpy(img_arr)\n",
    "img=img.permute(2,0,1)\n",
    "print(img.shape)"
   ]
  },
  {
   "cell_type": "markdown",
   "id": "ef5afd03",
   "metadata": {},
   "source": [
    "### 여러 이미지를 핸들링 시켜보자"
   ]
  },
  {
   "cell_type": "code",
   "execution_count": 4,
   "id": "5ea021cf",
   "metadata": {},
   "outputs": [
    {
     "data": {
      "text/plain": [
       "torch.Size([3, 3, 256, 256])"
      ]
     },
     "execution_count": 4,
     "metadata": {},
     "output_type": "execute_result"
    }
   ],
   "source": [
    "batch_size=3\n",
    "batch=torch.zeros(batch_size,3,256,256,dtype=torch.uint8) # 3* 256*256 8비트정수표현\n",
    "batch.shape"
   ]
  },
  {
   "cell_type": "code",
   "execution_count": 5,
   "id": "8b77b48c",
   "metadata": {},
   "outputs": [
    {
     "name": "stdout",
     "output_type": "stream",
     "text": [
      "torch.Size([3, 256, 256])\n",
      "torch.Size([3, 256, 256])\n",
      "torch.Size([3, 3, 256, 256])\n",
      "\n",
      "\n",
      "torch.Size([3, 256, 256])\n",
      "torch.Size([3, 256, 256])\n",
      "torch.Size([3, 3, 256, 256])\n",
      "\n",
      "\n",
      "torch.Size([3, 256, 256])\n",
      "torch.Size([3, 256, 256])\n",
      "torch.Size([3, 3, 256, 256])\n",
      "\n",
      "\n"
     ]
    },
    {
     "name": "stderr",
     "output_type": "stream",
     "text": [
      "/var/folders/jj/2hvrxhh50kd174vgps9cn0r00000gn/T/ipykernel_10724/3188146558.py:9: DeprecationWarning: Starting with ImageIO v3 the behavior of this function will switch to that of iio.v3.imread. To keep the current behavior (and make this warning disappear) use `import imageio.v2 as imageio` or call `imageio.v2.imread` directly.\n",
      "  img_arr=imageio.imread(os.path.join(data_dir,filenames))\n"
     ]
    }
   ],
   "source": [
    "import os \n",
    "data_dir =\"./dataset/pytorch/data/p1ch4/image-cats/\"\n",
    "filenames=[name for name in os.listdir(data_dir)\n",
    "          if os.path.splitext(name)[-1]== \".png\"] #마지막 부분  즉 파일확장자가 png인지 확인 \n",
    "\n",
    "\n",
    "#.을기준으로 확장자를 split\n",
    "for i,filenames in enumerate(filenames):\n",
    "    img_arr=imageio.imread(os.path.join(data_dir,filenames))\n",
    "    img_t=torch.from_numpy(img_arr)\n",
    "    img_t=img_t.permute(2,0,1)\n",
    "    print(img_t.shape)\n",
    "    img_t=img_t[:3] # 기본 채널수는 rgb가맞지만 만약을위해 3개로 자름\n",
    "    print(img_t.shape)\n",
    "    batch[i]=img_t #이미지를 배치개수만큼저장\n",
    "    print(batch.shape)\n",
    "    print(\"\\n\")"
   ]
  },
  {
   "cell_type": "markdown",
   "id": "0aef62ce",
   "metadata": {},
   "source": [
    "## 데이터정규화\n"
   ]
  },
  {
   "cell_type": "code",
   "execution_count": 6,
   "id": "e8819a74",
   "metadata": {},
   "outputs": [
    {
     "data": {
      "text/plain": [
       "tensor([[[[0.6118, 0.5961, 0.4863,  ..., 0.5882, 0.5843, 0.6196],\n",
       "          [0.6824, 0.5255, 0.6471,  ..., 0.4706, 0.5333, 0.5412],\n",
       "          [0.4980, 0.6118, 0.4196,  ..., 0.5137, 0.5608, 0.6431],\n",
       "          ...,\n",
       "          [0.4549, 0.5098, 0.5059,  ..., 0.4980, 0.4627, 0.4392],\n",
       "          [0.5059, 0.5098, 0.4824,  ..., 0.4510, 0.4745, 0.4471],\n",
       "          [0.5059, 0.4824, 0.4627,  ..., 0.4431, 0.4745, 0.4706]],\n",
       "\n",
       "         [[0.5451, 0.5294, 0.4275,  ..., 0.5294, 0.5294, 0.5765],\n",
       "          [0.6275, 0.4667, 0.5843,  ..., 0.4118, 0.4784, 0.4863],\n",
       "          [0.4431, 0.5490, 0.3529,  ..., 0.4627, 0.5059, 0.5961],\n",
       "          ...,\n",
       "          [0.3882, 0.4314, 0.4353,  ..., 0.4588, 0.4235, 0.4039],\n",
       "          [0.4353, 0.4353, 0.4157,  ..., 0.4157, 0.4392, 0.4118],\n",
       "          [0.4353, 0.4078, 0.4000,  ..., 0.4039, 0.4314, 0.4353]],\n",
       "\n",
       "         [[0.5059, 0.4824, 0.3843,  ..., 0.5137, 0.5176, 0.5686],\n",
       "          [0.6078, 0.4314, 0.5373,  ..., 0.4000, 0.4667, 0.4745],\n",
       "          [0.4078, 0.5176, 0.3137,  ..., 0.4392, 0.4902, 0.5725],\n",
       "          ...,\n",
       "          [0.3647, 0.4235, 0.4118,  ..., 0.4902, 0.4510, 0.4235],\n",
       "          [0.4235, 0.4235, 0.3843,  ..., 0.4314, 0.4588, 0.4314],\n",
       "          [0.4196, 0.3843, 0.3725,  ..., 0.4235, 0.4510, 0.4549]]],\n",
       "\n",
       "\n",
       "        [[[0.7922, 0.7569, 0.7451,  ..., 0.0510, 0.0510, 0.0471],\n",
       "          [0.7804, 0.7529, 0.7412,  ..., 0.0549, 0.0549, 0.0549],\n",
       "          [0.7765, 0.7569, 0.7373,  ..., 0.0471, 0.0471, 0.0471],\n",
       "          ...,\n",
       "          [0.3647, 0.3216, 0.2980,  ..., 0.1412, 0.1412, 0.1412],\n",
       "          [0.2941, 0.2667, 0.3961,  ..., 0.1412, 0.1412, 0.1451],\n",
       "          [0.3333, 0.4039, 0.3529,  ..., 0.1412, 0.1451, 0.1490]],\n",
       "\n",
       "         [[0.5922, 0.5451, 0.5216,  ..., 0.0353, 0.0353, 0.0314],\n",
       "          [0.5922, 0.5490, 0.5255,  ..., 0.0431, 0.0431, 0.0431],\n",
       "          [0.5961, 0.5608, 0.5255,  ..., 0.0431, 0.0431, 0.0431],\n",
       "          ...,\n",
       "          [0.2235, 0.1765, 0.1529,  ..., 0.1020, 0.1020, 0.1020],\n",
       "          [0.1294, 0.1020, 0.2314,  ..., 0.1020, 0.1020, 0.1059],\n",
       "          [0.1569, 0.2275, 0.1765,  ..., 0.1020, 0.1059, 0.1098]],\n",
       "\n",
       "         [[0.2667, 0.2078, 0.1725,  ..., 0.0235, 0.0235, 0.0196],\n",
       "          [0.2627, 0.2118, 0.1725,  ..., 0.0235, 0.0235, 0.0235],\n",
       "          [0.2627, 0.2196, 0.1725,  ..., 0.0235, 0.0235, 0.0235],\n",
       "          ...,\n",
       "          [0.1216, 0.0745, 0.0471,  ..., 0.0667, 0.0667, 0.0667],\n",
       "          [0.0431, 0.0078, 0.1373,  ..., 0.0667, 0.0667, 0.0706],\n",
       "          [0.0745, 0.1451, 0.0863,  ..., 0.0667, 0.0706, 0.0745]]],\n",
       "\n",
       "\n",
       "        [[[0.9333, 0.9333, 0.9333,  ..., 0.8392, 0.8431, 0.8431],\n",
       "          [0.9333, 0.9333, 0.9333,  ..., 0.8392, 0.8431, 0.8431],\n",
       "          [0.9333, 0.9333, 0.9333,  ..., 0.8392, 0.8431, 0.8431],\n",
       "          ...,\n",
       "          [0.8392, 0.8353, 0.8314,  ..., 0.7333, 0.7451, 0.7569],\n",
       "          [0.8392, 0.8353, 0.8314,  ..., 0.7294, 0.7451, 0.7529],\n",
       "          [0.8392, 0.8353, 0.8314,  ..., 0.7294, 0.7451, 0.7529]],\n",
       "\n",
       "         [[0.7647, 0.7647, 0.7647,  ..., 0.6784, 0.6863, 0.6863],\n",
       "          [0.7647, 0.7647, 0.7647,  ..., 0.6784, 0.6863, 0.6863],\n",
       "          [0.7647, 0.7647, 0.7647,  ..., 0.6784, 0.6863, 0.6863],\n",
       "          ...,\n",
       "          [0.5020, 0.4980, 0.4941,  ..., 0.3922, 0.4039, 0.4157],\n",
       "          [0.5020, 0.4980, 0.4941,  ..., 0.3882, 0.4039, 0.4118],\n",
       "          [0.5020, 0.4980, 0.4941,  ..., 0.3882, 0.4039, 0.4118]],\n",
       "\n",
       "         [[0.5373, 0.5373, 0.5373,  ..., 0.4902, 0.4941, 0.4941],\n",
       "          [0.5373, 0.5373, 0.5373,  ..., 0.4902, 0.4941, 0.4941],\n",
       "          [0.5373, 0.5373, 0.5373,  ..., 0.4902, 0.4941, 0.4941],\n",
       "          ...,\n",
       "          [0.3098, 0.3059, 0.3020,  ..., 0.2510, 0.2667, 0.2824],\n",
       "          [0.3098, 0.3059, 0.3020,  ..., 0.2510, 0.2706, 0.2784],\n",
       "          [0.3098, 0.3059, 0.3020,  ..., 0.2549, 0.2706, 0.2824]]]])"
      ]
     },
     "execution_count": 6,
     "metadata": {},
     "output_type": "execute_result"
    }
   ],
   "source": [
    "batch=batch.float()\n",
    "batch /=255 #픽셀값을 부호없는 8비트 정수의 최대값인 255로나눔\n",
    "batch"
   ]
  },
  {
   "cell_type": "code",
   "execution_count": 7,
   "id": "0eca2b8c",
   "metadata": {},
   "outputs": [],
   "source": [
    "n_channels=batch.shape[1]\n",
    "n_channels\n",
    "#각 채널값이 정규 분포의 값을 가지게 만듬\n",
    "for c in range(n_channels):\n",
    "    mean=torch.mean(batch[: ,c])   #3채널의 w h 를 정규화\n",
    "    std= torch.std(batch[:,c])\n",
    "    batch[:,c]= (batch[:,c]-mean/std)"
   ]
  },
  {
   "cell_type": "code",
   "execution_count": null,
   "id": "3cfd1b36",
   "metadata": {},
   "outputs": [],
   "source": [
    "\n"
   ]
  },
  {
   "cell_type": "markdown",
   "id": "0c27038e",
   "metadata": {},
   "source": [
    "### 실제데이터불러오기\n",
    "- 1 의료데이터에서 쓰이는 3D 볼륨데이터를 보자\n",
    "- 2 와인데이터를 불러보자"
   ]
  },
  {
   "cell_type": "code",
   "execution_count": 8,
   "id": "696c0b1c",
   "metadata": {},
   "outputs": [
    {
     "name": "stdout",
     "output_type": "stream",
     "text": [
      "Reading DICOM (examining files): 1/99 files (1.0%99/99 files (100.0%)\n",
      "  Found 1 correct series.\n",
      "Reading DICOM (loading data): 99/99  (100.0%)\n"
     ]
    },
    {
     "data": {
      "text/plain": [
       "torch.Size([1, 99, 512, 512])"
      ]
     },
     "execution_count": 8,
     "metadata": {},
     "output_type": "execute_result"
    }
   ],
   "source": [
    "import imageio\n",
    "\n",
    "dir_path=\"./dataset/pytorch/data/p1ch4/volumetric-dicom/2-LUNG 3.0  B70f-04083\"\n",
    "vol_arr=imageio.volread(dir_path,\"DICOM\") #3D불륨데이터를 read\n",
    "vol_arr.shape ## 각도 h w \n",
    "\n",
    "vol=torch.from_numpy(vol_arr).float()\n",
    "vol=torch.unsqueeze(vol,0)\n",
    "vol.shape"
   ]
  },
  {
   "cell_type": "code",
   "execution_count": 9,
   "id": "ad33d42e",
   "metadata": {},
   "outputs": [],
   "source": [
    "import numpy as np"
   ]
  },
  {
   "cell_type": "code",
   "execution_count": 10,
   "id": "e4622d0b",
   "metadata": {},
   "outputs": [
    {
     "data": {
      "text/plain": [
       "array([[ 7.  ,  0.27,  0.36, ...,  0.45,  8.8 ,  6.  ],\n",
       "       [ 6.3 ,  0.3 ,  0.34, ...,  0.49,  9.5 ,  6.  ],\n",
       "       [ 8.1 ,  0.28,  0.4 , ...,  0.44, 10.1 ,  6.  ],\n",
       "       ...,\n",
       "       [ 6.5 ,  0.24,  0.19, ...,  0.46,  9.4 ,  6.  ],\n",
       "       [ 5.5 ,  0.29,  0.3 , ...,  0.38, 12.8 ,  7.  ],\n",
       "       [ 6.  ,  0.21,  0.38, ...,  0.32, 11.8 ,  6.  ]], dtype=float32)"
      ]
     },
     "execution_count": 10,
     "metadata": {},
     "output_type": "execute_result"
    }
   ],
   "source": [
    "import csv\n",
    "wine_path=\"./dataset/pytorch/data/p1ch4/tabular-wine/winequality-white.csv\"\n",
    "wineq_numpy=np.loadtxt(wine_path,dtype=np.float32,delimiter=\";\",skiprows=1) #delimiter=\"; 구분자\n",
    "wineq_numpy"
   ]
  },
  {
   "cell_type": "code",
   "execution_count": 11,
   "id": "49520f98",
   "metadata": {},
   "outputs": [
    {
     "data": {
      "text/plain": [
       "((4898, 12),\n",
       " ['fixed acidity',\n",
       "  'volatile acidity',\n",
       "  'citric acid',\n",
       "  'residual sugar',\n",
       "  'chlorides',\n",
       "  'free sulfur dioxide',\n",
       "  'total sulfur dioxide',\n",
       "  'density',\n",
       "  'pH',\n",
       "  'sulphates',\n",
       "  'alcohol',\n",
       "  'quality'])"
      ]
     },
     "execution_count": 11,
     "metadata": {},
     "output_type": "execute_result"
    }
   ],
   "source": [
    "#와인데이터의 컬럼값 구조확인\n",
    "col_list=next(csv.reader(open(wine_path),delimiter=\";\"))\n",
    "\n",
    "wineq_numpy.shape , col_list"
   ]
  },
  {
   "cell_type": "code",
   "execution_count": 12,
   "id": "c782ea4d",
   "metadata": {},
   "outputs": [
    {
     "data": {
      "text/plain": [
       "(torch.Size([4898, 12]), dtype('float32'))"
      ]
     },
     "execution_count": 12,
     "metadata": {},
     "output_type": "execute_result"
    }
   ],
   "source": [
    "wineq=torch.from_numpy(wineq_numpy)\n",
    "wineq.shape, wineq_numpy.dtype"
   ]
  },
  {
   "cell_type": "code",
   "execution_count": 13,
   "id": "8b85669b",
   "metadata": {},
   "outputs": [
    {
     "data": {
      "text/plain": [
       "(tensor([[ 7.0000,  0.2700,  0.3600,  ...,  3.0000,  0.4500,  8.8000],\n",
       "         [ 6.3000,  0.3000,  0.3400,  ...,  3.3000,  0.4900,  9.5000],\n",
       "         [ 8.1000,  0.2800,  0.4000,  ...,  3.2600,  0.4400, 10.1000],\n",
       "         ...,\n",
       "         [ 6.5000,  0.2400,  0.1900,  ...,  2.9900,  0.4600,  9.4000],\n",
       "         [ 5.5000,  0.2900,  0.3000,  ...,  3.3400,  0.3800, 12.8000],\n",
       "         [ 6.0000,  0.2100,  0.3800,  ...,  3.2600,  0.3200, 11.8000]]),\n",
       " torch.Size([4898, 11]))"
      ]
     },
     "execution_count": 13,
     "metadata": {},
     "output_type": "execute_result"
    }
   ],
   "source": [
    "data=wineq[:,:-1] #모든행 + 마지막열 제외하고 가져옴\n",
    "data ,data.shape "
   ]
  },
  {
   "cell_type": "code",
   "execution_count": 14,
   "id": "5f1a630a",
   "metadata": {},
   "outputs": [
    {
     "data": {
      "text/plain": [
       "(tensor([6., 6., 6.,  ..., 6., 7., 6.]), torch.Size([4898]))"
      ]
     },
     "execution_count": 14,
     "metadata": {},
     "output_type": "execute_result"
    }
   ],
   "source": [
    "target = wineq[:,-1] #모든행을 가져오고 마지막열을 선택\n",
    "target, target.shape  #연속형 변수로 인코딩해서 타겟결정"
   ]
  },
  {
   "cell_type": "code",
   "execution_count": 15,
   "id": "7001caab",
   "metadata": {},
   "outputs": [
    {
     "data": {
      "text/plain": [
       "torch.Size([4898])"
      ]
     },
     "execution_count": 15,
     "metadata": {},
     "output_type": "execute_result"
    }
   ],
   "source": [
    "target=wineq[:,-1].long()\n",
    "target.shape"
   ]
  },
  {
   "cell_type": "markdown",
   "id": "15daf894",
   "metadata": {},
   "source": [
    "### 원핫 인코딩 \n",
    "- 정답라벨표현법 2가지 target=wineq[:,-1].long() 타겟을 잡고 정수화시키기 연속형 변수로 인코딩\n",
    "- 원핫인코딩하기"
   ]
  },
  {
   "cell_type": "code",
   "execution_count": 16,
   "id": "f693598e",
   "metadata": {},
   "outputs": [
    {
     "name": "stdout",
     "output_type": "stream",
     "text": [
      "torch.Size([4898, 10])\n",
      "torch.Size([4898, 10])\n"
     ]
    },
    {
     "data": {
      "text/plain": [
       "tensor([[0., 0., 0.,  ..., 0., 0., 0.],\n",
       "        [0., 0., 0.,  ..., 0., 0., 0.],\n",
       "        [0., 0., 0.,  ..., 0., 0., 0.],\n",
       "        ...,\n",
       "        [0., 0., 0.,  ..., 0., 0., 0.],\n",
       "        [0., 0., 0.,  ..., 1., 0., 0.],\n",
       "        [0., 0., 0.,  ..., 0., 0., 0.]])"
      ]
     },
     "execution_count": 16,
     "metadata": {},
     "output_type": "execute_result"
    }
   ],
   "source": [
    "target_onehot=torch.zeros(target.shape[0],10) #제로로 넣고 ,2차원으로 하자 \n",
    "print(target_onehot.shape)\n",
    "target_onehot.scatter_(1,target.unsqueeze(1),1.0) #1은 기준이 되는 값 즉 여기서는 열기준  \n",
    "#2번째인자는 는 scatter될 값의 위치를 나타내는 인덱스입니다. 여기서는 #*1을 해서 각 값을 할당\n",
    "#3번째인자는 넣을값\n",
    "print(target_onehot.shape)\n",
    "target_onehot"
   ]
  },
  {
   "cell_type": "code",
   "execution_count": 17,
   "id": "058b977a",
   "metadata": {},
   "outputs": [
    {
     "data": {
      "text/plain": [
       "tensor([[6],\n",
       "        [6],\n",
       "        [6],\n",
       "        ...,\n",
       "        [6],\n",
       "        [7],\n",
       "        [6]])"
      ]
     },
     "execution_count": 17,
     "metadata": {},
     "output_type": "execute_result"
    }
   ],
   "source": [
    "target_insueezed=target.unsqueeze(1)\n",
    "target_insueezed"
   ]
  },
  {
   "cell_type": "code",
   "execution_count": 18,
   "id": "39cf5bf2",
   "metadata": {},
   "outputs": [
    {
     "data": {
      "text/plain": [
       "tensor([6.8548e+00, 2.7824e-01, 3.3419e-01, 6.3914e+00, 4.5772e-02, 3.5308e+01,\n",
       "        1.3836e+02, 9.9403e-01, 3.1883e+00, 4.8985e-01, 1.0514e+01])"
      ]
     },
     "execution_count": 18,
     "metadata": {},
     "output_type": "execute_result"
    }
   ],
   "source": [
    "data_mean=torch.mean(data,dim=0) #dim=0 열의 평균 1: 행의평균\n",
    "data_mean"
   ]
  },
  {
   "cell_type": "code",
   "execution_count": 19,
   "id": "8be031df",
   "metadata": {},
   "outputs": [
    {
     "data": {
      "text/plain": [
       "tensor([7.1211e-01, 1.0160e-02, 1.4646e-02, 2.5726e+01, 4.7733e-04, 2.8924e+02,\n",
       "        1.8061e+03, 8.9455e-06, 2.2801e-02, 1.3025e-02, 1.5144e+00])"
      ]
     },
     "execution_count": 19,
     "metadata": {},
     "output_type": "execute_result"
    }
   ],
   "source": [
    "data_var=torch.var(data,dim=0) #분산\n",
    "data_var"
   ]
  },
  {
   "cell_type": "markdown",
   "id": "d2810e46",
   "metadata": {},
   "source": [
    "## 데이터 정규화 시켜주기\n",
    "- 위에서 구한 평균값이랑 표준편차를 이용하여 데이터의 분산을 맟춰준다"
   ]
  },
  {
   "cell_type": "code",
   "execution_count": 20,
   "id": "027b38a9",
   "metadata": {},
   "outputs": [
    {
     "data": {
      "text/plain": [
       "tensor([[ 1.7208e-01, -8.1761e-02,  2.1326e-01,  ..., -1.2468e+00,\n",
       "         -3.4915e-01, -1.3930e+00],\n",
       "        [-6.5743e-01,  2.1587e-01,  4.7996e-02,  ...,  7.3995e-01,\n",
       "          1.3422e-03, -8.2419e-01],\n",
       "        [ 1.4756e+00,  1.7450e-02,  5.4378e-01,  ...,  4.7505e-01,\n",
       "         -4.3677e-01, -3.3663e-01],\n",
       "        ...,\n",
       "        [-4.2043e-01, -3.7940e-01, -1.1915e+00,  ..., -1.3130e+00,\n",
       "         -2.6153e-01, -9.0545e-01],\n",
       "        [-1.6054e+00,  1.1666e-01, -2.8253e-01,  ...,  1.0049e+00,\n",
       "         -9.6251e-01,  1.8574e+00],\n",
       "        [-1.0129e+00, -6.7703e-01,  3.7852e-01,  ...,  4.7505e-01,\n",
       "         -1.4882e+00,  1.0448e+00]])"
      ]
     },
     "execution_count": 20,
     "metadata": {},
     "output_type": "execute_result"
    }
   ],
   "source": [
    "data_nomal=(data-data_mean)/ torch.sqrt(data_var) # data-평균/제곱근\n",
    "data_nomal"
   ]
  },
  {
   "cell_type": "code",
   "execution_count": 21,
   "id": "d86515e0",
   "metadata": {},
   "outputs": [
    {
     "data": {
      "text/plain": [
       "(torch.Size([4898]), torch.bool, tensor(20))"
      ]
     },
     "execution_count": 21,
     "metadata": {},
     "output_type": "execute_result"
    }
   ],
   "source": [
    "## 임계값으로 찾아보기\n",
    "# 점수가 3이하인 열을 targetwprj\n",
    "bad_indexes=target <=3\n",
    "bad_indexes.shape, bad_indexes.dtype, bad_indexes.sum()"
   ]
  },
  {
   "cell_type": "code",
   "execution_count": 22,
   "id": "4784c8d4",
   "metadata": {},
   "outputs": [
    {
     "data": {
      "text/plain": [
       "torch.Size([20, 11])"
      ]
     },
     "execution_count": 22,
     "metadata": {},
     "output_type": "execute_result"
    }
   ],
   "source": [
    "bad_data=data[bad_indexes]\n",
    "bad_data.shape\n"
   ]
  },
  {
   "cell_type": "markdown",
   "id": "6c0214fe",
   "metadata": {},
   "source": [
    "### 와인정보 카테고리화"
   ]
  },
  {
   "cell_type": "code",
   "execution_count": 23,
   "id": "a6193056",
   "metadata": {},
   "outputs": [
    {
     "name": "stdout",
     "output_type": "stream",
     "text": [
      " 0 fixed acidity          7.60   6.89   6.68\n",
      " 1 volatile acidity       0.33   0.28   0.28\n",
      " 2 citric acid            0.34   0.34   0.33\n",
      " 3 residual sugar         6.39   6.71   5.63\n",
      " 4 chlorides              0.05   0.05   0.04\n",
      " 5 free sulfur dioxide   53.33  35.42  36.63\n",
      " 6 total sulfur dioxide 170.60 141.83 125.88\n",
      " 7 density                0.99   0.99   0.99\n",
      " 8 pH                     3.19   3.18   3.22\n",
      " 9 sulphates              0.47   0.49   0.49\n",
      "10 alcohol               10.34  10.26  11.65\n"
     ]
    }
   ],
   "source": [
    "bad_data=data[target<=3]  #나쁨\n",
    "mid_data=data[(target>3) & (target<7)]\n",
    "good_data= data[target>7]\n",
    "\n",
    "bad_mean=torch.mean(bad_data,dim=0)\n",
    "mid_mean=torch.mean(mid_data,dim=0)\n",
    "good_mean=torch.mean(good_data,dim=0)\n",
    "\n",
    "for i,args in enumerate(zip(col_list,bad_mean,mid_mean,good_mean)): \n",
    "    \n",
    "    print(\"{:2} {:20} {:6.2f} {:6.2f} {:6.2f}\".format(i,*args))"
   ]
  },
  {
   "cell_type": "markdown",
   "id": "a3ff2b21",
   "metadata": {},
   "source": [
    "- zip사용예시"
   ]
  },
  {
   "cell_type": "code",
   "execution_count": 24,
   "id": "24d47855",
   "metadata": {},
   "outputs": [
    {
     "name": "stdout",
     "output_type": "stream",
     "text": [
      "[(1, 'a', 4.5), (2, 'b', 5.6), (3, 'c', 6.7)]\n"
     ]
    }
   ],
   "source": [
    "a = [1, 2, 3]\n",
    "b = ['a', 'b', 'c']\n",
    "c = [4.5, 5.6, 6.7]\n",
    "\n",
    "zipped = list(zip(a, b, c))\n",
    "print(zipped)  # 출력: [(1, 'a', 4.5), (2, 'b', 5.6), (3, 'c', 6.7)]\n"
   ]
  },
  {
   "cell_type": "code",
   "execution_count": 25,
   "id": "56e2ec50",
   "metadata": {},
   "outputs": [
    {
     "data": {
      "text/plain": [
       "(torch.Size([4898]), torch.bool, tensor(2727))"
      ]
     },
     "execution_count": 25,
     "metadata": {},
     "output_type": "execute_result"
    }
   ],
   "source": [
    "total_sulfur_threshold=141.83\n",
    "total_sulfur_data=data[:,6]\n",
    "predicted_indexs=torch.lt(total_sulfur_data,total_sulfur_threshold)\n",
    "#torch.it (a,b) a의 원소들이 b보다 작은지 boool형태로 반한\n",
    "\n",
    "predicted_indexs.shape, predicted_indexs.dtype, predicted_indexs.sum()"
   ]
  },
  {
   "cell_type": "code",
   "execution_count": 26,
   "id": "59d0c6ec",
   "metadata": {},
   "outputs": [
    {
     "data": {
      "text/plain": [
       "(torch.Size([4898]), torch.bool, tensor(3258))"
      ]
     },
     "execution_count": 26,
     "metadata": {},
     "output_type": "execute_result"
    }
   ],
   "source": [
    "actual_indexes=target>5\n",
    "actual_indexes.shape ,actual_indexes.dtype, actual_indexes.sum()"
   ]
  },
  {
   "cell_type": "markdown",
   "id": "7d81f1dd",
   "metadata": {},
   "source": [
    "## 결과\n",
    "- 우리가 임계값으로 찾아본 2727개보다 높은 품질의 와인이 약 500개 더잇엇다 즉 완벽하지 않다\n",
    "- 얼마나 맟췃을지 한번 확인해보자"
   ]
  },
  {
   "cell_type": "code",
   "execution_count": 27,
   "id": "795d65cb",
   "metadata": {},
   "outputs": [
    {
     "name": "stdout",
     "output_type": "stream",
     "text": [
      "2727 3258\n"
     ]
    },
    {
     "data": {
      "text/plain": [
       "(2018, 0.74000733406674, 0.6193984039287906)"
      ]
     },
     "execution_count": 27,
     "metadata": {},
     "output_type": "execute_result"
    }
   ],
   "source": [
    "n_matchs=torch.sum(actual_indexes & predicted_indexs).item()\n",
    "\n",
    "n_predicted=torch.sum(predicted_indexs).item()\n",
    "n_actual=torch.sum(actual_indexes).item()\n",
    "print(n_predicted,n_actual)\n",
    "n_matchs, n_matchs/n_predicted , n_matchs/n_actual\n"
   ]
  },
  {
   "cell_type": "markdown",
   "id": "779ebdf0",
   "metadata": {},
   "source": [
    "## 시계열 데이터 다루기\n",
    "- 연속적인 시간상에서의 한 지점을 표현함"
   ]
  },
  {
   "cell_type": "code",
   "execution_count": 28,
   "id": "9bacefa6",
   "metadata": {},
   "outputs": [
    {
     "data": {
      "text/plain": [
       "(tensor([[1.0000e+00, 1.0000e+00, 1.0000e+00,  ..., 3.0000e+00, 1.3000e+01,\n",
       "          1.6000e+01],\n",
       "         [2.0000e+00, 1.0000e+00, 1.0000e+00,  ..., 8.0000e+00, 3.2000e+01,\n",
       "          4.0000e+01],\n",
       "         [3.0000e+00, 1.0000e+00, 1.0000e+00,  ..., 5.0000e+00, 2.7000e+01,\n",
       "          3.2000e+01],\n",
       "         ...,\n",
       "         [1.7377e+04, 3.1000e+01, 1.0000e+00,  ..., 7.0000e+00, 8.3000e+01,\n",
       "          9.0000e+01],\n",
       "         [1.7378e+04, 3.1000e+01, 1.0000e+00,  ..., 1.3000e+01, 4.8000e+01,\n",
       "          6.1000e+01],\n",
       "         [1.7379e+04, 3.1000e+01, 1.0000e+00,  ..., 1.2000e+01, 3.7000e+01,\n",
       "          4.9000e+01]]),\n",
       " torch.Size([17520, 17]))"
      ]
     },
     "execution_count": 28,
     "metadata": {},
     "output_type": "execute_result"
    }
   ],
   "source": [
    "bikes_numpy=np.loadtxt(\"./dataset/pytorch/data/p1ch4/bike-sharing-dataset/hour-fixed.csv\",\n",
    "                      dtype=np.float32,\n",
    "                      delimiter=\",\",\n",
    "                      skiprows=1,\n",
    "                      converters={1:lambda x : float(x[8:10])})\n",
    "#2012-01-01 [8:10] -> 2번째 열의 값을 변환한다 float로\n",
    "bike=torch.from_numpy(bikes_numpy)\n",
    "bike, bike.shape"
   ]
  },
  {
   "cell_type": "markdown",
   "id": "6fcdaa7a",
   "metadata": {},
   "source": [
    "### 데이터의 인덱스값 \n",
    "- 레코드 인덱스 : instant\n",
    "- 일자 :day\n",
    "- 계절 : season\n",
    "- 연도 :yr\n",
    "- 월 : muth\n",
    "- 시간 : hr\n",
    "- 공휴일 상태 : holiday\n",
    "- 요일 : weekday\n",
    "- 평일상태 :workingday\n",
    "- 날씨상태 :whathersit\n",
    "- 섭씨기온 :temp\n",
    "- 체감 섭시기온: atemp\n",
    "- 습도 :hum\n",
    "- 풍속 : windsppeed\n",
    "- 일반사용자 : casual\n",
    "- 등록사용자 : registered\n",
    "- 대여 자전거수 : cnt"
   ]
  },
  {
   "cell_type": "markdown",
   "id": "e4327249",
   "metadata": {},
   "source": [
    "### 시간 단위로 데이터 만들기\n",
    "- 어떻게 나눌까는 본인마음으로  N *C*L 로 만들때 C는 각 컬럼인 17개의 값으로되고 L을 만든다할때 우리는 1시간단위로 24를만들어도되고\n",
    "- 주단위로 168시간을 만들어도 된다"
   ]
  },
  {
   "cell_type": "code",
   "execution_count": 29,
   "id": "145c280c",
   "metadata": {},
   "outputs": [
    {
     "data": {
      "text/plain": [
       "(torch.Size([17520, 17]), (17, 1))"
      ]
     },
     "execution_count": 29,
     "metadata": {},
     "output_type": "execute_result"
    }
   ],
   "source": [
    "#스트라이드 확인 \n",
    "bike.shape, bike.stride()\n",
    "\n"
   ]
  },
  {
   "cell_type": "code",
   "execution_count": 30,
   "id": "3a89c787",
   "metadata": {},
   "outputs": [
    {
     "data": {
      "text/plain": [
       "(torch.Size([730, 24, 17]), (408, 17, 1))"
      ]
     },
     "execution_count": 30,
     "metadata": {},
     "output_type": "execute_result"
    }
   ],
   "source": [
    "#데이터를 일자 시간 17개의 열의 3개의 축으로 만들자\n",
    "daliy_bikes=bike.view(-1,24,bike.shape[1]) #-1 을 사용하여 17520의 행을 자동적으로 n * 24의 행으로 나눠줌 즉 둘이나누서 730이나옴\n",
    "daliy_bikes.shape, daliy_bikes.stride()  #24시간 * 17 =408"
   ]
  },
  {
   "cell_type": "code",
   "execution_count": 31,
   "id": "82790fc5",
   "metadata": {},
   "outputs": [
    {
     "data": {
      "text/plain": [
       "(torch.Size([730, 17, 24]), (408, 1, 17))"
      ]
     },
     "execution_count": 31,
     "metadata": {},
     "output_type": "execute_result"
    }
   ],
   "source": [
    "daliy_bikes=daliy_bikes.transpose(1,2)\n",
    "daliy_bikes.shape, daliy_bikes.stride() #N C L 하루를 L시간으로 나누고 C개의 채널을 가진 N"
   ]
  },
  {
   "cell_type": "markdown",
   "id": "f8618b20",
   "metadata": {},
   "source": [
    "### 훈련준비\n",
    "- 날짜상태의 테이터 : 순서값 1~4 좋음  ~   매우안좋음"
   ]
  },
  {
   "cell_type": "code",
   "execution_count": 32,
   "id": "b655cd06",
   "metadata": {},
   "outputs": [
    {
     "data": {
      "text/plain": [
       "tensor([1, 1, 1, 1, 1, 2, 1, 1, 1, 1, 1, 1, 1, 2, 2, 2, 2, 2, 3, 3, 2, 2, 2, 2])"
      ]
     },
     "execution_count": 32,
     "metadata": {},
     "output_type": "execute_result"
    }
   ],
   "source": [
    "first_day=bike[:24].long()\n",
    "weather_onehot= torch.zeros(first_day.shape[0],4) #24* 4 의 0행렬 생성\n",
    "first_day[:,9]"
   ]
  },
  {
   "cell_type": "code",
   "execution_count": 33,
   "id": "529f5474",
   "metadata": {},
   "outputs": [
    {
     "data": {
      "text/plain": [
       "torch.Size([24, 17])"
      ]
     },
     "execution_count": 33,
     "metadata": {},
     "output_type": "execute_result"
    }
   ],
   "source": [
    "first_day.shape"
   ]
  },
  {
   "cell_type": "code",
   "execution_count": 34,
   "id": "64b6452f",
   "metadata": {},
   "outputs": [
    {
     "data": {
      "text/plain": [
       "tensor([[1., 0., 0., 0.],\n",
       "        [1., 0., 0., 0.],\n",
       "        [1., 0., 0., 0.],\n",
       "        [1., 0., 0., 0.],\n",
       "        [1., 0., 0., 0.],\n",
       "        [0., 1., 0., 0.],\n",
       "        [1., 0., 0., 0.],\n",
       "        [1., 0., 0., 0.],\n",
       "        [1., 0., 0., 0.],\n",
       "        [1., 0., 0., 0.],\n",
       "        [1., 0., 0., 0.],\n",
       "        [1., 0., 0., 0.],\n",
       "        [1., 0., 0., 0.],\n",
       "        [0., 1., 0., 0.],\n",
       "        [0., 1., 0., 0.],\n",
       "        [0., 1., 0., 0.],\n",
       "        [0., 1., 0., 0.],\n",
       "        [0., 1., 0., 0.],\n",
       "        [0., 0., 1., 0.],\n",
       "        [0., 0., 1., 0.],\n",
       "        [0., 1., 0., 0.],\n",
       "        [0., 1., 0., 0.],\n",
       "        [0., 1., 0., 0.],\n",
       "        [0., 1., 0., 0.]])"
      ]
     },
     "execution_count": 34,
     "metadata": {},
     "output_type": "execute_result"
    }
   ],
   "source": [
    "#원핫인코딩 적용\n",
    "weather_onehot.scatter_(dim=1,index=first_day[:,9].unsqueeze(1).long()-1,value=1.0)"
   ]
  },
  {
   "cell_type": "code",
   "execution_count": 35,
   "id": "4fb5d619",
   "metadata": {},
   "outputs": [
    {
     "data": {
      "text/plain": [
       "tensor([[ 1.0000,  1.0000,  1.0000,  0.0000,  1.0000,  0.0000,  0.0000,  6.0000,\n",
       "          0.0000,  1.0000,  0.2400,  0.2879,  0.8100,  0.0000,  3.0000, 13.0000,\n",
       "         16.0000,  1.0000,  0.0000,  0.0000,  0.0000]])"
      ]
     },
     "execution_count": 35,
     "metadata": {},
     "output_type": "execute_result"
    }
   ],
   "source": [
    "torch.cat((bike[:24],weather_onehot),1)[:1] # (bike[:24],weather_onehot) 이둘을 결합시켜라 1= 열을기준으로 \n",
    "#[:1]= 첫번째 행만 가져와라"
   ]
  },
  {
   "cell_type": "code",
   "execution_count": 36,
   "id": "c64f90a1",
   "metadata": {},
   "outputs": [
    {
     "data": {
      "text/plain": [
       "torch.Size([730, 4, 24])"
      ]
     },
     "execution_count": 36,
     "metadata": {},
     "output_type": "execute_result"
    }
   ],
   "source": [
    "daily_weather_onehot=torch.zeros(daliy_bikes.shape[0],4,daliy_bikes.shape[2]) # (730*4*17)\n",
    "daily_weather_onehot.shape"
   ]
  },
  {
   "cell_type": "code",
   "execution_count": 37,
   "id": "4b1d1a60",
   "metadata": {},
   "outputs": [
    {
     "data": {
      "text/plain": [
       "torch.Size([730, 17, 24])"
      ]
     },
     "execution_count": 37,
     "metadata": {},
     "output_type": "execute_result"
    }
   ],
   "source": [
    "daliy_bikes.shape"
   ]
  },
  {
   "cell_type": "code",
   "execution_count": 38,
   "id": "b981f3f1",
   "metadata": {},
   "outputs": [
    {
     "data": {
      "text/plain": [
       "(torch.Size([730, 4, 24]),\n",
       " tensor([[[1., 1., 1.,  ..., 0., 0., 0.],\n",
       "          [0., 0., 0.,  ..., 1., 1., 1.],\n",
       "          [0., 0., 0.,  ..., 0., 0., 0.],\n",
       "          [0., 0., 0.,  ..., 0., 0., 0.]],\n",
       " \n",
       "         [[0., 0., 0.,  ..., 1., 1., 1.],\n",
       "          [1., 1., 1.,  ..., 0., 0., 0.],\n",
       "          [0., 0., 0.,  ..., 0., 0., 0.],\n",
       "          [0., 0., 0.,  ..., 0., 0., 0.]],\n",
       " \n",
       "         [[1., 1., 1.,  ..., 1., 1., 1.],\n",
       "          [0., 0., 0.,  ..., 0., 0., 0.],\n",
       "          [0., 0., 0.,  ..., 0., 0., 0.],\n",
       "          [0., 0., 0.,  ..., 0., 0., 0.]],\n",
       " \n",
       "         ...,\n",
       " \n",
       "         [[0., 0., 0.,  ..., 0., 0., 0.],\n",
       "          [1., 1., 1.,  ..., 1., 1., 1.],\n",
       "          [0., 0., 0.,  ..., 0., 0., 0.],\n",
       "          [0., 0., 0.,  ..., 0., 0., 0.]],\n",
       " \n",
       "         [[0., 0., 0.,  ..., 1., 1., 1.],\n",
       "          [1., 1., 1.,  ..., 0., 0., 0.],\n",
       "          [0., 0., 0.,  ..., 0., 0., 0.],\n",
       "          [0., 0., 0.,  ..., 0., 0., 0.]],\n",
       " \n",
       "         [[1., 1., 1.,  ..., 1., 1., 1.],\n",
       "          [0., 0., 0.,  ..., 0., 0., 0.],\n",
       "          [0., 0., 0.,  ..., 0., 0., 0.],\n",
       "          [0., 0., 0.,  ..., 0., 0., 0.]]]))"
      ]
     },
     "execution_count": 38,
     "metadata": {},
     "output_type": "execute_result"
    }
   ],
   "source": [
    "daily_weather_onehot.scatter_(1,daliy_bikes[:,9,:].long().unsqueeze(1)-1,1.0)\n",
    "daily_weather_onehot.shape , daily_weather_onehot"
   ]
  },
  {
   "cell_type": "code",
   "execution_count": 39,
   "id": "1a325555",
   "metadata": {},
   "outputs": [],
   "source": [
    "daliy_bikes=torch.cat((daliy_bikes,daily_weather_onehot),1)"
   ]
  },
  {
   "cell_type": "code",
   "execution_count": 40,
   "id": "62b89490",
   "metadata": {},
   "outputs": [
    {
     "data": {
      "text/plain": [
       "torch.Size([730, 21, 24])"
      ]
     },
     "execution_count": 40,
     "metadata": {},
     "output_type": "execute_result"
    }
   ],
   "source": [
    "daliy_bikes.shape  # -> 원핫인코딩으로 daliy 병합"
   ]
  },
  {
   "cell_type": "code",
   "execution_count": 41,
   "id": "84e4cec3",
   "metadata": {},
   "outputs": [],
   "source": [
    "daliy_bikes[:,9,:]=(daliy_bikes[:,9,:] -1.0)/3.0 #범위값을 0~1사이로 정규화"
   ]
  },
  {
   "cell_type": "code",
   "execution_count": 42,
   "id": "d5e1b4d9",
   "metadata": {},
   "outputs": [
    {
     "data": {
      "text/plain": [
       "tensor([[0.0000, 0.0000, 0.0000,  ..., 0.3333, 0.3333, 0.3333],\n",
       "        [0.3333, 0.3333, 0.3333,  ..., 0.0000, 0.0000, 0.0000],\n",
       "        [0.0000, 0.0000, 0.0000,  ..., 0.0000, 0.0000, 0.0000],\n",
       "        ...,\n",
       "        [0.3333, 0.3333, 0.3333,  ..., 0.3333, 0.3333, 0.3333],\n",
       "        [0.3333, 0.3333, 0.3333,  ..., 0.0000, 0.0000, 0.0000],\n",
       "        [0.0000, 0.0000, 0.0000,  ..., 0.0000, 0.0000, 0.0000]])"
      ]
     },
     "execution_count": 42,
     "metadata": {},
     "output_type": "execute_result"
    }
   ],
   "source": [
    "daliy_bikes[:,9,:]"
   ]
  },
  {
   "cell_type": "code",
   "execution_count": 43,
   "id": "8949ae80",
   "metadata": {},
   "outputs": [],
   "source": [
    "temp=daliy_bikes[:,10, :]\n",
    "temp_min=torch.min(temp)\n",
    "temp_max=torch.max(temp)\n",
    "temp=daliy_bikes[:,10, :]=((daliy_bikes[:,10, :] - temp_min)/(temp_max-temp_min)) \n",
    "#공식 값 - 최소값 / 최대값- 최소값 하면 0~1로 정규화"
   ]
  },
  {
   "cell_type": "code",
   "execution_count": 44,
   "id": "a4c6a7ed",
   "metadata": {},
   "outputs": [],
   "source": [
    "temp=daliy_bikes[:,10, :]\n",
    "daliy_bikes[:,10, :]=((daliy_bikes[:,10, :])-torch.mean(temp)/torch.std(temp))"
   ]
  },
  {
   "cell_type": "markdown",
   "id": "ce75db48",
   "metadata": {},
   "source": [
    "- z-score=  value−mean/std"
   ]
  },
  {
   "cell_type": "markdown",
   "id": "670d113f",
   "metadata": {},
   "source": [
    "### 택스트 표현하기\n",
    "- 여기서는  제인오스틴의 오만과 편전 단어집 사용"
   ]
  },
  {
   "cell_type": "code",
   "execution_count": 45,
   "id": "844785d4",
   "metadata": {},
   "outputs": [],
   "source": [
    "with open (\"./dataset/pytorch/data/p1ch4/jane-austen/1342-0.txt\",encoding=\"utf8\") as f:\n",
    "    text= f.read()"
   ]
  },
  {
   "cell_type": "markdown",
   "id": "c5148eda",
   "metadata": {},
   "source": [
    "- 문자 원핫 인코딩을하자 "
   ]
  },
  {
   "cell_type": "code",
   "execution_count": 46,
   "id": "8d8340d9",
   "metadata": {},
   "outputs": [
    {
     "data": {
      "text/plain": [
       "'“Impossible, Mr. Bennet, impossible, when I am not acquainted with him'"
      ]
     },
     "execution_count": 46,
     "metadata": {},
     "output_type": "execute_result"
    }
   ],
   "source": [
    "#문자확인\n",
    "lines=text.split(\"\\n\")\n",
    "line=lines[200]\n",
    "line\n"
   ]
  },
  {
   "cell_type": "code",
   "execution_count": 47,
   "id": "aa47726b",
   "metadata": {},
   "outputs": [
    {
     "data": {
      "text/plain": [
       "torch.Size([70, 128])"
      ]
     },
     "execution_count": 47,
     "metadata": {},
     "output_type": "execute_result"
    }
   ],
   "source": [
    "letter_t=torch.zeros(len(line),128) #아스키코드 제한인 128로 하드코딩\n",
    "letter_t.shape #70 128"
   ]
  },
  {
   "cell_type": "code",
   "execution_count": 48,
   "id": "eabed965",
   "metadata": {},
   "outputs": [],
   "source": [
    "for i, letter in enumerate(line.lower().strip()):\n",
    "    ltetter_index=ord(letter) if ord(letter) <128 else 0 #아스키코드에 없는애들은 벌니다\n",
    "    letter_t[i][ltetter_index]=1"
   ]
  },
  {
   "cell_type": "markdown",
   "id": "1491fad9",
   "metadata": {},
   "source": [
    "- ord('a')는 97을 반환합니다.\n",
    "- ord('A')는 65를 반환합니다.\n",
    "- ord('1')는 49를 반환합니다."
   ]
  },
  {
   "cell_type": "markdown",
   "id": "145be0a6",
   "metadata": {},
   "source": [
    "### 단어단위로 토큰화하기"
   ]
  },
  {
   "cell_type": "code",
   "execution_count": 49,
   "id": "d0ff1c15",
   "metadata": {},
   "outputs": [],
   "source": [
    "def clean_words(input_str):\n",
    "    punctuation='.,:;\"!?\"\"_-'\n",
    "    word_list=input_str.lower().replace(\"\\n\",\" \").split()\n",
    "    word_list= [word.strip(punctuation) for word in word_list]\n",
    "    return word_list"
   ]
  },
  {
   "cell_type": "code",
   "execution_count": 50,
   "id": "3e5b2faa",
   "metadata": {},
   "outputs": [
    {
     "data": {
      "text/plain": [
       "('“Impossible, Mr. Bennet, impossible, when I am not acquainted with him',\n",
       " ['“impossible',\n",
       "  'mr',\n",
       "  'bennet',\n",
       "  'impossible',\n",
       "  'when',\n",
       "  'i',\n",
       "  'am',\n",
       "  'not',\n",
       "  'acquainted',\n",
       "  'with',\n",
       "  'him'])"
      ]
     },
     "execution_count": 50,
     "metadata": {},
     "output_type": "execute_result"
    }
   ],
   "source": [
    "words_in_line= clean_words(line)\n",
    "line, words_in_line"
   ]
  },
  {
   "cell_type": "markdown",
   "id": "ba91c4d0",
   "metadata": {},
   "source": [
    "- 인코딩후 인덱스 매핑하기"
   ]
  },
  {
   "cell_type": "code",
   "execution_count": 51,
   "id": "bec4ee3b",
   "metadata": {},
   "outputs": [
    {
     "data": {
      "text/plain": [
       "(8484, 3828)"
      ]
     },
     "execution_count": 51,
     "metadata": {},
     "output_type": "execute_result"
    }
   ],
   "source": [
    "word_list=sorted(set(clean_words(text)))\n",
    "#set은 중복된 값을 가지지 않는, 순서가 없는 자료형입니다\n",
    "word_list\n",
    "word2index_dict= {word : i for (i,word) in enumerate(word_list)}\n",
    "\n",
    "len(word2index_dict), word2index_dict['impossible']"
   ]
  },
  {
   "cell_type": "code",
   "execution_count": 52,
   "id": "d3125943",
   "metadata": {},
   "outputs": [
    {
     "name": "stdout",
     "output_type": "stream",
     "text": [
      " 08324 “impossible\n",
      " 14905 mr\n",
      " 2 891 bennet\n",
      " 33828 impossible\n",
      " 48017 when\n",
      " 53740 i\n",
      " 6 445 am\n",
      " 75054 not\n",
      " 8 247 acquainted\n",
      " 98094 with\n",
      "103619 him\n"
     ]
    }
   ],
   "source": [
    "word_t =torch.zeros(len(words_in_line),len(word2index_dict))\n",
    "\n",
    "for i, word in enumerate(words_in_line):\n",
    "    word_index=word2index_dict[word]\n",
    "    word_t[i][word_index]=1\n",
    "    print(\"{:2}{:4} {}\".format(i,word_index,word))"
   ]
  },
  {
   "cell_type": "markdown",
   "id": "e9ab8577",
   "metadata": {},
   "source": [
    "### 연습문제\n",
    "\n",
    "##### 1.사진 파랑 빨간 초록 이미지 불러오고\n",
    "- a 이미지 텐서로 변환\n",
    "- b 각 이미지 텐서에 .mean메소드를 사용해 이미 밝기 확인\n",
    "- c 각 이미지 채널의 평균을 구해서 색을 구분할수 있을가?"
   ]
  },
  {
   "cell_type": "code",
   "execution_count": 53,
   "id": "725d510c",
   "metadata": {},
   "outputs": [
    {
     "name": "stderr",
     "output_type": "stream",
     "text": [
      "/var/folders/jj/2hvrxhh50kd174vgps9cn0r00000gn/T/ipykernel_10724/3768309843.py:1: DeprecationWarning: Starting with ImageIO v3 the behavior of this function will switch to that of iio.v3.imread. To keep the current behavior (and make this warning disappear) use `import imageio.v2 as imageio` or call `imageio.v2.imread` directly.\n",
      "  img_arr =imageio.imread(\"./dataset/pytorch/tt_1.jpeg\")\n",
      "/var/folders/jj/2hvrxhh50kd174vgps9cn0r00000gn/T/ipykernel_10724/3768309843.py:2: DeprecationWarning: Starting with ImageIO v3 the behavior of this function will switch to that of iio.v3.imread. To keep the current behavior (and make this warning disappear) use `import imageio.v2 as imageio` or call `imageio.v2.imread` directly.\n",
      "  img_arr2 =imageio.imread(\"./dataset/pytorch/tt_2.jpeg\")\n",
      "/var/folders/jj/2hvrxhh50kd174vgps9cn0r00000gn/T/ipykernel_10724/3768309843.py:3: DeprecationWarning: Starting with ImageIO v3 the behavior of this function will switch to that of iio.v3.imread. To keep the current behavior (and make this warning disappear) use `import imageio.v2 as imageio` or call `imageio.v2.imread` directly.\n",
      "  img_arr3 =imageio.imread(\"./dataset/pytorch/tt_3.jpeg\")\n"
     ]
    }
   ],
   "source": [
    "img_arr =imageio.imread(\"./dataset/pytorch/tt_1.jpeg\")\n",
    "img_arr2 =imageio.imread(\"./dataset/pytorch/tt_2.jpeg\")\n",
    "img_arr3 =imageio.imread(\"./dataset/pytorch/tt_3.jpeg\")\n",
    "#img_list = [img_arr, img_arr2, img_arr3]\n",
    "tensor_list = [torch.tensor(img).permute(2,0,1) for img in img_list]\n",
    "img1, img2, img3 = tensor_list\n",
    "#아래코드를 한번에 받는방법"
   ]
  },
  {
   "cell_type": "code",
   "execution_count": 63,
   "id": "5a179639",
   "metadata": {},
   "outputs": [],
   "source": [
    "img1 = torch.tensor(img_arr).permute(2,0,1).float() / 255.0\n",
    "img2 = torch.tensor(img_arr2).permute(2,0,1).float() / 255.0\n",
    "img3 = torch.tensor(img_arr3).permute(2,0,1).float() / 255.0\n",
    "\n",
    "#img=torch.from_numpy(img_arr)"
   ]
  },
  {
   "cell_type": "code",
   "execution_count": 64,
   "id": "2fe3a122",
   "metadata": {},
   "outputs": [
    {
     "name": "stdout",
     "output_type": "stream",
     "text": [
      "tensor(0.3608) tensor(0.3355) tensor(0.5148)\n"
     ]
    }
   ],
   "source": [
    "brightness_img1 = img1.mean()\n",
    "brightness_img2 = img2.mean()\n",
    "brightness_img3 = img3.mean()\n",
    "print(brightness_img1, brightness_img2, brightness_img3)\n"
   ]
  },
  {
   "cell_type": "code",
   "execution_count": 65,
   "id": "9823a607",
   "metadata": {},
   "outputs": [
    {
     "name": "stdout",
     "output_type": "stream",
     "text": [
      "tensor([0.1789, 0.4977, 0.4058]) tensor([0.5577, 0.1964, 0.2525]) tensor([0.5017, 0.4814, 0.5613])\n"
     ]
    }
   ],
   "source": [
    "mean_channels_img1 = img1.mean(dim=[1,2])  # 각 채널의 평균을 계산\n",
    "mean_channels_img2 = img2.mean(dim=[1,2])\n",
    "mean_channels_img3 = img3.mean(dim=[1,2])\n",
    "print(mean_channels_img1, mean_channels_img2, mean_channels_img3)\n"
   ]
  },
  {
   "cell_type": "code",
   "execution_count": null,
   "id": "14b249fc",
   "metadata": {},
   "outputs": [],
   "source": []
  }
 ],
 "metadata": {
  "kernelspec": {
   "display_name": "Python 3 (ipykernel)",
   "language": "python",
   "name": "python3"
  },
  "language_info": {
   "codemirror_mode": {
    "name": "ipython",
    "version": 3
   },
   "file_extension": ".py",
   "mimetype": "text/x-python",
   "name": "python",
   "nbconvert_exporter": "python",
   "pygments_lexer": "ipython3",
   "version": "3.9.16"
  }
 },
 "nbformat": 4,
 "nbformat_minor": 5
}
