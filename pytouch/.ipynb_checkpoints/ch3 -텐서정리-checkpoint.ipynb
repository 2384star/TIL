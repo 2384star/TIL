{
 "cells": [
  {
   "cell_type": "code",
   "execution_count": 1,
   "id": "dab52016",
   "metadata": {},
   "outputs": [],
   "source": [
    "# 파이썬 리스트에서 파이토치 텐서\n",
    "a=[1.0,2.0,3.0]"
   ]
  },
  {
   "cell_type": "code",
   "execution_count": 2,
   "id": "0517297c",
   "metadata": {},
   "outputs": [
    {
     "data": {
      "text/plain": [
       "3.0"
      ]
     },
     "execution_count": 2,
     "metadata": {},
     "output_type": "execute_result"
    }
   ],
   "source": [
    "a[0]\n",
    "a[2]"
   ]
  },
  {
   "cell_type": "code",
   "execution_count": 3,
   "id": "e206b35d",
   "metadata": {},
   "outputs": [
    {
     "data": {
      "text/plain": [
       "tensor(1.)"
      ]
     },
     "execution_count": 3,
     "metadata": {},
     "output_type": "execute_result"
    }
   ],
   "source": [
    "import torch\n",
    "a=torch.ones(3)  #1로 채운 텐서 만들기 1*3\n",
    "a  \n",
    "\n",
    "a[1]"
   ]
  },
  {
   "cell_type": "code",
   "execution_count": 4,
   "id": "cfcafcb2",
   "metadata": {},
   "outputs": [
    {
     "data": {
      "text/plain": [
       "1.0"
      ]
     },
     "execution_count": 4,
     "metadata": {},
     "output_type": "execute_result"
    }
   ],
   "source": [
    "float(a[1])"
   ]
  },
  {
   "cell_type": "code",
   "execution_count": 5,
   "id": "4cc172ae",
   "metadata": {},
   "outputs": [
    {
     "data": {
      "text/plain": [
       "tensor([1., 1., 2.])"
      ]
     },
     "execution_count": 5,
     "metadata": {},
     "output_type": "execute_result"
    }
   ],
   "source": [
    "a[2]=2.0\n",
    "a"
   ]
  },
  {
   "cell_type": "code",
   "execution_count": 6,
   "id": "595cf798",
   "metadata": {},
   "outputs": [
    {
     "data": {
      "text/plain": [
       "tensor([4., 1., 5., 3., 2., 1.])"
      ]
     },
     "execution_count": 6,
     "metadata": {},
     "output_type": "execute_result"
    }
   ],
   "source": [
    "points= torch.zeros(6) #1*6\n",
    "points[0]=4.0\n",
    "points[1]=1.0\n",
    "points[2]=5.0\n",
    "points[3]=3.0\n",
    "points[4]=2.0\n",
    "points[5]=1.0\n",
    "points"
   ]
  },
  {
   "cell_type": "code",
   "execution_count": 7,
   "id": "0f60dbf0",
   "metadata": {},
   "outputs": [
    {
     "data": {
      "text/plain": [
       "tensor([4., 1., 5., 3., 2., 1.])"
      ]
     },
     "execution_count": 7,
     "metadata": {},
     "output_type": "execute_result"
    }
   ],
   "source": [
    "points= torch.tensor([4.0,1.0,5.0,3.0,2.0,1.0])\n",
    "points"
   ]
  },
  {
   "cell_type": "code",
   "execution_count": 8,
   "id": "a5b422c4",
   "metadata": {},
   "outputs": [
    {
     "data": {
      "text/plain": [
       "(4.0, 1.0)"
      ]
     },
     "execution_count": 8,
     "metadata": {},
     "output_type": "execute_result"
    }
   ],
   "source": [
    "float(points[0]), float(points[1])"
   ]
  },
  {
   "cell_type": "code",
   "execution_count": 9,
   "id": "9f036451",
   "metadata": {},
   "outputs": [
    {
     "data": {
      "text/plain": [
       "torch.Size([3, 2])"
      ]
     },
     "execution_count": 9,
     "metadata": {},
     "output_type": "execute_result"
    }
   ],
   "source": [
    "#2차원 텐서 사용\n",
    "points=torch.tensor([[4.0,1.0],[5.0,3.0],[2.0,1.0]])\n",
    "points\n",
    "points.shape"
   ]
  },
  {
   "cell_type": "code",
   "execution_count": 10,
   "id": "4f8856ec",
   "metadata": {},
   "outputs": [],
   "source": [
    "#초기화시켜서 깔금하게 하자 \n",
    "points=torch.zeros(3,2)"
   ]
  },
  {
   "cell_type": "code",
   "execution_count": 11,
   "id": "2313dc75",
   "metadata": {},
   "outputs": [
    {
     "data": {
      "text/plain": [
       "tensor([[0., 0.],\n",
       "        [0., 0.],\n",
       "        [0., 0.]])"
      ]
     },
     "execution_count": 11,
     "metadata": {},
     "output_type": "execute_result"
    }
   ],
   "source": [
    "points"
   ]
  },
  {
   "cell_type": "code",
   "execution_count": 12,
   "id": "31f854a2",
   "metadata": {},
   "outputs": [
    {
     "data": {
      "text/plain": [
       "tensor([5., 3.])"
      ]
     },
     "execution_count": 12,
     "metadata": {},
     "output_type": "execute_result"
    }
   ],
   "source": [
    "#인덱스 접근 \n",
    "points=torch.tensor([[4.0,1.0],[5.0,3.0],[2.0,1.0]])\n",
    "points\n",
    "\n",
    "points[1][0] #5\n",
    "points[2][1]   #1\n",
    "\n",
    "points[1]      #5 3 "
   ]
  },
  {
   "cell_type": "markdown",
   "id": "ce8ad569",
   "metadata": {},
   "source": [
    "## 텐서 인덱싱"
   ]
  },
  {
   "cell_type": "code",
   "execution_count": 13,
   "id": "b33f187d",
   "metadata": {},
   "outputs": [
    {
     "data": {
      "text/plain": [
       "[1, 3]"
      ]
     },
     "execution_count": 13,
     "metadata": {},
     "output_type": "execute_result"
    }
   ],
   "source": [
    "some_list=list(range(6)) #0~5리스트 \n",
    "some_list[:] #리스트의 모든요소 0~5\n",
    "some_list[1:6]#1~5\n",
    "some_list[:4] #0 1 2 3\n",
    "some_list[:-3] #첫번째요소부터 뒤에서 3번째까지\n",
    "#some_list[1:] #1~5\n",
    "some_list[1:4:2]"
   ]
  },
  {
   "cell_type": "code",
   "execution_count": 14,
   "id": "fd5a58f4",
   "metadata": {},
   "outputs": [
    {
     "data": {
      "text/plain": [
       "torch.Size([1, 3, 2])"
      ]
     },
     "execution_count": 14,
     "metadata": {},
     "output_type": "execute_result"
    }
   ],
   "source": [
    "points\n",
    "points[1:] #1인덱스부터 모든인덱스\n",
    "points[1:,:] #1인덱스부터 모든인덱스\n",
    "points[1:,0] #1인덱스부터 [첫번째열만]\n",
    "points[None] #길이가 1인차원추가\n",
    "\n",
    "points[None].shape\n"
   ]
  },
  {
   "cell_type": "code",
   "execution_count": 15,
   "id": "aadd9257",
   "metadata": {},
   "outputs": [],
   "source": [
    "img_t=torch.randn(3,5,5)\n",
    "img_t.shape  #3 * 5*5\n",
    "weights=torch.tensor([0.2126,0.7152,0.0722]) #1*3\n",
    "batch_t=torch.randn(2,3,5,5) #B C W H\n"
   ]
  },
  {
   "cell_type": "code",
   "execution_count": 16,
   "id": "e3ac4659",
   "metadata": {},
   "outputs": [
    {
     "data": {
      "text/plain": [
       "(torch.Size([5, 5]), torch.Size([2, 5, 5]))"
      ]
     },
     "execution_count": 16,
     "metadata": {},
     "output_type": "execute_result"
    }
   ],
   "source": [
    "img_gray_naive=img_t.mean(-3)  #3개의 채널을 평균값으로 구해 흑백화면으로 변환시킨다\n",
    "batch_gray_naive=batch_t.mean(-3) #채널 흑백화 \n",
    "img_gray_naive.shape, batch_gray_naive.shape "
   ]
  },
  {
   "cell_type": "markdown",
   "id": "e216c71b",
   "metadata": {},
   "source": [
    "### 브로드 케스팅\n",
    "- 텐서 연신시 길이가 1인 차원을 알아서 늘려주는 방식"
   ]
  },
  {
   "cell_type": "code",
   "execution_count": 17,
   "id": "ac0a9359",
   "metadata": {},
   "outputs": [
    {
     "data": {
      "text/plain": [
       "(torch.Size([2, 3, 5, 5]), torch.Size([2, 3, 5, 5]), torch.Size([3, 1, 1]))"
      ]
     },
     "execution_count": 17,
     "metadata": {},
     "output_type": "execute_result"
    }
   ],
   "source": [
    "un_weight=weights.unsqueeze(-1).unsqueeze(-1) #2번시행\n",
    "\n",
    "un_weight.shape\n",
    "img_weights=(img_t*un_weight) #(3*5*5) * (3*1*1) -> 3*5*5\n",
    "img_weights.shape\n",
    "\n",
    "batch_t_weight=batch_t*un_weight # 2,3,5,5 * 3*1*1. -> 2,3,5,5\n",
    "batch_t_weight.shape\n",
    "\n",
    "img_gray_weights=img_weights.sum(-3) #3,5,5 -> 5,5\n",
    "img_gray_weights.shape\n",
    "\n",
    "batch_gray_sum= batch_t_weight.sum(-3)  #2 3 5 5 -> 2 5 5\n",
    "batch_gray_sum.shape\n",
    "\n",
    "batch_t_weight.shape, batch_t.shape, un_weight.shape"
   ]
  },
  {
   "cell_type": "code",
   "execution_count": 18,
   "id": "8a66d0cf",
   "metadata": {},
   "outputs": [
    {
     "data": {
      "text/plain": [
       "torch.Size([2, 3, 5, 5])"
      ]
     },
     "execution_count": 18,
     "metadata": {},
     "output_type": "execute_result"
    }
   ],
   "source": [
    "batch_t.shape"
   ]
  },
  {
   "cell_type": "code",
   "execution_count": 19,
   "id": "3b8028e4",
   "metadata": {},
   "outputs": [
    {
     "data": {
      "text/plain": [
       "(torch.Size([5, 5]), torch.Size([5, 5]))"
      ]
     },
     "execution_count": 19,
     "metadata": {},
     "output_type": "execute_result"
    }
   ],
   "source": [
    "#다른방법으로 표현\n",
    "img_fancy = torch.einsum('...chw,c->...hw',img_t,weights)\n",
    "batch_fency=torch.einsum(\"...bchw,c->...hw\",batch_t,weights) \n",
    "##하... 이해하는대 오래걸렷다\n",
    "#1. torch.einsum을보면 (\"...\")<=모든 앞에잇는것들\n",
    "#2. torch.einsum을보면 (\"...bchw\")<=1번째 매개변수의 구조 \n",
    "#3. torch.einsum을보면 (\"...bchw\",c)<=2번째 매개변수의 구조를 기준\n",
    "#4. torch.einsum을보면 (\"...bchw\",c->...hw)<=기준으로 부터 바꾸고싶은 차원의 형태 설정 \n",
    "#5.batch_fency=torch.einsum(\"...bchw,c->...hw\",batch_t,weights) einsum으로 더해서 각각의 값을만듬 즉 마지막에 5*5 행열이됨\n",
    "\n",
    "img_fancy.shape ,batch_fency.shape"
   ]
  },
  {
   "cell_type": "code",
   "execution_count": 20,
   "id": "cf2e0fd6",
   "metadata": {},
   "outputs": [
    {
     "name": "stderr",
     "output_type": "stream",
     "text": [
      "/var/folders/jj/2hvrxhh50kd174vgps9cn0r00000gn/T/ipykernel_4570/1748489652.py:2: UserWarning: Named tensors and all their associated APIs are an experimental feature and subject to change. Please do not use them for anything important until they are released as stable. (Triggered internally at /Users/runner/work/pytorch/pytorch/pytorch/c10/core/TensorImpl.h:1791.)\n",
      "  weights_named= torch.tensor([0.2126,0.7152,0.0722],names=[\"channels\"])\n"
     ]
    },
    {
     "data": {
      "text/plain": [
       "tensor([0.2126, 0.7152, 0.0722], names=('channels',))"
      ]
     },
     "execution_count": 20,
     "metadata": {},
     "output_type": "execute_result"
    }
   ],
   "source": [
    "# 구분하기 너무어렵다 텐서의 이름을 붙힐수 잇어!!\n",
    "weights_named= torch.tensor([0.2126,0.7152,0.0722],names=[\"channels\"])\n",
    "weights_named"
   ]
  },
  {
   "cell_type": "code",
   "execution_count": 21,
   "id": "cf9e6007",
   "metadata": {},
   "outputs": [
    {
     "name": "stdout",
     "output_type": "stream",
     "text": [
      "img name : torch.Size([3, 5, 5]) ('channels', 'rows', 'clomns')\n",
      "Batch name: torch.Size([2, 3, 5, 5]) (None, 'channels', 'rows', 'clomns')\n"
     ]
    }
   ],
   "source": [
    "img_neamed=img_t.refine_names(...,\"channels\",\"rows\",\"clomns\") # ...은 생략을 의미한다\n",
    "batch_named=batch_t.refine_names(...,\"channels\",\"rows\",\"clomns\") ##...은 생략 \n",
    "print(\"img name :\",img_neamed.shape,img_neamed.names)\n",
    "print(\"Batch name:\",batch_named.shape,batch_named.names)"
   ]
  },
  {
   "cell_type": "code",
   "execution_count": 22,
   "id": "6b6ad0c5",
   "metadata": {},
   "outputs": [
    {
     "data": {
      "text/plain": [
       "(torch.Size([3, 1, 1]), ('channels', 'rows', 'clomns'))"
      ]
     },
     "execution_count": 22,
     "metadata": {},
     "output_type": "execute_result"
    }
   ],
   "source": [
    "#빠진 차원을 채우고 존재하는 차원을 올바른 순서로 정렬해주자\n",
    "weights_al=weights_named.align_as(img_neamed)\n",
    "weights_al.shape, weights_al.names #img named와 차원을 맟춰주고 이름도 맟춰줌 "
   ]
  },
  {
   "cell_type": "code",
   "execution_count": 23,
   "id": "a17481cb",
   "metadata": {},
   "outputs": [
    {
     "data": {
      "text/plain": [
       "(torch.Size([5, 5]), ('rows', 'clomns'))"
      ]
     },
     "execution_count": 23,
     "metadata": {},
     "output_type": "execute_result"
    }
   ],
   "source": [
    "gray_named=(img_neamed * weights_al).sum(\"channels\") #3 55  3 1 1의 두 행열을 neamed기준으로 결합\n",
    "gray_named.shape , gray_named.names"
   ]
  },
  {
   "cell_type": "code",
   "execution_count": 24,
   "id": "e8173a6e",
   "metadata": {},
   "outputs": [
    {
     "ename": "RuntimeError",
     "evalue": "Name 'channelss' not found in Tensor['channels', 'rows', 'clomns'].",
     "output_type": "error",
     "traceback": [
      "\u001b[0;31m---------------------------------------------------------------------------\u001b[0m",
      "\u001b[0;31mRuntimeError\u001b[0m                              Traceback (most recent call last)",
      "Cell \u001b[0;32mIn[24], line 1\u001b[0m\n\u001b[0;32m----> 1\u001b[0m gray_named\u001b[38;5;241m=\u001b[39m\u001b[43m(\u001b[49m\u001b[43mimg_neamed\u001b[49m\u001b[43m \u001b[49m\u001b[38;5;241;43m*\u001b[39;49m\u001b[43m \u001b[49m\u001b[43mweights_al\u001b[49m\u001b[43m)\u001b[49m\u001b[38;5;241;43m.\u001b[39;49m\u001b[43msum\u001b[49m\u001b[43m(\u001b[49m\u001b[38;5;124;43m\"\u001b[39;49m\u001b[38;5;124;43mchannelss\u001b[39;49m\u001b[38;5;124;43m\"\u001b[39;49m\u001b[43m)\u001b[49m\n",
      "\u001b[0;31mRuntimeError\u001b[0m: Name 'channelss' not found in Tensor['channels', 'rows', 'clomns']."
     ]
    }
   ],
   "source": [
    "gray_named=(img_neamed * weights_al).sum(\"channelss\") \n",
    "#당연하겟지만 이름이 다르면 오류"
   ]
  },
  {
   "cell_type": "code",
   "execution_count": 25,
   "id": "d16e672e",
   "metadata": {},
   "outputs": [
    {
     "data": {
      "text/plain": [
       "(torch.Size([5, 5]), (None, None))"
      ]
     },
     "execution_count": 25,
     "metadata": {},
     "output_type": "execute_result"
    }
   ],
   "source": [
    "#이름이 있는 텐서를 함수밖에서 사용하려면 이름을 none으로 설정해 없에면됨\n",
    "gray_prain=gray_named.rename(None)\n",
    "gray_prain.shape , gray_prain.names"
   ]
  },
  {
   "cell_type": "code",
   "execution_count": 3,
   "id": "3454c9fc",
   "metadata": {},
   "outputs": [],
   "source": [
    "import torch"
   ]
  },
  {
   "cell_type": "markdown",
   "id": "885cda77",
   "metadata": {},
   "source": [
    "- 파이썬 숫자는 겍채다\n",
    "- 파이썬에서 리스트는 연속된 겍채의 컬렉션이다\n",
    "- 파이썬 인터프리터는 최적화를 거치는 컴파일된 코드보다 느리다"
   ]
  },
  {
   "cell_type": "code",
   "execution_count": 4,
   "id": "2d9ab241",
   "metadata": {},
   "outputs": [
    {
     "data": {
      "text/plain": [
       "torch.int64"
      ]
     },
     "execution_count": 4,
     "metadata": {},
     "output_type": "execute_result"
    }
   ],
   "source": [
    "torch.float16 # 16비트 소수\n",
    "torch.float32 # 32비트 소수\n",
    "torch.float64 #64q비트 소수\n",
    "\n",
    "torch.int8 #8비트 정수t\n",
    "torch.uint8 #8비트 부호없는 정수\n",
    "\n",
    "torch.int16 #16정수\n",
    "torch.int32  #32저웃\n",
    "torch.int64 #64정수\n",
    "torch.bool #불리언\n",
    " \n",
    "##텐서의 기본타입은 32비트 부동소수점 \n",
    "torch.tensor([2,2]).dtype   "
   ]
  },
  {
   "cell_type": "code",
   "execution_count": 28,
   "id": "acf72f4b",
   "metadata": {},
   "outputs": [],
   "source": [
    "double_points = torch.ones(10,2,dtype=torch.double)\n",
    "short_points=torch.tensor([[1,2],[3,4]],dtype=torch.short) #int16"
   ]
  },
  {
   "cell_type": "code",
   "execution_count": 29,
   "id": "0beb6ea4",
   "metadata": {},
   "outputs": [],
   "source": [
    "short_points.dtype\n",
    "##타입반환가능\n",
    "double_points=torch.zeros(10,2).double()\n",
    "short_points=torch.ones(10,2).short()"
   ]
  },
  {
   "cell_type": "code",
   "execution_count": 30,
   "id": "dc1ef81c",
   "metadata": {},
   "outputs": [],
   "source": [
    "#to메소드 활용\n",
    "#타입변환\n",
    "double_points=torch.zeros(10,2).to(torch.double)\n",
    "short_points=torch.ones(10,2).to(torch.short)\n",
    "\n"
   ]
  },
  {
   "cell_type": "code",
   "execution_count": 31,
   "id": "f3e2755f",
   "metadata": {},
   "outputs": [
    {
     "data": {
      "text/plain": [
       "tensor([0., 0., 0., 0., 0.], dtype=torch.float64)"
      ]
     },
     "execution_count": 31,
     "metadata": {},
     "output_type": "execute_result"
    }
   ],
   "source": [
    "##여러 타입의 연산을 할때 가장 큰 타입의 기준으로 연산이됨\n",
    "point64=torch.rand(5,dtype=torch.double)\n",
    "point_short= point64.to(torch.short)\n",
    "point64*point_short  #높은 타입의 연산이 출력된걸 확인할수 있음"
   ]
  },
  {
   "cell_type": "markdown",
   "id": "3ca67f79",
   "metadata": {},
   "source": [
    "##  문서참고\n",
    "- https://pytorch.org/docs/stable/index.html"
   ]
  },
  {
   "cell_type": "code",
   "execution_count": 32,
   "id": "c96902c5",
   "metadata": {},
   "outputs": [
    {
     "name": "stdout",
     "output_type": "stream",
     "text": [
      "tensor([[1., 1.],\n",
      "        [1., 1.],\n",
      "        [1., 1.]])\n",
      "tensor([[1., 1., 1.],\n",
      "        [1., 1., 1.]])\n"
     ]
    },
    {
     "data": {
      "text/plain": [
       "(torch.Size([3, 2]), torch.Size([2, 3]))"
      ]
     },
     "execution_count": 32,
     "metadata": {},
     "output_type": "execute_result"
    }
   ],
   "source": [
    "a=torch.ones(3,2)\n",
    "print(a)\n",
    "a_t=torch.transpose(a,0,1) #input  dim 1 dim2 차원을 바꾸고싶은 두차원\n",
    "print(a_t)\n",
    "a.shape, a_t.shape"
   ]
  },
  {
   "cell_type": "code",
   "execution_count": 33,
   "id": "f1c250cf",
   "metadata": {},
   "outputs": [
    {
     "data": {
      "text/plain": [
       "(torch.Size([3, 2]), torch.Size([2, 3]))"
      ]
     },
     "execution_count": 33,
     "metadata": {},
     "output_type": "execute_result"
    }
   ],
   "source": [
    "a=torch.ones(3,2)\n",
    "a_t=a.transpose(0,1)\n",
    "a.shape, a_t.shape"
   ]
  },
  {
   "cell_type": "code",
   "execution_count": 34,
   "id": "2bb4da03",
   "metadata": {},
   "outputs": [
    {
     "name": "stderr",
     "output_type": "stream",
     "text": [
      "/var/folders/jj/2hvrxhh50kd174vgps9cn0r00000gn/T/ipykernel_4570/1249849988.py:2: UserWarning: TypedStorage is deprecated. It will be removed in the future and UntypedStorage will be the only storage class. This should only matter to you if you are using storages directly.  To access UntypedStorage directly, use tensor.untyped_storage() instead of tensor.storage()\n",
      "  points.storage()\n"
     ]
    },
    {
     "data": {
      "text/plain": [
       " 4.0\n",
       " 1.0\n",
       " 5.0\n",
       " 3.0\n",
       " 2.0\n",
       " 1.0\n",
       "[torch.storage.TypedStorage(dtype=torch.float32, device=cpu) of size 6]"
      ]
     },
     "execution_count": 34,
     "metadata": {},
     "output_type": "execute_result"
    }
   ],
   "source": [
    "points=torch.tensor([[4.0,1.0,],[5.0,3.0,],[2.0,1.0,]])\n",
    "points.storage()"
   ]
  },
  {
   "cell_type": "code",
   "execution_count": 35,
   "id": "ff284c55",
   "metadata": {},
   "outputs": [
    {
     "data": {
      "text/plain": [
       "tensor([[15.,  1.],\n",
       "        [ 5.,  3.],\n",
       "        [ 2.,  1.]])"
      ]
     },
     "execution_count": 35,
     "metadata": {},
     "output_type": "execute_result"
    }
   ],
   "source": [
    "#포인터 식개념으로 접근이됨 따라서 포인터처럼 접근가능\n",
    "points_storage=points.storage()\n",
    "points_storage[0]\n",
    "points_storage[1]\n",
    "points_storage[5]\n",
    "#이를보여주는건 실제 저장곤간을 1차원 배열이라는걸 보여준다 \n",
    "\n",
    "#응용 참조하고잇는 포인터를 이용해서 값바꾸기\n",
    "points=torch.tensor([[4.0,1.0,],[5.0,3.0,],[2.0,1.0,]])\n",
    "points_storage=points.storage()\n",
    "points_storage[0]=15.0\n",
    "points #해당 주소값을 참조해서 points의 값을 바꿔버림\n"
   ]
  },
  {
   "cell_type": "code",
   "execution_count": 36,
   "id": "db3809ed",
   "metadata": {},
   "outputs": [
    {
     "name": "stdout",
     "output_type": "stream",
     "text": [
      "tensor([[0., 0.],\n",
      "        [0., 0.],\n",
      "        [0., 0.]])\n"
     ]
    },
    {
     "data": {
      "text/plain": [
       "tensor([[0., 0.],\n",
       "        [0., 0.],\n",
       "        [0., 0.]])"
      ]
     },
     "execution_count": 36,
     "metadata": {},
     "output_type": "execute_result"
    }
   ],
   "source": [
    "a=torch.ones(3,2)\n",
    "\n",
    "a.zero_() #a자체를 인플레이스 해버림 즉 a자체를바꿔버림\n",
    "a\n",
    "b = torch.zeros_like(a)\n",
    "print(b)\n",
    "\n",
    "b=torch.zeros(3,2) #바뀌지않고 뷰로만 \n",
    "b"
   ]
  },
  {
   "cell_type": "code",
   "execution_count": 37,
   "id": "c6546e13",
   "metadata": {},
   "outputs": [
    {
     "data": {
      "text/plain": [
       "(2, 1)"
      ]
     },
     "execution_count": 37,
     "metadata": {},
     "output_type": "execute_result"
    }
   ],
   "source": [
    "## 텐서의 구조 오프셋 스트라이즈 차원\n",
    "points=torch.tensor([[4.0,1.0,],[5.0,3.0,],[2.0,1.0,]])\n",
    "seceond_point=points[2]\n",
    "seceond_point.storage_offset()\n",
    "\n",
    "seceond_point.size()\n",
    "seceond_point.shape\n",
    "seceond_point.storage_offset()  #전체 메모리에서 해당인덱스의 거리 \n",
    "points.stride() #각 차원에 대해 한 원소에서 다음 원소로 넘어가기 위해 스토리지에서 얼마나 많은 위치를 건너뛰어야 하는지를 나타내는 값\n",
    "#3행 2열짜리의 행렬은 1행당 2개의 열이잇으니 2 , 열의 간격으로 넘어갈때 간격이 1 즉 (2,1)\n"
   ]
  },
  {
   "cell_type": "code",
   "execution_count": 38,
   "id": "00c15a5e",
   "metadata": {},
   "outputs": [
    {
     "data": {
      "text/plain": [
       "(1,)"
      ]
     },
     "execution_count": 38,
     "metadata": {},
     "output_type": "execute_result"
    }
   ],
   "source": [
    "seceond_point=points[1]\n",
    "seceond_point.size()\n",
    "\n",
    "seceond_point.storage_offset()\n",
    "seceond_point.stride()"
   ]
  },
  {
   "cell_type": "markdown",
   "id": "0d1128fb",
   "metadata": {},
   "source": [
    "## 주의 할점 !! \n",
    "- 세텐서를 선언하고 값을 변경해도 기존 텐서의 값이 변환된다"
   ]
  },
  {
   "cell_type": "code",
   "execution_count": 39,
   "id": "36c0b57b",
   "metadata": {},
   "outputs": [
    {
     "data": {
      "text/plain": [
       "tensor([[ 4.,  1.],\n",
       "        [10.,  3.],\n",
       "        [ 2.,  1.]])"
      ]
     },
     "execution_count": 39,
     "metadata": {},
     "output_type": "execute_result"
    }
   ],
   "source": [
    "\n",
    "seceond_point[0]=10.0\n",
    "points  #포인터로 인해  [1][0] 의 원래 텐서가 변경됨"
   ]
  },
  {
   "cell_type": "markdown",
   "id": "89f52fe9",
   "metadata": {},
   "source": [
    "- 오류를 범하기 쉬운방법이므로 서브텐서를 새탠서로 복제하자"
   ]
  },
  {
   "cell_type": "code",
   "execution_count": 40,
   "id": "f431ddfc",
   "metadata": {},
   "outputs": [
    {
     "data": {
      "text/plain": [
       "tensor([[4., 1.],\n",
       "        [5., 3.],\n",
       "        [2., 1.]])"
      ]
     },
     "execution_count": 40,
     "metadata": {},
     "output_type": "execute_result"
    }
   ],
   "source": [
    "points=torch.tensor([[4.0,1.0,],[5.0,3.0,],[2.0,1.0,]])\n",
    "seceond_point=points[1].clone()\n",
    "seceond_point[0]=10.0\n",
    "points"
   ]
  },
  {
   "cell_type": "markdown",
   "id": "58c17a8f",
   "metadata": {},
   "source": [
    "- 복사없이 행렬 전치하기"
   ]
  },
  {
   "cell_type": "code",
   "execution_count": 41,
   "id": "f7167954",
   "metadata": {},
   "outputs": [
    {
     "name": "stdout",
     "output_type": "stream",
     "text": [
      "tensor([[4., 5., 2.],\n",
      "        [1., 3., 1.]])\n"
     ]
    },
    {
     "data": {
      "text/plain": [
       "((2, 1), (1, 2))"
      ]
     },
     "execution_count": 41,
     "metadata": {},
     "output_type": "execute_result"
    }
   ],
   "source": [
    "\n",
    "points=torch.tensor([[4.0,1.0,],[5.0,3.0,],[2.0,1.0,]])\n",
    "points\n",
    "points_t= points.t() # points 텐서의 전치(transpose)를 반환\n",
    "print(points_t)\n",
    "#전치햇는대 위 두코드가 똑같이 메모리를 할당하고 있을가?\n",
    "id(points.storage())== id(points_t.storage()) #트루가뜸 #id = 고유한 식별자(주소)를 반환\n",
    "points.stride(), points_t.stride() #텐서의 t는 view만 바꾸기만할뿐 텐서의 메모리 배열을 바꿔지 않기때문에 저값이 출력된다"
   ]
  },
  {
   "cell_type": "markdown",
   "id": "3ab9e75d",
   "metadata": {},
   "source": [
    "## 다차원 전치"
   ]
  },
  {
   "cell_type": "code",
   "execution_count": 42,
   "id": "fed92acb",
   "metadata": {},
   "outputs": [
    {
     "name": "stdout",
     "output_type": "stream",
     "text": [
      "tensor([[[1., 1., 1., 1., 1.],\n",
      "         [1., 1., 1., 1., 1.],\n",
      "         [1., 1., 1., 1., 1.],\n",
      "         [1., 1., 1., 1., 1.]],\n",
      "\n",
      "        [[1., 1., 1., 1., 1.],\n",
      "         [1., 1., 1., 1., 1.],\n",
      "         [1., 1., 1., 1., 1.],\n",
      "         [1., 1., 1., 1., 1.]],\n",
      "\n",
      "        [[1., 1., 1., 1., 1.],\n",
      "         [1., 1., 1., 1., 1.],\n",
      "         [1., 1., 1., 1., 1.],\n",
      "         [1., 1., 1., 1., 1.]]]) \n",
      " torch.Size([3, 4, 5])\n",
      "tensor([[[1., 1., 1.],\n",
      "         [1., 1., 1.],\n",
      "         [1., 1., 1.],\n",
      "         [1., 1., 1.]],\n",
      "\n",
      "        [[1., 1., 1.],\n",
      "         [1., 1., 1.],\n",
      "         [1., 1., 1.],\n",
      "         [1., 1., 1.]],\n",
      "\n",
      "        [[1., 1., 1.],\n",
      "         [1., 1., 1.],\n",
      "         [1., 1., 1.],\n",
      "         [1., 1., 1.]],\n",
      "\n",
      "        [[1., 1., 1.],\n",
      "         [1., 1., 1.],\n",
      "         [1., 1., 1.],\n",
      "         [1., 1., 1.]],\n",
      "\n",
      "        [[1., 1., 1.],\n",
      "         [1., 1., 1.],\n",
      "         [1., 1., 1.],\n",
      "         [1., 1., 1.]]]) \n",
      " torch.Size([5, 4, 3])\n",
      "somt_t->stride= (20, 5, 1)\n",
      "transpose_t->stride= (1, 5, 20)\n"
     ]
    }
   ],
   "source": [
    "some_t =torch.ones(3,4,5)\n",
    "print(some_t,\"\\n\",some_t.shape)\n",
    "transpose_t =some_t.transpose(0,2) #0번째와 2번째의 차원을 바꿈 --> 5* 4 * 3\n",
    "print(transpose_t,\"\\n\",transpose_t.shape)\n",
    "print(f\"somt_t->stride= {some_t.stride()}\")\n",
    "print(f\"transpose_t->stride= {transpose_t.stride()}\") #-> 20 -> 5 ->1   ----> 1 5 20\n"
   ]
  },
  {
   "cell_type": "code",
   "execution_count": 43,
   "id": "71245e53",
   "metadata": {},
   "outputs": [
    {
     "data": {
      "text/plain": [
       "False"
      ]
     },
     "execution_count": 43,
     "metadata": {},
     "output_type": "execute_result"
    }
   ],
   "source": [
    "points.is_contiguous()\n",
    "points_t.is_contiguous()\n"
   ]
  },
  {
   "cell_type": "code",
   "execution_count": 44,
   "id": "9d8b4ec6",
   "metadata": {},
   "outputs": [
    {
     "name": "stdout",
     "output_type": "stream",
     "text": [
      " 4.0\n",
      " 1.0\n",
      " 5.0\n",
      " 3.0\n",
      " 2.0\n",
      " 1.0\n",
      "[torch.storage.TypedStorage(dtype=torch.float32, device=cpu) of size 6]\n",
      "(2, 1)\n"
     ]
    }
   ],
   "source": [
    "#인접하지않는 텐서를 인접한 텐서로 만들자\n",
    "points=torch.tensor([[4.0,1.0],[5.0,3.0],[2.0,1.0]])\n",
    "points_t=points.t()\n",
    "points_t\n",
    "print(points_t.storage())\n",
    "print(points.stride())"
   ]
  },
  {
   "cell_type": "markdown",
   "id": "bd394e64",
   "metadata": {},
   "source": [
    "## contiguous\n",
    "- 연속적인 배열의 메모리 할당이 되엇느냐?"
   ]
  },
  {
   "cell_type": "code",
   "execution_count": 45,
   "id": "b24b8645",
   "metadata": {},
   "outputs": [
    {
     "data": {
      "text/plain": [
       "( 4.0\n",
       "  5.0\n",
       "  2.0\n",
       "  1.0\n",
       "  3.0\n",
       "  1.0\n",
       " [torch.storage.TypedStorage(dtype=torch.float32, device=cpu) of size 6],\n",
       " (3, 1))"
      ]
     },
     "execution_count": 45,
     "metadata": {},
     "output_type": "execute_result"
    }
   ],
   "source": [
    "##컨티기어스를 적용하면?\n",
    "points_cont=points_t.contiguous()\n",
    "points_cont\n",
    "\n",
    "points_cont.storage() ,points_cont.stride()\n",
    "#앞서 말한 문제를 즉 트렌스포즈할때 배열을 바뀌지않앗던 문제를 해결해줫다 열순서로 \n"
   ]
  },
  {
   "cell_type": "markdown",
   "id": "ec8d340f",
   "metadata": {},
   "source": [
    "## 텐서 디바이스 속성관리\n",
    "- 텐서를 gpu를 사용하여만들자"
   ]
  },
  {
   "cell_type": "code",
   "execution_count": 46,
   "id": "0a28b302",
   "metadata": {},
   "outputs": [
    {
     "data": {
      "text/plain": [
       "tensor([[4., 1.],\n",
       "        [5., 3.],\n",
       "        [2., 1.]])"
      ]
     },
     "execution_count": 46,
     "metadata": {},
     "output_type": "execute_result"
    }
   ],
   "source": [
    "#m1기반이라 cuda가 없다 즉 이것은 사용할수없다 코랩으로 돌릴대 이용하자\n",
    "#point_gpu = torch.tensor([[4.0,1.0],[5.0,3.0],[2.0,1.0]],device='cuda')\n",
    "point_gpu = torch.tensor([[4.0,1.0],[5.0,3.0],[2.0,1.0]],device='cpu') #지금은 cpu를태우자\n",
    "#point_gpu=points.to(device='cuda')\n",
    "point_gpu=points.to(device='cpu')\n",
    "point_gpu"
   ]
  },
  {
   "cell_type": "markdown",
   "id": "7afb0d3c",
   "metadata": {},
   "source": [
    "- gpu가 2개이상있으면 번호를 설정해두면됨"
   ]
  },
  {
   "cell_type": "code",
   "execution_count": 47,
   "id": "c5874f68",
   "metadata": {},
   "outputs": [],
   "source": [
    "#point_gpu=points.to(device='cuda : 0')"
   ]
  },
  {
   "cell_type": "code",
   "execution_count": 48,
   "id": "7c5a90d4",
   "metadata": {},
   "outputs": [],
   "source": [
    "point=2*points\n",
    "#point_gpu=2*points.to(device=\"cuda\")"
   ]
  },
  {
   "cell_type": "markdown",
   "id": "81f990a3",
   "metadata": {},
   "source": [
    "### 연산과정\n",
    "- 1. point텐서를 gpu에 복사한다\n",
    "- 2 . cpu에 새 텐서를 할당한 후 곱셈결과를 저장\n",
    "- 3. gpu텐서 핸들을 반환"
   ]
  },
  {
   "cell_type": "code",
   "execution_count": 49,
   "id": "5ecd90cc",
   "metadata": {},
   "outputs": [
    {
     "data": {
      "text/plain": [
       "tensor([[12.,  6.],\n",
       "        [14., 10.],\n",
       "        [ 8.,  6.]])"
      ]
     },
     "execution_count": 49,
     "metadata": {},
     "output_type": "execute_result"
    }
   ],
   "source": [
    "point_gpu= point+4\n",
    "point_gpu"
   ]
  },
  {
   "cell_type": "code",
   "execution_count": 50,
   "id": "ceb4d0e6",
   "metadata": {},
   "outputs": [],
   "source": [
    "point_cpu= point_gpu.to(device='cpu') #gpu연산을 cpu연산으로 바꿈"
   ]
  },
  {
   "cell_type": "code",
   "execution_count": 51,
   "id": "a0db95ea",
   "metadata": {},
   "outputs": [],
   "source": [
    "#축약 \n",
    "#point_gpu= poin.cuda()\n",
    "#point_gpu= poin.cuda(0)\n",
    "point_cpu=point_gpu.cpu() #to(device=\"cpu\")랑 같은의미"
   ]
  },
  {
   "cell_type": "markdown",
   "id": "929c2427",
   "metadata": {},
   "source": [
    " ### 넘파이와 호완"
   ]
  },
  {
   "cell_type": "code",
   "execution_count": 5,
   "id": "15445511",
   "metadata": {},
   "outputs": [
    {
     "data": {
      "text/plain": [
       "array([[1., 1., 1., 1.],\n",
       "       [1., 1., 1., 1.],\n",
       "       [1., 1., 1., 1.]], dtype=float32)"
      ]
     },
     "execution_count": 5,
     "metadata": {},
     "output_type": "execute_result"
    }
   ],
   "source": [
    "points=torch.ones(3,4)\n",
    "points_np= points.numpy() #넘파이로 변경\n",
    "points_np\n",
    "# gpu -> cpu로 넘어감 메모리 공간은 동일시됨\n",
    "\n"
   ]
  },
  {
   "cell_type": "markdown",
   "id": "fa55e10f",
   "metadata": {},
   "source": [
    "- 넘파이에서 토치로"
   ]
  },
  {
   "cell_type": "code",
   "execution_count": 53,
   "id": "ad4623a3",
   "metadata": {},
   "outputs": [],
   "source": [
    "points=torch.from_numpy(points_np) # 넘파이에서 토치로 동일한 공간을 위치한 텐서를 얻게됨"
   ]
  },
  {
   "cell_type": "markdown",
   "id": "a725d185",
   "metadata": {},
   "source": [
    "### 텐서 직렬화 \n",
    "- 텐서 저장 \n",
    "- 텐서 불어오기"
   ]
  },
  {
   "cell_type": "code",
   "execution_count": 54,
   "id": "ba918325",
   "metadata": {},
   "outputs": [],
   "source": [
    "torch.save(points,'./dataset/sub/ourpoints.t')"
   ]
  },
  {
   "cell_type": "code",
   "execution_count": 55,
   "id": "d9448b84",
   "metadata": {},
   "outputs": [],
   "source": [
    "with open(\"./dataset/sub/ourpoints2.t\",'wb') as f:\n",
    "    torch.save(points,f)"
   ]
  },
  {
   "cell_type": "code",
   "execution_count": 56,
   "id": "54638ea3",
   "metadata": {},
   "outputs": [],
   "source": [
    "test=torch.load(\"./dataset/sub/ourpoints.t\")"
   ]
  },
  {
   "cell_type": "code",
   "execution_count": 57,
   "id": "35108395",
   "metadata": {},
   "outputs": [],
   "source": [
    "with open(\"./dataset/sub/ourpoints2.t\",'rb') as f:\n",
    "    test= torch.load(f)"
   ]
  },
  {
   "cell_type": "code",
   "execution_count": 58,
   "id": "35558198",
   "metadata": {},
   "outputs": [
    {
     "data": {
      "text/plain": [
       "tensor([[1., 1., 1., 1.],\n",
       "        [1., 1., 1., 1.],\n",
       "        [1., 1., 1., 1.]])"
      ]
     },
     "execution_count": 58,
     "metadata": {},
     "output_type": "execute_result"
    }
   ],
   "source": [
    "test"
   ]
  },
  {
   "cell_type": "markdown",
   "id": "238c1d51",
   "metadata": {},
   "source": [
    "### 주의\n",
    "- 위방법은 파이토치로만 호환이  가능하므로  악이될수도잇음\n",
    "- 텐서를 호환하도록 저장하는 방법 필요\n",
    "\n",
    "\n",
    "###  HDF5 라이브러리\n",
    "- 이식성이 높고 감범위하게 지원되는 다이어리\n",
    "- 중첩된 키- 값 딕셔너리에 직렬화된 정형 다차원 배열을 표현\n",
    "- 데이터 디스크가 잇는 상태에서 원하는 요소만 인덱스로 직접 접근가능"
   ]
  },
  {
   "cell_type": "code",
   "execution_count": 6,
   "id": "538ed960",
   "metadata": {},
   "outputs": [],
   "source": [
    "import h5py"
   ]
  },
  {
   "cell_type": "code",
   "execution_count": 8,
   "id": "7ca362d7",
   "metadata": {},
   "outputs": [],
   "source": [
    "f=h5py.File(\"./dataset/sub/ourpoints.hdf5\",'w')\n",
    "dset=f.create_dataset('coords',data=points.numpy())\n",
    "f.close()\n",
    "#corrds가 파일의키임\n"
   ]
  },
  {
   "cell_type": "code",
   "execution_count": 15,
   "id": "d3a29a28",
   "metadata": {},
   "outputs": [
    {
     "data": {
      "text/plain": [
       "array([[1., 1., 1., 1.],\n",
       "       [1., 1., 1., 1.]], dtype=float32)"
      ]
     },
     "execution_count": 15,
     "metadata": {},
     "output_type": "execute_result"
    }
   ],
   "source": [
    "f=h5py.File(\"./dataset/sub/ourpoints.hdf5\",'r')\n",
    "dset=f['coords']\n",
    "last_points=dset[-2:] #마지막 2번째항부터 마지막까지출력\n",
    "last_points"
   ]
  },
  {
   "cell_type": "code",
   "execution_count": 18,
   "id": "8a000915",
   "metadata": {},
   "outputs": [
    {
     "ename": "ValueError",
     "evalue": "Dset_id is not a dataset id (dset_id is not a dataset ID)",
     "output_type": "error",
     "traceback": [
      "\u001b[0;31m---------------------------------------------------------------------------\u001b[0m",
      "\u001b[0;31mValueError\u001b[0m                                Traceback (most recent call last)",
      "Cell \u001b[0;32mIn[18], line 1\u001b[0m\n\u001b[0;32m----> 1\u001b[0m last_points\u001b[38;5;241m=\u001b[39mtorch\u001b[38;5;241m.\u001b[39mfrom_numpy(\u001b[43mdset\u001b[49m\u001b[43m[\u001b[49m\u001b[38;5;241;43m-\u001b[39;49m\u001b[38;5;241;43m2\u001b[39;49m\u001b[43m:\u001b[49m\u001b[43m]\u001b[49m)\n\u001b[1;32m      2\u001b[0m f\u001b[38;5;241m.\u001b[39mclose()\n",
      "File \u001b[0;32mh5py/_objects.pyx:54\u001b[0m, in \u001b[0;36mh5py._objects.with_phil.wrapper\u001b[0;34m()\u001b[0m\n",
      "File \u001b[0;32mh5py/_objects.pyx:55\u001b[0m, in \u001b[0;36mh5py._objects.with_phil.wrapper\u001b[0;34m()\u001b[0m\n",
      "File \u001b[0;32m/opt/homebrew/Caskroom/miniconda/base/envs/yeardream/lib/python3.9/site-packages/h5py/_hl/dataset.py:768\u001b[0m, in \u001b[0;36mDataset.__getitem__\u001b[0;34m(self, args, new_dtype)\u001b[0m\n\u001b[1;32m    766\u001b[0m \u001b[38;5;28;01mif\u001b[39;00m \u001b[38;5;28mself\u001b[39m\u001b[38;5;241m.\u001b[39m_fast_read_ok \u001b[38;5;129;01mand\u001b[39;00m (new_dtype \u001b[38;5;129;01mis\u001b[39;00m \u001b[38;5;28;01mNone\u001b[39;00m):\n\u001b[1;32m    767\u001b[0m     \u001b[38;5;28;01mtry\u001b[39;00m:\n\u001b[0;32m--> 768\u001b[0m         \u001b[38;5;28;01mreturn\u001b[39;00m \u001b[38;5;28;43mself\u001b[39;49m\u001b[38;5;241;43m.\u001b[39;49m\u001b[43m_fast_reader\u001b[49m\u001b[38;5;241;43m.\u001b[39;49m\u001b[43mread\u001b[49m\u001b[43m(\u001b[49m\u001b[43margs\u001b[49m\u001b[43m)\u001b[49m\n\u001b[1;32m    769\u001b[0m     \u001b[38;5;28;01mexcept\u001b[39;00m \u001b[38;5;167;01mTypeError\u001b[39;00m:\n\u001b[1;32m    770\u001b[0m         \u001b[38;5;28;01mpass\u001b[39;00m  \u001b[38;5;66;03m# Fall back to Python read pathway below\u001b[39;00m\n",
      "File \u001b[0;32mh5py/_selector.pyx:376\u001b[0m, in \u001b[0;36mh5py._selector.Reader.read\u001b[0;34m()\u001b[0m\n",
      "\u001b[0;31mValueError\u001b[0m: Dset_id is not a dataset id (dset_id is not a dataset ID)"
     ]
    }
   ],
   "source": [
    "last_points=torch.from_numpy(dset[-2:])\n",
    "f.close()\n"
   ]
  },
  {
   "cell_type": "code",
   "execution_count": 21,
   "id": "48362384",
   "metadata": {},
   "outputs": [
    {
     "data": {
      "text/plain": [
       "torch.float32"
      ]
     },
     "execution_count": 21,
     "metadata": {},
     "output_type": "execute_result"
    }
   ],
   "source": [
    "last_points.dtype"
   ]
  },
  {
   "cell_type": "markdown",
   "id": "1a641e0f",
   "metadata": {},
   "source": [
    "## 연습문제\n",
    "### 1   list(range(9)) 로부터 텐서를 만들어보자 사이즈, 오프셋, 스트라이드는 몇인가\n",
    "- a,b = a.view(3,3)텐서를 만들고 view역활은 무엇인가? # a와 b가 같은 공간을 가르키고 있는가\n",
    "- c= b[1: , 1:] 로 텐서를 만들고 사이즈 오프셋 스트라이드는 얼마일지 계산해보자\n",
    "\n",
    "### 2.코사인 제곱근 같은 수학연산을 하나골라 동일한 역활을 하는 torch 라이브러리를 찾자\n",
    " - 텐서 a에 대해 해당하는 함수를 요소단위로 실행해보자. 오류발생원인\n",
    " - 동작시키려면 어떤 연산필요할까ㅣ\n",
    " - 해당연산을 추가공간을 사용하지않고 시행하자"
   ]
  },
  {
   "cell_type": "code",
   "execution_count": 36,
   "id": "0d0e239a",
   "metadata": {},
   "outputs": [
    {
     "name": "stdout",
     "output_type": "stream",
     "text": [
      "False\n",
      "True\n"
     ]
    },
    {
     "data": {
      "text/plain": [
       "(3, 1)"
      ]
     },
     "execution_count": 36,
     "metadata": {},
     "output_type": "execute_result"
    }
   ],
   "source": [
    "import torch\n",
    "#la=list(range(9))\n",
    "#la=torch.tensor(la)\n",
    "a= torch.tensor(list(range(9)))\n",
    "a\n",
    "\n",
    "a.size() #([9])\n",
    "a.storage_offset() #0\n",
    "a.stride() # (1,)\n",
    "a.storage()\n",
    "b=a.view(3,3) #view는 a의 대한 1*9 행렬을 3*3행렬로 변환시켜 보여준다 하지만 실제 메모리는 1*9가 되어잇으므로 view를 잘못사용하면 컨티기어스문제가 나온다\n",
    "print(id(a.storage())==id(b.storage())) #트루가뜸 #id = 고유한 식별자(주소)를 반환\n",
    "print(a.data_ptr() == b.data_ptr())  # True를 반환해야 합니다.\n",
    "#즉 같은공간을 가르킨다\n",
    "c= b[1:,1:]\n",
    "c # [4,5][7,8]\n",
    "c.size() #[2,2]\n",
    "c.storage_offset() # 4\n",
    "c.stride()  # (3,1)"
   ]
  },
  {
   "cell_type": "code",
   "execution_count": 29,
   "id": "69f6b9ee",
   "metadata": {},
   "outputs": [
    {
     "name": "stdout",
     "output_type": "stream",
     "text": [
      "True\n",
      "True\n"
     ]
    }
   ],
   "source": [
    "print(a.is_contiguous())\n",
    "\n",
    "print(b.is_contiguous())\n"
   ]
  },
  {
   "cell_type": "code",
   "execution_count": 40,
   "id": "b317cd72",
   "metadata": {},
   "outputs": [
    {
     "name": "stdout",
     "output_type": "stream",
     "text": [
      "tensor([0.0000, 1.0000, 1.0905, 1.1472, 1.1892, 1.2228, 1.2510, 1.2754, 1.2968])\n",
      "tensor([0.0000, 1.0000, 1.0905, 1.1472, 1.1892, 1.2228, 1.2510, 1.2754, 1.2968])\n"
     ]
    }
   ],
   "source": [
    "#a_2 =torch.square(a)\n",
    "#a.square_()\n",
    "# = torch.tensor([4.0, 9.0, 16.0])\n",
    "a2=torch.sqrt(a)  \n",
    "#오류원인 \n",
    "#예전버전 기준으로 long형태의 정수를 float형태의 소수로 반환하려고해서 오류가 난다 이를 해결하기위해서는 float형태로 형변환을 하면된다\n",
    "a=a.float()\n",
    "a.sqrt_() #이렇게하면 인플레이스가 되므로 해당 a의 공간을 그대로 가져와서 값만 바꿀수잇다\n",
    "#앞서말한 오류가 발생한다 \n",
    "print(a2)  # tensor([2., 3., 4.]) \n",
    "print(a)"
   ]
  },
  {
   "cell_type": "code",
   "execution_count": null,
   "id": "5de8654a",
   "metadata": {},
   "outputs": [],
   "source": []
  }
 ],
 "metadata": {
  "kernelspec": {
   "display_name": "Python 3 (ipykernel)",
   "language": "python",
   "name": "python3"
  },
  "language_info": {
   "codemirror_mode": {
    "name": "ipython",
    "version": 3
   },
   "file_extension": ".py",
   "mimetype": "text/x-python",
   "name": "python",
   "nbconvert_exporter": "python",
   "pygments_lexer": "ipython3",
   "version": "3.9.16"
  }
 },
 "nbformat": 4,
 "nbformat_minor": 5
}
