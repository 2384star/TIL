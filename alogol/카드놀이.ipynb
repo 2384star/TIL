{
 "cells": [
  {
   "cell_type": "code",
   "execution_count": 4,
   "id": "2662e84f",
   "metadata": {},
   "outputs": [
    {
     "name": "stdout",
     "output_type": "stream",
     "text": [
      "5\n",
      "3\n",
      "5\n",
      "1\n",
      "4\n",
      "2\n"
     ]
    }
   ],
   "source": [
    "count=int(input())\n",
    "num=[]\n",
    "del_list=[]\n",
    "sub_count=0\n",
    "here=0;\n",
    "for i in range(0,count):\n",
    "    a=int(input())\n",
    "    num.append(a)\n"
   ]
  },
  {
   "cell_type": "code",
   "execution_count": 38,
   "id": "7c540164",
   "metadata": {},
   "outputs": [
    {
     "name": "stdout",
     "output_type": "stream",
     "text": [
      "5\n",
      "3\n",
      "5\n",
      "1\n",
      "4\n",
      "2\n",
      "2\n"
     ]
    }
   ],
   "source": [
    "count = int(input())\n",
    "ans = 0\n",
    "num = [0] * (count + 1)\n",
    "\n",
    "for i in range(count):\n",
    "    temp = int(input())\n",
    "    num[temp] = i\n",
    "\n",
    "for i in range(1, count + 1):\n",
    "    if num[i - 1] > num[i]:\n",
    "        ans += 1\n",
    "\n",
    "print(ans)\n"
   ]
  },
  {
   "cell_type": "markdown",
   "id": "ab964a62",
   "metadata": {},
   "source": [
    "count = int(input())\n",
    "ans = 0\n",
    "num = [0] * (count + 1)\n",
    "\n",
    "for i in range(count):\n",
    "    temp = int(input())\n",
    "    num[temp] = i\n",
    "\n",
    "for i in range(1, count + 1):\n",
    "    if num[i - 1] > num[i]:\n",
    "        ans += 1\n",
    "\n",
    "print(ans)\n"
   ]
  },
  {
   "cell_type": "code",
   "execution_count": null,
   "id": "962efed9",
   "metadata": {},
   "outputs": [],
   "source": []
  }
 ],
 "metadata": {
  "kernelspec": {
   "display_name": "Python 3 (ipykernel)",
   "language": "python",
   "name": "python3"
  },
  "language_info": {
   "codemirror_mode": {
    "name": "ipython",
    "version": 3
   },
   "file_extension": ".py",
   "mimetype": "text/x-python",
   "name": "python",
   "nbconvert_exporter": "python",
   "pygments_lexer": "ipython3",
   "version": "3.9.16"
  }
 },
 "nbformat": 4,
 "nbformat_minor": 5
}
