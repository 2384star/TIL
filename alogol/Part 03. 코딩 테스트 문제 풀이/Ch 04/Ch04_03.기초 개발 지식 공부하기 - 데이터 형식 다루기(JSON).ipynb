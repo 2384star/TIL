{
  "nbformat": 4,
  "nbformat_minor": 0,
  "metadata": {
    "colab": {
      "provenance": [],
      "collapsed_sections": []
    },
    "kernelspec": {
      "name": "python3",
      "display_name": "Python 3"
    },
    "language_info": {
      "name": "python"
    }
  },
  "cells": [
    {
      "cell_type": "markdown",
      "source": [
        "#### <b>JSON 객체 사용 예제</b>"
      ],
      "metadata": {
        "id": "i_MoIm8KEaKE"
      }
    },
    {
      "cell_type": "code",
      "source": [
        "import json\n",
        "\n",
        "user = {\n",
        "    \"id\": \"gildong\",\n",
        "    \"password\": \"1234\"\n",
        "}\n",
        "\n",
        "# 파이썬 변수를 JSON 객체로 변환\n",
        "json_data = json.dumps(user, indent=4)\n",
        "print(json_data)"
      ],
      "metadata": {
        "colab": {
          "base_uri": "https://localhost:8080/"
        },
        "id": "4NdZ8YPHEbMM",
        "outputId": "a62851b7-5ad1-4bcf-d6d1-abe559258e83"
      },
      "execution_count": 3,
      "outputs": [
        {
          "output_type": "stream",
          "name": "stdout",
          "text": [
            "{\n",
            "    \"id\": \"gildong\",\n",
            "    \"password\": \"1234\"\n",
            "}\n"
          ]
        }
      ]
    },
    {
      "cell_type": "markdown",
      "source": [
        "#### <b>JSON 객체 파일 저장 예제</b>"
      ],
      "metadata": {
        "id": "wwlzOa2eEmNn"
      }
    },
    {
      "cell_type": "code",
      "source": [
        "import json\n",
        "\n",
        "# 사전 자료형(dict) 데이터 초기화\n",
        "user = {\n",
        "    \"id\": \"gildong\",\n",
        "    \"password\": \"1234\"\n",
        "}\n",
        "\n",
        "# JSON 데이터로 변환하여 파일로 저장하기\n",
        "with open(\"user.json\", \"w\", encoding=\"utf-8\") as file:\n",
        "    # (파일로 쓰고자하는 객체, 파일 객체, 들여쓰기)\n",
        "    json_data = json.dump(user, file, indent=4)"
      ],
      "metadata": {
        "id": "kx0ln3pmEfJs"
      },
      "execution_count": 4,
      "outputs": []
    }
  ]
}