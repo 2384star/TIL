{
  "nbformat": 4,
  "nbformat_minor": 0,
  "metadata": {
    "colab": {
      "provenance": [],
      "collapsed_sections": []
    },
    "kernelspec": {
      "name": "python3",
      "display_name": "Python 3"
    },
    "language_info": {
      "name": "python"
    }
  },
  "cells": [
    {
      "cell_type": "markdown",
      "source": [
        "#### <b>GET 방식 예제 1)</b>"
      ],
      "metadata": {
        "id": "60UMgXY6BnnL"
      }
    },
    {
      "cell_type": "code",
      "execution_count": 1,
      "metadata": {
        "colab": {
          "base_uri": "https://localhost:8080/"
        },
        "id": "VljVgFXjAc11",
        "outputId": "760fdc7b-463c-40d0-f040-8de94faeeb62"
      },
      "outputs": [
        {
          "output_type": "stream",
          "name": "stdout",
          "text": [
            "<!doctype html><html itemscope=\"\" itemtype=\"http://schema.org/WebPage\" lang=\"en\"><head><meta content=\"Search the world's information, including webpages, images, videos and more. Google has many special features to help you find exactly what you're looking for.\" name=\"description\"><meta content=\"noodp\" name=\"robots\"><meta content=\"text/html; charset=UTF-8\" http-equiv=\"Content-Type\"><meta content=\"/images/branding/googleg/1x/googleg_standard_color_128dp.png\" itemprop=\"image\"><title>Google</title><script nonce=\"qzpVm83_eQS09r8wkunkRg\">(function(){window.google={kEI:'3UI1Y__6IryHwbkP8tGwuAo',kEXPI:'0,202526,17,1099993,56873,6059,206,4804,2316,383,246,5,5367,1123753,1197769,625,380097,16114,19398,9286,22431,1361,283,12032,17584,4998,13228,3847,10622,14762,7979,5081,1593,1279,2451,291,149,1103,840,1983,4314,3514,606,2023,2297,14670,3227,2845,7,33217,553,1851,15324,432,3,346,1244,1,5445,148,11323,2652,4,1528,2304,7039,22023,5708,7357,13658,2980,1457,15351,1435,5830,2527,4097,4049,3,3541,1,42154,2,14022,2373,342,11401,11623,5679,1021,2380,28742,4567,6259,23418,1252,5835,14967,4333,2204,5280,445,2,2,1,1385,5575,19672,8155,7381,2,3,124,15841,872,9626,10008,7,1922,9779,19130,3763,799,7630,4832,1520,4243,2171,8076,1006,122,700,4,1,2,2,2,2,5953,3627,143,699,2269,1225,1208,3927,8454,1284,14,82,949,808,723,373,1037,84,667,2068,124,4814,2619,934,1314,488,922,104,563,197,4,1068,219,236,1352,161,223,676,1795,720,408,190,148,3,1,2,1,390,1073,824,107,188,3790,1,31,124,1902,7,1,951,396,3,123,296,466,45,639,1,1124,402,286,1,132,238,228,152,4,511,453,168,659,375,23,171,547,310,35,301,471,594,416,1075,744,637,135,26,2,530,248,361,132,198,222,1284,5336421,774,16,8799233,3311,141,795,19735,1,1,346,1649,5,3,3,1,1,1,90,19,43,13,4,5,3,2,3,23948640,4042142,1964,3094,11204,2375,3405,5543,5337,439,1374024',kBL:'2qKb'};google.sn='webhp';google.kHL='en';})();(function(){\n",
            "var f=this||self;var h,k=[];function l(a){for(var b;a&&(!a.getAttribute||!(b=a.getAttribute(\"eid\")));)a=a.parentNode;return b||h}function m(a){for(var b=null;a&&(!a.getAttribute||!(b=a.getAttribute(\"leid\")));)a=a.parentNode;return b}\n",
            "function n(a,b,c,d,g){var e=\"\";c||-1!==b.search(\"&ei=\")||(e=\"&ei=\"+l(d),-1===b.search(\"&lei=\")&&(d=m(d))&&(e+=\"&lei=\"+d));d=\"\";!c&&f._cshid&&-1===b.search(\"&cshid=\")&&\"slh\"!==a&&(d=\"&cshid=\"+f._cshid);c=c||\"/\"+(g||\"gen_204\")+\"?atyp=i&ct=\"+a+\"&cad=\"+b+e+\"&zx=\"+Date.now()+d;/^http:/i.test(c)&&\"https:\"===window.location.protocol&&(google.ml&&google.ml(Error(\"a\"),!1,{src:c,glmm:1}),c=\"\");return c};h=google.kEI;google.getEI=l;google.getLEI=m;google.ml=function(){return null};google.log=function(a,b,c,d,g){if(c=n(a,b,c,d,g)){a=new Image;var e=k.length;k[e]=a;a.onerror=a.onload=a.onabort=function(){delete k[e]};a.src=c}};google.logUrl=n;}).call(this);(function(){\n",
            "google.y={};google.sy=[];google.x=function(a,b){if(a)var c=a.id;else{do c=Math.random();while(google.y[c])}google.y[c]=[a,b];return!1};google.sx=function(a){google.sy.push(a)};google.lm=[];google.plm=function(a){google.lm.push.apply(google.lm,a)};google.lq=[];google.load=function(a,b,c){google.lq.push([[a],b,c])};google.loadAll=function(a,b){google.lq.push([a,b])};google.bx=!1;google.lx=function(){};}).call(this);google.f={};(function(){\n",
            "document.documentElement.addEventListener(\"submit\",function(b){var a;if(a=b.target){var c=a.getAttribute(\"data-submitfalse\");a=\"1\"===c||\"q\"===c&&!a.elements.q.value?!0:!1}else a=!1;a&&(b.preventDefault(),b.stopPropagation())},!0);document.documentElement.addEventListener(\"click\",function(b){var a;a:{for(a=b.target;a&&a!==document.documentElement;a=a.parentElement)if(\"A\"===a.tagName){a=\"1\"===a.getAttribute(\"data-nohref\");break a}a=!1}a&&b.preventDefault()},!0);}).call(this);</script><style>#gbar,#guser{font-size:13px;padding-top:1px !important;}#gbar{height:22px}#guser{padding-bottom:7px !important;text-align:right}.gbh,.gbd{border-top:1px solid #c9d7f1;font-size:1px}.gbh{height:0;position:absolute;top:24px;width:100%}@media all{.gb1{height:22px;margin-right:.5em;vertical-align:top}#gbar{float:left}}a.gb1,a.gb4{text-decoration:underline !important}a.gb1,a.gb4{color:#00c !important}.gbi .gb4{color:#dd8e27 !important}.gbf .gb4{color:#900 !important}\n",
            "</style><style>body,td,a,p,.h{font-family:arial,sans-serif}body{margin:0;overflow-y:scroll}#gog{padding:3px 8px 0}td{line-height:.8em}.gac_m td{line-height:17px}form{margin-bottom:20px}.h{color:#1558d6}em{font-weight:bold;font-style:normal}.lst{height:25px;width:496px}.gsfi,.lst{font:18px arial,sans-serif}.gsfs{font:17px arial,sans-serif}.ds{display:inline-box;display:inline-block;margin:3px 0 4px;margin-left:4px}input{font-family:inherit}body{background:#fff;color:#000}a{color:#4b11a8;text-decoration:none}a:hover,a:active{text-decoration:underline}.fl a{color:#1558d6}a:visited{color:#4b11a8}.sblc{padding-top:5px}.sblc a{display:block;margin:2px 0;margin-left:13px;font-size:11px}.lsbb{background:#f8f9fa;border:solid 1px;border-color:#dadce0 #70757a #70757a #dadce0;height:30px}.lsbb{display:block}#WqQANb a{display:inline-block;margin:0 12px}.lsb{background:url(/images/nav_logo229.png) 0 -261px repeat-x;border:none;color:#000;cursor:pointer;height:30px;margin:0;outline:0;font:15px arial,sans-serif;vertical-align:top}.lsb:active{background:#dadce0}.lst:focus{outline:none}</style><script nonce=\"qzpVm83_eQS09r8wkunkRg\">(function(){window.google.erd={jsr:1,bv:1660,de:true};\n",
            "var h=this||self;var k,l=null!=(k=h.mei)?k:1,n,p=null!=(n=h.sdo)?n:!0,q=0,r,t=google.erd,v=t.jsr;google.ml=function(a,b,d,m,e){e=void 0===e?2:e;b&&(r=a&&a.message);if(google.dl)return google.dl(a,e,d),null;if(0>v){window.console&&console.error(a,d);if(-2===v)throw a;b=!1}else b=!a||!a.message||\"Error loading script\"===a.message||q>=l&&!m?!1:!0;if(!b)return null;q++;d=d||{};b=encodeURIComponent;var c=\"/gen_204?atyp=i&ei=\"+b(google.kEI);google.kEXPI&&(c+=\"&jexpid=\"+b(google.kEXPI));c+=\"&srcpg=\"+b(google.sn)+\"&jsr=\"+b(t.jsr)+\"&bver=\"+b(t.bv);var f=a.lineNumber;void 0!==f&&(c+=\"&line=\"+f);var g=\n",
            "a.fileName;g&&(0<g.indexOf(\"-extension:/\")&&(e=3),c+=\"&script=\"+b(g),f&&g===window.location.href&&(f=document.documentElement.outerHTML.split(\"\\n\")[f],c+=\"&cad=\"+b(f?f.substring(0,300):\"No script found.\")));c+=\"&jsel=\"+e;for(var u in d)c+=\"&\",c+=b(u),c+=\"=\",c+=b(d[u]);c=c+\"&emsg=\"+b(a.name+\": \"+a.message);c=c+\"&jsst=\"+b(a.stack||\"N/A\");12288<=c.length&&(c=c.substr(0,12288));a=c;m||google.log(0,\"\",a);return a};window.onerror=function(a,b,d,m,e){r!==a&&(a=e instanceof Error?e:Error(a),void 0===d||\"lineNumber\"in a||(a.lineNumber=d),void 0===b||\"fileName\"in a||(a.fileName=b),google.ml(a,!1,void 0,!1,\"SyntaxError\"===a.name||\"SyntaxError\"===a.message.substring(0,11)||0<a.message.indexOf(\"Script error\")?2:0));r=null;p&&q>=l&&(window.onerror=null)};})();</script></head><body bgcolor=\"#fff\"><script nonce=\"qzpVm83_eQS09r8wkunkRg\">(function(){var src='/images/nav_logo229.png';var iesg=false;document.body.onload = function(){window.n && window.n();if (document.images){new Image().src=src;}\n",
            "if (!iesg){document.f&&document.f.q.focus();document.gbqf&&document.gbqf.q.focus();}\n",
            "}\n",
            "})();</script><div id=\"mngb\"><div id=gbar><nobr><b class=gb1>Search</b> <a class=gb1 href=\"http://www.google.com/imghp?hl=en&tab=wi\">Images</a> <a class=gb1 href=\"http://maps.google.com/maps?hl=en&tab=wl\">Maps</a> <a class=gb1 href=\"https://play.google.com/?hl=en&tab=w8\">Play</a> <a class=gb1 href=\"https://www.youtube.com/?tab=w1\">YouTube</a> <a class=gb1 href=\"https://news.google.com/?tab=wn\">News</a> <a class=gb1 href=\"https://mail.google.com/mail/?tab=wm\">Gmail</a> <a class=gb1 href=\"https://drive.google.com/?tab=wo\">Drive</a> <a class=gb1 style=\"text-decoration:none\" href=\"https://www.google.com/intl/en/about/products?tab=wh\"><u>More</u> &raquo;</a></nobr></div><div id=guser width=100%><nobr><span id=gbn class=gbi></span><span id=gbf class=gbf></span><span id=gbe></span><a href=\"http://www.google.com/history/optout?hl=en\" class=gb4>Web History</a> | <a  href=\"/preferences?hl=en\" class=gb4>Settings</a> | <a target=_top id=gb_70 href=\"https://accounts.google.com/ServiceLogin?hl=en&passive=true&continue=http://www.google.com/&ec=GAZAAQ\" class=gb4>Sign in</a></nobr></div><div class=gbh style=left:0></div><div class=gbh style=right:0></div></div><center><br clear=\"all\" id=\"lgpd\"><div id=\"lga\"><img alt=\"Google\" height=\"92\" src=\"/images/branding/googlelogo/1x/googlelogo_white_background_color_272x92dp.png\" style=\"padding:28px 0 14px\" width=\"272\" id=\"hplogo\"><br><br></div><form action=\"/search\" name=\"f\"><table cellpadding=\"0\" cellspacing=\"0\"><tr valign=\"top\"><td width=\"25%\">&nbsp;</td><td align=\"center\" nowrap=\"\"><input name=\"ie\" value=\"ISO-8859-1\" type=\"hidden\"><input value=\"en\" name=\"hl\" type=\"hidden\"><input name=\"source\" type=\"hidden\" value=\"hp\"><input name=\"biw\" type=\"hidden\"><input name=\"bih\" type=\"hidden\"><div class=\"ds\" style=\"height:32px;margin:4px 0\"><input class=\"lst\" style=\"margin:0;padding:5px 8px 0 6px;vertical-align:top;color:#000\" autocomplete=\"off\" value=\"\" title=\"Google Search\" maxlength=\"2048\" name=\"q\" size=\"57\"></div><br style=\"line-height:0\"><span class=\"ds\"><span class=\"lsbb\"><input class=\"lsb\" value=\"Google Search\" name=\"btnG\" type=\"submit\"></span></span><span class=\"ds\"><span class=\"lsbb\"><input class=\"lsb\" id=\"tsuid_1\" value=\"I'm Feeling Lucky\" name=\"btnI\" type=\"submit\"><script nonce=\"qzpVm83_eQS09r8wkunkRg\">(function(){var id='tsuid_1';document.getElementById(id).onclick = function(){if (this.form.q.value){this.checked = 1;if (this.form.iflsig)this.form.iflsig.disabled = false;}\n",
            "else top.location='/doodles/';};})();</script><input value=\"AJiK0e8AAAAAYzVQ7aT1LCdVzPiaOxrntNgW8CocrytV\" name=\"iflsig\" type=\"hidden\"></span></span></td><td class=\"fl sblc\" align=\"left\" nowrap=\"\" width=\"25%\"><a href=\"/advanced_search?hl=en&amp;authuser=0\">Advanced search</a></td></tr></table><input id=\"gbv\" name=\"gbv\" type=\"hidden\" value=\"1\"><script nonce=\"qzpVm83_eQS09r8wkunkRg\">(function(){\n",
            "var a,b=\"1\";if(document&&document.getElementById)if(\"undefined\"!=typeof XMLHttpRequest)b=\"2\";else if(\"undefined\"!=typeof ActiveXObject){var c,d,e=[\"MSXML2.XMLHTTP.6.0\",\"MSXML2.XMLHTTP.3.0\",\"MSXML2.XMLHTTP\",\"Microsoft.XMLHTTP\"];for(c=0;d=e[c++];)try{new ActiveXObject(d),b=\"2\"}catch(h){}}a=b;if(\"2\"==a&&-1==location.search.indexOf(\"&gbv=2\")){var f=google.gbvu,g=document.getElementById(\"gbv\");g&&(g.value=a);f&&window.setTimeout(function(){location.href=f},0)};}).call(this);</script></form><div id=\"gac_scont\"></div><div style=\"font-size:83%;min-height:3.5em\"><br></div><span id=\"footer\"><div style=\"font-size:10pt\"><div style=\"margin:19px auto;text-align:center\" id=\"WqQANb\"><a href=\"/intl/en/ads/\">Advertising Programs</a><a href=\"/services/\">Business Solutions</a><a href=\"/intl/en/about.html\">About Google</a></div></div><p style=\"font-size:8pt;color:#70757a\">&copy; 2022 - <a href=\"/intl/en/policies/privacy/\">Privacy</a> - <a href=\"/intl/en/policies/terms/\">Terms</a></p></span></center><script nonce=\"qzpVm83_eQS09r8wkunkRg\">(function(){window.google.cdo={height:757,width:1440};(function(){\n",
            "var a=window.innerWidth,b=window.innerHeight;if(!a||!b){var c=window.document,d=\"CSS1Compat\"==c.compatMode?c.documentElement:c.body;a=d.clientWidth;b=d.clientHeight}a&&b&&(a!=google.cdo.width||b!=google.cdo.height)&&google.log(\"\",\"\",\"/client_204?&atyp=i&biw=\"+a+\"&bih=\"+b+\"&ei=\"+google.kEI);}).call(this);})();</script> <script nonce=\"qzpVm83_eQS09r8wkunkRg\">(function(){google.xjs={ck:'xjs.hp.CXK6HVSmUM8.L.X.O',cs:'ACT90oHyoXbGQiOVtlLiiKHUzsflOWX4JA',excm:[]};})();</script>  <script nonce=\"qzpVm83_eQS09r8wkunkRg\">(function(){var u='/xjs/_/js/k\\x3dxjs.hp.en_US.m2mlzch84Z0.O/am\\x3dAACeAAAUAKg/d\\x3d1/ed\\x3d1/rs\\x3dACT90oH562lsAF0vIUVpC4zNMh2-RH4Dvg/m\\x3dsb_he,d';\n",
            "var d=this||self,e=function(a){return a};\n",
            "var g;var l=function(a,b){this.g=b===h?a:\"\"};l.prototype.toString=function(){return this.g+\"\"};var h={};function n(){var a=u;google.lx=function(){p(a);google.lx=function(){}};google.bx||google.lx()}\n",
            "function p(a){google.timers&&google.timers.load&&google.tick&&google.tick(\"load\",\"xjsls\");var b=document;var c=\"SCRIPT\";\"application/xhtml+xml\"===b.contentType&&(c=c.toLowerCase());c=b.createElement(c);if(void 0===g){b=null;var k=d.trustedTypes;if(k&&k.createPolicy){try{b=k.createPolicy(\"goog#html\",{createHTML:e,createScript:e,createScriptURL:e})}catch(q){d.console&&d.console.error(q.message)}g=b}else g=b}a=(b=g)?b.createScriptURL(a):a;a=new l(a,h);c.src=a instanceof l&&a.constructor===l?a.g:\"type_error:TrustedResourceUrl\";var f,m;(f=(a=null==(m=(f=(c.ownerDocument&&c.ownerDocument.defaultView||window).document).querySelector)?void 0:m.call(f,\"script[nonce]\"))?a.nonce||a.getAttribute(\"nonce\")||\"\":\"\")&&c.setAttribute(\"nonce\",f);document.body.appendChild(c);google.psa=!0};google.xjsu=u;setTimeout(function(){n()},0);})();function _DumpException(e){throw e;}\n",
            "function _F_installCss(c){}\n",
            "(function(){google.jl={blt:'none',chnk:0,dw:false,dwu:true,emtn:0,end:0,ine:false,injs:'none',injt:0,injth:0,injv2:false,lls:'default',pdt:0,rep:0,snet:true,strt:0,ubm:false,uwp:true};})();(function(){var pmc='{\\x22d\\x22:{},\\x22sb_he\\x22:{\\x22agen\\x22:true,\\x22cgen\\x22:true,\\x22client\\x22:\\x22heirloom-hp\\x22,\\x22dh\\x22:true,\\x22dhqt\\x22:true,\\x22ds\\x22:\\x22\\x22,\\x22ffql\\x22:\\x22en\\x22,\\x22fl\\x22:true,\\x22host\\x22:\\x22google.com\\x22,\\x22isbh\\x22:28,\\x22jsonp\\x22:true,\\x22msgs\\x22:{\\x22cibl\\x22:\\x22Clear Search\\x22,\\x22dym\\x22:\\x22Did you mean:\\x22,\\x22lcky\\x22:\\x22I\\\\u0026#39;m Feeling Lucky\\x22,\\x22lml\\x22:\\x22Learn more\\x22,\\x22oskt\\x22:\\x22Input tools\\x22,\\x22psrc\\x22:\\x22This search was removed from your \\\\u003Ca href\\x3d\\\\\\x22/history\\\\\\x22\\\\u003EWeb History\\\\u003C/a\\\\u003E\\x22,\\x22psrl\\x22:\\x22Remove\\x22,\\x22sbit\\x22:\\x22Search by image\\x22,\\x22srch\\x22:\\x22Google Search\\x22},\\x22ovr\\x22:{},\\x22pq\\x22:\\x22\\x22,\\x22refpd\\x22:true,\\x22rfs\\x22:[],\\x22sbas\\x22:\\x220 3px 8px 0 rgba(0,0,0,0.2),0 0 0 1px rgba(0,0,0,0.08)\\x22,\\x22sbpl\\x22:16,\\x22sbpr\\x22:16,\\x22scd\\x22:10,\\x22stok\\x22:\\x22XqzUjVMFgNIWHw38bGmfIh0as2o\\x22,\\x22uhde\\x22:false}}';google.pmc=JSON.parse(pmc);})();</script>        </body></html>\n"
          ]
        }
      ],
      "source": [
        "import requests\n",
        "\n",
        "target = \"http://google.com\" # 접속할 주소\n",
        "\n",
        "# 요청(Request) 객체를 생성합니다.\n",
        "request = requests.get(url=target)\n",
        "\n",
        "# 웹 사이트의 HTML 소스코드를 추출합니다.\n",
        "html = request.text.strip()\n",
        "\n",
        "print(html)"
      ]
    },
    {
      "cell_type": "markdown",
      "source": [
        "#### <b>GET 방식 예제 2)</b>"
      ],
      "metadata": {
        "id": "sK9JdMs0Brel"
      }
    },
    {
      "cell_type": "code",
      "source": [
        "import requests\n",
        "\n",
        "# 요청(Request) 객체를 생성합니다.\n",
        "request = requests.get('http://dowellcomputer.com/main.jsp')\n",
        "\n",
        "# 웹 사이트의 HTML 소스코드를 추출합니다.\n",
        "html = request.text.strip()\n",
        "\n",
        "print(html)"
      ],
      "metadata": {
        "colab": {
          "base_uri": "https://localhost:8080/"
        },
        "id": "cRWDTSicAzxz",
        "outputId": "fb7e67c9-4ed7-45ef-9d54-42231740acea"
      },
      "execution_count": null,
      "outputs": [
        {
          "output_type": "stream",
          "name": "stdout",
          "text": [
            "<!DOCTYPE html>\r\n",
            " \r\n",
            "<html>\r\n",
            "\t<head>\r\n",
            "\t\t<link rel=\"stylesheet\" type=\"text/css\" href=\"./css/mainStyle.css\">\t\r\n",
            "\t\t<meta http-equiv=\"Content-Type\" content=\"text/html; charset=UTF-8\">\r\n",
            "\t\t<title>컴잘알</title>\r\n",
            "\t</head>\r\n",
            "\t<body>\r\n",
            "\t\t<div id=\"mainBox\">\r\n",
            "\t\t\t<div id=\"titleBox\">\r\n",
            "\t\t\t\t<a href=\"./main.jsp\">컴잘알</a>\r\n",
            "\t\t\t</div>\r\n",
            "\t\t\t<div id=\"navigationBox\">\r\n",
            "\t\t\t\t\r\n",
            "\t\t\t\t\t\t<a href=\"./member/memberLoginForm.jsp\" class=\"basicButton\">로그인</a>\r\n",
            "\t\t\t\t\t\t<a href=\"./member/memberJoinForm.jsp\" class=\"basicButton\">회원가입</a>\r\n",
            "\t\t\t\t\r\n",
            "\t\t\t\t\t<a href=\"./study/study.jsp\" class=\"basicButton\">공부방</a>\r\n",
            "\t\t\t\t\t<a href=\"./talk/talkListForm.jsp\" class=\"basicButton\">대화방</a>\r\n",
            "\t\t\t\t\t<a href=\"./notice/noticeListForm.jsp\" class=\"basicButton\">공지사항</a>\r\n",
            "\t\t\t</div>\r\n",
            "\t\t\t<hr style=\"border: 2px solid black;\">\r\n",
            "\t\t\t<div class=\"slideshow-container\"><br>\r\n",
            "\t\t\t  <div class=\"mySlides fade\">\r\n",
            "\t\t\t    <img src=\"./image/mainOne.jpg\" style=\"width:100%\">\r\n",
            "\t\t\t  </div>\r\n",
            "\t\t\t  <div class=\"mySlides fade\">\r\n",
            "\t\t\t    <img src=\"./image/mainTwo.jpg\" style=\"width:100%\">\r\n",
            "\t\t\t  </div>\r\n",
            "\t\t\t  <div class=\"mySlides fade\">\r\n",
            "\t\t\t    <img src=\"./image/mainThree.jpg\" style=\"width:100%\">\r\n",
            "\t\t\t  </div>\r\n",
            "\t\t\t  <a class=\"prev\" onclick=\"plusSlides(-1)\">&#10094;</a>\r\n",
            "\t\t\t  <a class=\"next\" onclick=\"plusSlides(1)\">&#10095;</a>\r\n",
            "\t\t\t</div>\r\n",
            "\t\t\t<br>\r\n",
            "\t\t\t<div style=\"text-align:center\">\r\n",
            "\t\t\t  <span class=\"dot\" onclick=\"currentSlide(1)\"></span> \r\n",
            "\t\t\t  <span class=\"dot\" onclick=\"currentSlide(2)\"></span> \r\n",
            "\t\t\t  <span class=\"dot\" onclick=\"currentSlide(3)\"></span> \r\n",
            "\t\t\t</div>\r\n",
            "\t\t\t<script>\r\n",
            "\t\t\t\tvar slideIndex = 1;\r\n",
            "\t\t\t\tshowSlides(slideIndex);\r\n",
            "\t\t\t\t\r\n",
            "\t\t\t\tfunction plusSlides(n) {\r\n",
            "\t\t\t\t  showSlides(slideIndex += n);\r\n",
            "\t\t\t\t}\r\n",
            "\t\t\t\t\r\n",
            "\t\t\t\tfunction currentSlide(n) {\r\n",
            "\t\t\t\t  showSlides(slideIndex = n);\r\n",
            "\t\t\t\t}\r\n",
            "\t\t\t\t\r\n",
            "\t\t\t\tfunction showSlides(n) {\r\n",
            "\t\t\t\t  var i;\r\n",
            "\t\t\t\t  var slides = document.getElementsByClassName(\"mySlides\");\r\n",
            "\t\t\t\t  var dots = document.getElementsByClassName(\"dot\");\r\n",
            "\t\t\t\t  if (n > slides.length) {slideIndex = 1} \r\n",
            "\t\t\t\t  if (n < 1) {slideIndex = slides.length}\r\n",
            "\t\t\t\t  for (i = 0; i < slides.length; i++) {\r\n",
            "\t\t\t\t      slides[i].style.display = \"none\"; \r\n",
            "\t\t\t\t  }\r\n",
            "\t\t\t\t  for (i = 0; i < dots.length; i++) {\r\n",
            "\t\t\t\t      dots[i].className = dots[i].className.replace(\" active\", \"\");\r\n",
            "\t\t\t\t  }\r\n",
            "\t\t\t\t  slides[slideIndex-1].style.display = \"block\"; \r\n",
            "\t\t\t\t  dots[slideIndex-1].className += \" active\";\r\n",
            "\t\t\t\t}\r\n",
            "\t\t\t</script>\r\n",
            "\t\t\t<br>\r\n",
            "\t\t\t<div id=\"viewBox\">\r\n",
            "\t\t\t\t<table>\r\n",
            "\t\t        \t<tr>\r\n",
            "\t\t        \t\t<td class=\"head\" colspan=\"4\">\r\n",
            "\t\t        \t\t\t최근 공지사항\r\n",
            "\t\t        \t\t</td>\r\n",
            "\t\t        \t</tr>\t\t\t\t\r\n",
            "\t\t\t\t    <tr>\r\n",
            "\t\t\t\t        <td class=\"middle\">\r\n",
            "\t\t\t\t        \t아이디\r\n",
            "\t\t\t\t        </td>\r\n",
            "\t\t\t\t        <td class=\"middle\" style=\"width: 320px;\">\r\n",
            "\t\t\t\t        \t제목\r\n",
            "\t\t\t\t        </td>\r\n",
            "\t\t\t\t        <td class=\"middle\" style=\"width: 180px;\">\r\n",
            "\t\t\t\t        \t게시글 등록일\r\n",
            "\t\t\t\t        </td>\t\t \t\t        \t        \t\t        \t\t        \r\n",
            "\t\t\t\t    </tr>\r\n",
            "\t\t\t\t     \r\n",
            "\t\t\t\t    <tr> \r\n",
            "\t\t\t\t    \t<td class=\"tail\" style=\"text-align: center;\">나동빈</td>\r\n",
            "\t\t\t\t    \t<td class=\"tail\"><a href=\"./notice/noticeViewForm.jsp?noticeID=4\"><b>자바 기초 프로그래밍 강좌를 완강했습니다.</b></a></td>\r\n",
            "\t\t\t\t    \t<td class=\"tail\" style=\"text-align: center;\">2017-05-02\r\n",
            "\t\t\t\t    </tr>\r\n",
            "\t\t\t\t \r\n",
            "\t\t\t\t    <tr> \r\n",
            "\t\t\t\t    \t<td class=\"tail\" style=\"text-align: center;\">나동빈</td>\r\n",
            "\t\t\t\t    \t<td class=\"tail\"><a href=\"./notice/noticeViewForm.jsp?noticeID=1\"><b>컴잘알에 오신 것을 환영합니다.</b></a></td>\r\n",
            "\t\t\t\t    \t<td class=\"tail\" style=\"text-align: center;\">2016-11-28\r\n",
            "\t\t\t\t    </tr>\r\n",
            "\t\t\t\t \r\n",
            "\t\t\t\t</table>\t\t\t\r\n",
            "\t\t\t</div>\t\r\n",
            "\t\t\t<div class=\"studyViewBox\">\r\n",
            "\t\t\t\t<table>\r\n",
            "\t\t        \t<tr>\r\n",
            "\t\t        \t\t<td class=\"head\" colspan=\"3\">\r\n",
            "\t\t        \t\t\t최근 강의\r\n",
            "\t\t        \t\t</td>\r\n",
            "\t\t        \t</tr>\t\t\t\t\r\n",
            "\t\t\t\t    <tr>\r\n",
            "\t\t\t\t        <td class=\"middle\">\r\n",
            "\t\t\t\t        \t선생님\r\n",
            "\t\t\t\t        </td>\r\n",
            "\t\t\t\t        <td class=\"middle\" style=\"width: 560px;\">\r\n",
            "\t\t\t\t        \t제목\r\n",
            "\t\t\t\t        </td>\r\n",
            "\t\t\t\t        <td class=\"middle\" style=\"width: 180px;\">\r\n",
            "\t\t\t\t        \t게시글 등록일\r\n",
            "\t\t\t\t        </td>\t\t \t\t        \t        \t\t        \t\t        \r\n",
            "\t\t\t\t    </tr>\r\n",
            "\t\t\t\t     \r\n",
            "\t\t\t\t    <tr> \r\n",
            "\t\t\t\t    \t<td class=\"tail\" style=\"text-align: center;\">나동빈</td>\r\n",
            "\t\t\t\t    \t<td class=\"tail\"><a href=\"./study/study.jsp?studyID=85\"><b>C언어 기초 프로그래밍 강좌 20강 - 동적 메모리의 활용 (C Programming Tutorial For Beginners 2017 #20) </b></a></td>\r\n",
            "\t\t\t\t    \t<td class=\"tail\" style=\"text-align: center;\">2017-05-15\r\n",
            "\t\t\t\t    </tr>\r\n",
            "\t\t\t\t \r\n",
            "\t\t\t\t    <tr> \r\n",
            "\t\t\t\t    \t<td class=\"tail\" style=\"text-align: center;\">나동빈</td>\r\n",
            "\t\t\t\t    \t<td class=\"tail\"><a href=\"./study/study.jsp?studyID=84\"><b>C언어 기초 프로그래밍 강좌 19강 - 동적 메모리 (C Programming Tutorial For Beginners 2017 #19) </b></a></td>\r\n",
            "\t\t\t\t    \t<td class=\"tail\" style=\"text-align: center;\">2017-05-15\r\n",
            "\t\t\t\t    </tr>\r\n",
            "\t\t\t\t \r\n",
            "\t\t\t\t    <tr> \r\n",
            "\t\t\t\t    \t<td class=\"tail\" style=\"text-align: center;\">나동빈</td>\r\n",
            "\t\t\t\t    \t<td class=\"tail\"><a href=\"./study/study.jsp?studyID=83\"><b>C언어 기초 프로그래밍 강좌 18강 - 파일 입출력 (C Programming Tutorial For Beginners 2017 #18) </b></a></td>\r\n",
            "\t\t\t\t    \t<td class=\"tail\" style=\"text-align: center;\">2017-05-15\r\n",
            "\t\t\t\t    </tr>\r\n",
            "\t\t\t\t \r\n",
            "\t\t\t\t    <tr> \r\n",
            "\t\t\t\t    \t<td class=\"tail\" style=\"text-align: center;\">나동빈</td>\r\n",
            "\t\t\t\t    \t<td class=\"tail\"><a href=\"./study/study.jsp?studyID=82\"><b>C언어 기초 프로그래밍 강좌 17강 - 구조체의 활용 ② (C Programming Tutorial For Beginners 2017 #17) </b></a></td>\r\n",
            "\t\t\t\t    \t<td class=\"tail\" style=\"text-align: center;\">2017-05-15\r\n",
            "\t\t\t\t    </tr>\r\n",
            "\t\t\t\t \r\n",
            "\t\t\t\t    <tr> \r\n",
            "\t\t\t\t    \t<td class=\"tail\" style=\"text-align: center;\">나동빈</td>\r\n",
            "\t\t\t\t    \t<td class=\"tail\"><a href=\"./study/study.jsp?studyID=81\"><b>C언어 기초 프로그래밍 강좌 16강 - 구조체의 활용 ① (C Programming Tutorial For Beginners 2017 #16) </b></a></td>\r\n",
            "\t\t\t\t    \t<td class=\"tail\" style=\"text-align: center;\">2017-05-15\r\n",
            "\t\t\t\t    </tr>\r\n",
            "\t\t\t\t \r\n",
            "\t\t\t\t</table>\r\n",
            "\t\t\t</div>\t\r\n",
            "\t\t</div>\t\r\n",
            "\t</body>\r\n",
            "</html>\n"
          ]
        }
      ]
    },
    {
      "cell_type": "markdown",
      "source": [
        "#### <b>웹 사이트에서 정보 추출하기</b>"
      ],
      "metadata": {
        "id": "P9Fd5bBIBtFw"
      }
    },
    {
      "cell_type": "code",
      "source": [
        "import requests\n",
        "from bs4 import BeautifulSoup\n",
        "\n",
        "# 요청(Request) 객체를 생성합니다.\n",
        "request = requests.get('http://dowellcomputer.com/main.jsp')\n",
        "\n",
        "# 웹 사이트의 HTML 소스코드를 추출합니다.\n",
        "html = request.text.strip()\n",
        "\n",
        "# HTML 소스코드를 파이썬 BeautifulSoup 객체로 변환합니다.\n",
        "soup = BeautifulSoup(html, 'html.parser')\n",
        "\n",
        "# 특정한 클래스 이름으로 접근합니다.\n",
        "data = soup.find('div', class_='studyViewBox')\n",
        "\n",
        "# <td> 태그 내부에서 <a> 태그를 포함하는 경우를 추출합니다.\n",
        "data = data.select('td > a')\n",
        "\n",
        "# 모든 링크에 하나씩 접근합니다.\n",
        "for link in data:\n",
        "    # 텍스트(글 제목) 부분만 출력합니다.\n",
        "    print(link.text)"
      ],
      "metadata": {
        "colab": {
          "base_uri": "https://localhost:8080/"
        },
        "id": "fsmDh8C7BTiR",
        "outputId": "9d0b4097-47eb-4e2f-febe-8e615a976414"
      },
      "execution_count": 2,
      "outputs": [
        {
          "output_type": "stream",
          "name": "stdout",
          "text": [
            "C언어 기초 프로그래밍 강좌 20강 - 동적 메모리의 활용 (C Programming Tutorial For Beginners 2017 #20) \n",
            "C언어 기초 프로그래밍 강좌 19강 - 동적 메모리 (C Programming Tutorial For Beginners 2017 #19) \n",
            "C언어 기초 프로그래밍 강좌 18강 - 파일 입출력 (C Programming Tutorial For Beginners 2017 #18) \n",
            "C언어 기초 프로그래밍 강좌 17강 - 구조체의 활용 ② (C Programming Tutorial For Beginners 2017 #17) \n",
            "C언어 기초 프로그래밍 강좌 16강 - 구조체의 활용 ① (C Programming Tutorial For Beginners 2017 #16) \n"
          ]
        }
      ]
    }
  ]
}