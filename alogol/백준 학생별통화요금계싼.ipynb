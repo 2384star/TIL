{
 "cells": [
  {
   "cell_type": "code",
   "execution_count": 46,
   "id": "389f0612",
   "metadata": {},
   "outputs": [],
   "source": [
    "# import datetime\n",
    "from datetime import datetime\n",
    "sub_score=10"
   ]
  },
  {
   "cell_type": "code",
   "execution_count": 39,
   "id": "5097083f",
   "metadata": {},
   "outputs": [
    {
     "name": "stdout",
     "output_type": "stream",
     "text": [
      "3\n"
     ]
    }
   ],
   "source": [
    "num=int(input())"
   ]
  },
  {
   "cell_type": "code",
   "execution_count": 40,
   "id": "1b17a15b",
   "metadata": {},
   "outputs": [],
   "source": [
    "sample_inputs = []\n",
    "sub_time = datetime.strptime(\"00:00\", \"%H:%M\")"
   ]
  },
  {
   "cell_type": "code",
   "execution_count": 41,
   "id": "80291763",
   "metadata": {},
   "outputs": [
    {
     "name": "stdout",
     "output_type": "stream",
     "text": [
      "01:10 aaa\n",
      "02:20 bbb\n",
      "03:30 ccc\n"
     ]
    }
   ],
   "source": [
    "for i in range(0,num):\n",
    "    time_str, name = input().split()\n",
    "    time_obj = datetime.strptime(time_str, \"%H:%M\")\n",
    "    \n",
    "    \n",
    "    \n",
    "    difference = (time_obj - sub_time).seconds // 60\n",
    "    sample_inputs.append((difference,name))\n",
    "#     sample_inputs[0][i]=datetime.strptime\n",
    "\n"
   ]
  },
  {
   "cell_type": "code",
   "execution_count": 42,
   "id": "3d6b7bd6",
   "metadata": {},
   "outputs": [
    {
     "data": {
      "text/plain": [
       "[(70, 'aaa'), (140, 'bbb'), (210, 'ccc')]"
      ]
     },
     "execution_count": 42,
     "metadata": {},
     "output_type": "execute_result"
    }
   ],
   "source": [
    "sample_inputs"
   ]
  },
  {
   "cell_type": "code",
   "execution_count": 44,
   "id": "0a369819",
   "metadata": {},
   "outputs": [],
   "source": [
    "main_dict={}\n",
    "\n",
    "for time,name in sample_inputs:\n",
    "    if name in main_dict:\n",
    "        main_dict[name] += time\n",
    "    else:\n",
    "        main_dict[name]= time\n",
    "    \n",
    "    \n",
    "\n",
    "name_list=[(time,name) for name,time in main_dict.items()]"
   ]
  },
  {
   "cell_type": "code",
   "execution_count": 49,
   "id": "1aeedc30",
   "metadata": {},
   "outputs": [],
   "source": [
    "for time,name in name_list:\n",
    "    if time>50:\n",
    "        time=int(time/30)+10\n",
    "    else:\n",
    "        time = 10"
   ]
  },
  {
   "cell_type": "code",
   "execution_count": 50,
   "id": "219e466e",
   "metadata": {},
   "outputs": [
    {
     "data": {
      "text/plain": [
       "[(70, 'aaa'), (140, 'bbb'), (210, 'ccc')]"
      ]
     },
     "execution_count": 50,
     "metadata": {},
     "output_type": "execute_result"
    }
   ],
   "source": [
    "name_list"
   ]
  },
  {
   "cell_type": "code",
   "execution_count": null,
   "id": "4c894f4d",
   "metadata": {},
   "outputs": [],
   "source": [
    "name_list.sort(key=lambda x: (-x[1], x[0]))\n",
    "for name, score in name_list:\n",
    "    print(f\"{name} {score}\")"
   ]
  }
 ],
 "metadata": {
  "kernelspec": {
   "display_name": "Python 3 (ipykernel)",
   "language": "python",
   "name": "python3"
  },
  "language_info": {
   "codemirror_mode": {
    "name": "ipython",
    "version": 3
   },
   "file_extension": ".py",
   "mimetype": "text/x-python",
   "name": "python",
   "nbconvert_exporter": "python",
   "pygments_lexer": "ipython3",
   "version": "3.9.16"
  }
 },
 "nbformat": 4,
 "nbformat_minor": 5
}
