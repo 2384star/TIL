{
 "cells": [
  {
   "cell_type": "code",
   "execution_count": 65,
   "id": "e6b3c7ca",
   "metadata": {},
   "outputs": [
    {
     "name": "stdout",
     "output_type": "stream",
     "text": [
      "3\n",
      "9\n",
      "2 1 4 3 5 6 2 7 2\n"
     ]
    }
   ],
   "source": [
    "total = int(input())\n",
    "suggestion= int(input())\n",
    "number = list(map(int,input().split(\" \")))\n",
    "\n"
   ]
  },
  {
   "cell_type": "code",
   "execution_count": 66,
   "id": "424fa661",
   "metadata": {},
   "outputs": [],
   "source": [
    "select=dict()"
   ]
  },
  {
   "cell_type": "code",
   "execution_count": null,
   "id": "c6735f12",
   "metadata": {},
   "outputs": [],
   "source": []
  },
  {
   "cell_type": "code",
   "execution_count": 68,
   "id": "268e1ff2",
   "metadata": {},
   "outputs": [
    {
     "name": "stdout",
     "output_type": "stream",
     "text": [
      "2 6 7\n"
     ]
    }
   ],
   "source": [
    "for i in range(suggestion):\n",
    "    if number[i] in select:\n",
    "        select[number[i]][0]+=1\n",
    "    else:\n",
    "        if len(select)<total:\n",
    "            select[number[i]]=[1,i]\n",
    "        else:\n",
    "            del_list =sorted(select.items(),key=lambda x:(x[1][0],x[1][1]))\n",
    "            del_key=del_list[0][0]\n",
    "            del(select[del_key])\n",
    "            select[number[i]]=[1,i]\n",
    "aws=list(sorted(select.keys()))\n",
    "answer=str(aws[0])\n",
    "for i in aws[1:]:\n",
    "    answer +=\" \"+str(i)\n",
    "print(answer)"
   ]
  },
  {
   "cell_type": "code",
   "execution_count": 58,
   "id": "94ca0240",
   "metadata": {},
   "outputs": [
    {
     "name": "stdout",
     "output_type": "stream",
     "text": [
      "[1, 2, 5]\n"
     ]
    }
   ],
   "source": []
  },
  {
   "cell_type": "code",
   "execution_count": null,
   "id": "6b7d8c6e",
   "metadata": {},
   "outputs": [],
   "source": []
  },
  {
   "cell_type": "code",
   "execution_count": null,
   "id": "c4e593c7",
   "metadata": {},
   "outputs": [],
   "source": []
  },
  {
   "cell_type": "code",
   "execution_count": null,
   "id": "96780476",
   "metadata": {},
   "outputs": [],
   "source": []
  }
 ],
 "metadata": {
  "kernelspec": {
   "display_name": "Python 3 (ipykernel)",
   "language": "python",
   "name": "python3"
  },
  "language_info": {
   "codemirror_mode": {
    "name": "ipython",
    "version": 3
   },
   "file_extension": ".py",
   "mimetype": "text/x-python",
   "name": "python",
   "nbconvert_exporter": "python",
   "pygments_lexer": "ipython3",
   "version": "3.9.16"
  }
 },
 "nbformat": 4,
 "nbformat_minor": 5
}
