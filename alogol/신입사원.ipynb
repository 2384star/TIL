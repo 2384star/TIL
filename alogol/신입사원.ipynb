{
 "cells": [
  {
   "cell_type": "code",
   "execution_count": 2,
   "id": "0f1b882e",
   "metadata": {},
   "outputs": [
    {
     "name": "stdout",
     "output_type": "stream",
     "text": [
      "2\n"
     ]
    }
   ],
   "source": [
    "count= int(input())"
   ]
  },
  {
   "cell_type": "code",
   "execution_count": 5,
   "id": "fbe19d05",
   "metadata": {},
   "outputs": [
    {
     "name": "stdout",
     "output_type": "stream",
     "text": [
      "5\n",
      "3 2\n",
      "1 4\n",
      "4 1\n",
      "2 3\n",
      "5 5\n",
      "4\n",
      "7 \n",
      "3 6\n",
      "7 3\n",
      "4 2\n",
      "1 4\n",
      "5 7\n",
      "2 5\n",
      "6 1\n",
      "3\n"
     ]
    }
   ],
   "source": [
    "for i in range(count):\n",
    "    nunber= int(input())\n",
    "    avg_ilst=[]\n",
    "    for i in range(nunber):\n",
    "        x,y= map(int,input().split())\n",
    "        avg_ilst.append([x,y])\n",
    "    avg_ilst.sort()\n",
    "    sample=avg_ilst[0][1]\n",
    "    counts=1 #왜냐? 이유는 어짜피 [0][?] 이 오더라도 [0]번재 친구는 항상 언제나 합격이니까 서류점수가 1등이라서\n",
    "    for j in range(1,nunber):\n",
    "        if avg_ilst[j][1] <sample:\n",
    "            sample=avg_ilst[j][1]\n",
    "            counts +=1\n",
    "    print(counts)"
   ]
  },
  {
   "cell_type": "code",
   "execution_count": 27,
   "id": "8d32b4d5",
   "metadata": {},
   "outputs": [
    {
     "data": {
      "text/plain": [
       "3"
      ]
     },
     "execution_count": 27,
     "metadata": {},
     "output_type": "execute_result"
    }
   ],
   "source": [
    "\n",
    "sample"
   ]
  },
  {
   "cell_type": "code",
   "execution_count": null,
   "id": "2c4fc551",
   "metadata": {},
   "outputs": [],
   "source": []
  }
 ],
 "metadata": {
  "kernelspec": {
   "display_name": "Python 3 (ipykernel)",
   "language": "python",
   "name": "python3"
  },
  "language_info": {
   "codemirror_mode": {
    "name": "ipython",
    "version": 3
   },
   "file_extension": ".py",
   "mimetype": "text/x-python",
   "name": "python",
   "nbconvert_exporter": "python",
   "pygments_lexer": "ipython3",
   "version": "3.9.16"
  }
 },
 "nbformat": 4,
 "nbformat_minor": 5
}
