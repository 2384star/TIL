{
 "cells": [
  {
   "cell_type": "code",
   "execution_count": 1,
   "id": "4b07213a",
   "metadata": {},
   "outputs": [],
   "source": [
    "import hashlib    #해쉬함수를 사용하기위한 브러리라이브러리"
   ]
  },
  {
   "cell_type": "code",
   "execution_count": 2,
   "id": "e8c1eb3f",
   "metadata": {},
   "outputs": [],
   "source": [
    "user_information= { }"
   ]
  },
  {
   "cell_type": "markdown",
   "id": "ff5c1f1d",
   "metadata": {},
   "source": [
    "# 회원가입 화면 "
   ]
  },
  {
   "cell_type": "code",
   "execution_count": 5,
   "id": "a44ba03f",
   "metadata": {},
   "outputs": [
    {
     "name": "stdout",
     "output_type": "stream",
     "text": [
      "회원가입하겟습니다 \n",
      "아이디를 설정해주세요: 23\n",
      "비밀번호를 설정해주세요: asdasdasdad\n",
      "회원 가입 완료\n"
     ]
    }
   ],
   "source": [
    "print(\"회원가입하겟습니다 \")\n",
    "\n",
    "while True:\n",
    "    id = input(\"아이디를 설정해주세요: \")\n",
    "    \n",
    "    if id not in user_information:\n",
    "        break\n",
    "    else:\n",
    "        print(\"이미 사용중인 id입니다\")\n",
    "\n",
    "password = input(\"비밀번호를 설정해주세요: \")\n",
    "\n",
    "hasd_pass=hashlib.sha256(password.encode()).hexdigest() # hashlib 모듈의 sha256 함수를 사용하여 비밀번호를 해시화합니다\n",
    "user_information[id]= hasd_pass\n",
    "\n",
    "print(\"회원 가입 완료\")\n",
    "\n"
   ]
  },
  {
   "cell_type": "markdown",
   "id": "990da431",
   "metadata": {},
   "source": [
    "# 로그인 화면"
   ]
  },
  {
   "cell_type": "code",
   "execution_count": 12,
   "id": "75298377",
   "metadata": {},
   "outputs": [
    {
     "name": "stdout",
     "output_type": "stream",
     "text": [
      "로그인 화면입니다 \n",
      "아이디를 입력하세요: 2384star\n",
      "비밀번호를 입력하세요: 67TJzLwM\n",
      "로그인 성공!\n"
     ]
    }
   ],
   "source": [
    "print(\"로그인 화면입니다 \")\n",
    "cheek_id=input(\"아이디를 입력하세요: \")\n",
    "cheek_pass=input(\"비밀번호를 입력하세요: \")\n",
    "\n",
    "if cheek_id in user_information:\n",
    "    cheek_pass=hashlib.sha256(cheek_pass.encode()).hexdigest()# hashlib 모듈의 sha256 함수를 사용하여 비밀번호를 해시화합니다\n",
    "    \n",
    "    if cheek_pass in user_information[cheek_id]:\n",
    "        print(\"로그인 성공!\")\n",
    "    else:\n",
    "        print(\"비밀번호가 틀렸습니다\")\n",
    "        \n",
    "else:\n",
    "    print(\"존재하지 않는 아이디입니다 \")\n",
    "    \n",
    "    \n"
   ]
  },
  {
   "cell_type": "code",
   "execution_count": 7,
   "id": "baecbeec",
   "metadata": {},
   "outputs": [
    {
     "data": {
      "text/plain": [
       "{'2384star': '2a1f1fd14999208d29aaa1008eb646f3d12486429aef42c360d217ca827748ab',\n",
       " 'kshbeer1': '2a1f1fd14999208d29aaa1008eb646f3d12486429aef42c360d217ca827748ab',\n",
       " '23': '5c65cbc1fa611558b2354ce306dcb6081d491e2deff4f0c717f7303715db83fe'}"
      ]
     },
     "execution_count": 7,
     "metadata": {},
     "output_type": "execute_result"
    }
   ],
   "source": [
    "user_information #비밀번호는 중복이 된다는걸 보여줌 "
   ]
  },
  {
   "cell_type": "markdown",
   "id": "5ec0d200",
   "metadata": {},
   "source": [
    "# SMTP를 활용한 비밀번호 찾기"
   ]
  },
  {
   "cell_type": "code",
   "execution_count": 8,
   "id": "9b5d8273",
   "metadata": {},
   "outputs": [],
   "source": [
    "import smtplib\n",
    "from email.message import EmailMessage\n",
    "import random\n",
    "import string"
   ]
  },
  {
   "cell_type": "markdown",
   "id": "fd2407af",
   "metadata": {},
   "source": [
    "# 임시번호 발급 def"
   ]
  },
  {
   "cell_type": "code",
   "execution_count": 9,
   "id": "3b0ccb80",
   "metadata": {},
   "outputs": [],
   "source": [
    "def gene_sub_password(length=8): #함수정의 \n",
    "    characters = string.ascii_letters + string.digits #string.ascii_letters에 있는 영문 대소문자와\n",
    "    #  string.digits 영숫자를 결합\n",
    "    temp_password = ''.join(random.choices(characters, k=length))#random.choices()를사용하여 위 변수중 8개의 랜던값을 불러옴\n",
    "    return temp_password\n",
    "\n"
   ]
  },
  {
   "cell_type": "markdown",
   "id": "7296a58a",
   "metadata": {},
   "source": [
    "# 임시번호 메일 발급후 비밀번호 입력까지 "
   ]
  },
  {
   "cell_type": "code",
   "execution_count": 11,
   "id": "5bb5813e",
   "metadata": {},
   "outputs": [
    {
     "name": "stdout",
     "output_type": "stream",
     "text": [
      "비밀번호 분실 도우미입니다 아래의 아이디를 입력해주세요 \n",
      "2384star\n",
      "아이디 확인완료 다음단계로 넘어갑니다\n",
      "이메일 인증을 위해 이메일을 입력하세요 subsub2384@naver.com\n",
      "이메일이 발송되었습니다. 이메일을 확인해주세요.\n"
     ]
    }
   ],
   "source": [
    "\n",
    "my_email = \"2384star@naver.com\"  # 이메일 주소\n",
    "password = \"subsub2384\"  # 비밀번호    \n",
    "s_code = smtplib.SMTP(\"smtp.naver.com\", 587) #smtplib 모듈의 SMTP 클래스를 사용하여 SMTP 서버에 연결하는 코드\n",
    "#smtplib.SMTP(\"서버의 주소\",\"포트번호\")\n",
    "s_code.starttls()  # TLS 보안을 사용 멩ㄹ전송시 암호화\n",
    "s_code.login(my_email, password)  # 로그인\n",
    "\n",
    "\n",
    "print(\"비밀번호 분실 도우미입니다 아래의 아이디를 입력해주세요 \")\n",
    "ch_id = input()\n",
    "if ch_id in user_information:\n",
    "    print(\"아이디 확인완료 다음단계로 넘어갑니다\")\n",
    "    email = input(\"이메일 인증을 위해 이메일을 입력하세요 \")\n",
    "    sub_password=gene_sub_password()\n",
    "    hashed_temp_password = hashlib.sha256(sub_password.encode()).hexdigest() #해쉬값변환\n",
    "    user_information[ch_id] = hashed_temp_password\n",
    "    \n",
    "    message = EmailMessage()\n",
    "    message.set_content(f\"{email}님의 임시비밀번호는 {sub_password}입니다\")\n",
    "    message[\"Subject\"] = f\"{email}님의 비밀번호 안내 문자입니다\"\n",
    "    message[\"From\"] = my_email  #보내는 사람의 이메일 계정\n",
    "    message[\"To\"] = email\n",
    "\n",
    "    try:\n",
    "        s_code.send_message(message)  # 이메일 메시지 전송\n",
    "        print(\"이메일이 발송되었습니다. 이메일을 확인해주세요.\")\n",
    "    except smtplib.SMTPSenderRefused:\n",
    "        print(\"이메일 발송에 실패했습니다. 다시 시도해주세요.\")\n",
    "\n",
    "\n",
    "       \n",
    "else:\n",
    "    print(\"그런아이디는 존재하지않습니다\")\n",
    "\n",
    "    \n",
    "\n",
    "\n",
    "\n"
   ]
  },
  {
   "cell_type": "code",
   "execution_count": 13,
   "id": "91e8953d",
   "metadata": {},
   "outputs": [
    {
     "data": {
      "text/plain": [
       "{'2384star': '7d94ef7bad572b4ab1ef01cd0b771aceee319dbb688fba1e6fd6eddbea804905',\n",
       " 'kshbeer1': '2a1f1fd14999208d29aaa1008eb646f3d12486429aef42c360d217ca827748ab',\n",
       " '23': '5c65cbc1fa611558b2354ce306dcb6081d491e2deff4f0c717f7303715db83fe'}"
      ]
     },
     "execution_count": 13,
     "metadata": {},
     "output_type": "execute_result"
    }
   ],
   "source": [
    "user_information"
   ]
  },
  {
   "cell_type": "code",
   "execution_count": null,
   "id": "015ae10a",
   "metadata": {},
   "outputs": [],
   "source": []
  }
 ],
 "metadata": {
  "kernelspec": {
   "display_name": "Python 3 (ipykernel)",
   "language": "python",
   "name": "python3"
  },
  "language_info": {
   "codemirror_mode": {
    "name": "ipython",
    "version": 3
   },
   "file_extension": ".py",
   "mimetype": "text/x-python",
   "name": "python",
   "nbconvert_exporter": "python",
   "pygments_lexer": "ipython3",
   "version": "3.9.16"
  }
 },
 "nbformat": 4,
 "nbformat_minor": 5
}
