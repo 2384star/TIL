{
 "cells": [
  {
   "cell_type": "code",
   "execution_count": 31,
   "id": "f0dfc1f5",
   "metadata": {},
   "outputs": [
    {
     "name": "stdout",
     "output_type": "stream",
     "text": [
      "5\n"
     ]
    }
   ],
   "source": [
    "N=int(input())"
   ]
  },
  {
   "cell_type": "code",
   "execution_count": 43,
   "id": "9026caa6",
   "metadata": {},
   "outputs": [
    {
     "name": "stdout",
     "output_type": "stream",
     "text": [
      "3 1 4 3 2\n"
     ]
    }
   ],
   "source": [
    "nub=list(map(int,input().split(\" \")))\n",
    "\n",
    "nub.sort() #작은 순서대로 정렬"
   ]
  },
  {
   "cell_type": "code",
   "execution_count": 52,
   "id": "85e23de6",
   "metadata": {},
   "outputs": [
    {
     "name": "stdout",
     "output_type": "stream",
     "text": [
      "32\n"
     ]
    }
   ],
   "source": [
    "dap=0\n",
    "sum=0\n",
    "for i in nub:\n",
    "    #print(i)\n",
    "    sum+= i\n",
    "    #print(sum)\n",
    "    dap += sum\n",
    "    #print(dap)\n",
    "    \n",
    "\n",
    "print(dap)\n",
    "    "
   ]
  },
  {
   "cell_type": "markdown",
   "id": "c391a044",
   "metadata": {},
   "source": [
    "### 위에 솔직히 너무 날먹갓죠? 그래서 준비했습니다"
   ]
  },
  {
   "cell_type": "code",
   "execution_count": null,
   "id": "db1a170c",
   "metadata": {},
   "outputs": [],
   "source": []
  }
 ],
 "metadata": {
  "kernelspec": {
   "display_name": "Python 3 (ipykernel)",
   "language": "python",
   "name": "python3"
  },
  "language_info": {
   "codemirror_mode": {
    "name": "ipython",
    "version": 3
   },
   "file_extension": ".py",
   "mimetype": "text/x-python",
   "name": "python",
   "nbconvert_exporter": "python",
   "pygments_lexer": "ipython3",
   "version": "3.9.16"
  }
 },
 "nbformat": 4,
 "nbformat_minor": 5
}
