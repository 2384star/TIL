{
 "cells": [
  {
   "cell_type": "code",
   "execution_count": 40,
   "id": "82356930",
   "metadata": {},
   "outputs": [
    {
     "name": "stdout",
     "output_type": "stream",
     "text": [
      "5 4\n"
     ]
    }
   ],
   "source": [
    "N, M = map(int, input().split())\n"
   ]
  },
  {
   "cell_type": "code",
   "execution_count": 41,
   "id": "17f9c9cf",
   "metadata": {},
   "outputs": [
    {
     "name": "stdout",
     "output_type": "stream",
     "text": [
      "2\n",
      "8\n",
      "10\n",
      "7\n"
     ]
    }
   ],
   "source": [
    "num=[]\n",
    "for i in range(M):\n",
    "    a=int(input())\n",
    "    num.append(a)"
   ]
  },
  {
   "cell_type": "code",
   "execution_count": 49,
   "id": "e5e70dd6",
   "metadata": {},
   "outputs": [],
   "source": [
    "num.sort()\n",
    "\n",
    "\n",
    "a=0\n",
    "max_pr=-1\n",
    "\n",
    "for i in range(M):\n",
    "    result=0\n",
    "    if N >= M:    #달걀이 더적을경우 \n",
    "        result= num[i]*M\n",
    "        M -=1\n",
    "    elif N<M:   #달걀이 더많을경우 \n",
    "        result= num[i]* N\n",
    "        M-=1\n",
    "    if result>max_pr:\n",
    "        a=num[i]\n",
    "        max_pr=result"
   ]
  },
  {
   "cell_type": "code",
   "execution_count": 51,
   "id": "d2630f6d",
   "metadata": {},
   "outputs": [
    {
     "name": "stdout",
     "output_type": "stream",
     "text": [
      "0 -1\n"
     ]
    }
   ],
   "source": [
    "print(a,max_pr)"
   ]
  },
  {
   "cell_type": "markdown",
   "id": "5e9a875d",
   "metadata": {},
   "source": [
    "### 코멘트\n",
    "-판매자의 입장에서 몇개를 파는지는 즁요하지않다 애같은경우 정렬을 하는이유는 최소값 * 인원수가 디기때문이다 \n",
    "-즉 2번째 고객이면 정렬을햇기에 첫번째 고객은사지못한다"
   ]
  },
  {
   "cell_type": "code",
   "execution_count": 32,
   "id": "01daa259",
   "metadata": {},
   "outputs": [
    {
     "data": {
      "text/plain": [
       "[2, 7, 8, 10]"
      ]
     },
     "execution_count": 32,
     "metadata": {},
     "output_type": "execute_result"
    }
   ],
   "source": [
    "num"
   ]
  }
 ],
 "metadata": {
  "kernelspec": {
   "display_name": "Python 3 (ipykernel)",
   "language": "python",
   "name": "python3"
  },
  "language_info": {
   "codemirror_mode": {
    "name": "ipython",
    "version": 3
   },
   "file_extension": ".py",
   "mimetype": "text/x-python",
   "name": "python",
   "nbconvert_exporter": "python",
   "pygments_lexer": "ipython3",
   "version": "3.9.16"
  }
 },
 "nbformat": 4,
 "nbformat_minor": 5
}
