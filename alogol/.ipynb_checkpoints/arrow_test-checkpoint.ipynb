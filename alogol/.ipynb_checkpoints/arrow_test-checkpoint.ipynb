{
 "cells": [
  {
   "cell_type": "code",
   "execution_count": 1,
   "id": "8ef9ad4f",
   "metadata": {},
   "outputs": [
    {
     "name": "stdout",
     "output_type": "stream",
     "text": [
      "2023-07-12T20:26:40.286693+09:00\n"
     ]
    }
   ],
   "source": [
    "import arrow\n",
    "\n",
    "# 현재 날짜와 시간 얻기\n",
    "now = arrow.now()\n",
    "print(now)\n"
   ]
  },
  {
   "cell_type": "code",
   "execution_count": 2,
   "id": "74c38349",
   "metadata": {},
   "outputs": [
    {
     "name": "stdout",
     "output_type": "stream",
     "text": [
      "2023-07-12T21:23:58.970460+09:00\n"
     ]
    }
   ],
   "source": [
    "import arrow\n",
    "\n",
    "# 특정 날짜와 시간 만들기\n",
    "date = arrow.get('2023-07-12T21:23:58.970460+09:00')\n",
    "print(date)\n"
   ]
  },
  {
   "cell_type": "code",
   "execution_count": 6,
   "id": "0e7b9572",
   "metadata": {},
   "outputs": [
    {
     "name": "stdout",
     "output_type": "stream",
     "text": [
      "2023-07-12T21:25:58+00:00\n"
     ]
    }
   ],
   "source": [
    "import arrow\n",
    "\n",
    "# 날짜와 시간 파싱하기\n",
    "date = arrow.get('2023-07-12 21:25:58', 'YYYY-MM-DD HH:mm:ss')\n",
    "print(date)\n"
   ]
  },
  {
   "cell_type": "code",
   "execution_count": 7,
   "id": "1daeb8b6",
   "metadata": {},
   "outputs": [
    {
     "name": "stdout",
     "output_type": "stream",
     "text": [
      "2023-07-19T20:28:28.609875+09:00\n",
      "2023-07-09T20:28:28.609875+09:00\n"
     ]
    }
   ],
   "source": [
    "import arrow\n",
    "\n",
    "now = arrow.now()\n",
    "\n",
    "# 1주일 후\n",
    "print(now.shift(weeks=+1))\n",
    "\n",
    "# 3일 전\n",
    "print(now.shift(days=-3))\n"
   ]
  },
  {
   "cell_type": "code",
   "execution_count": 8,
   "id": "85e58362",
   "metadata": {},
   "outputs": [
    {
     "name": "stdout",
     "output_type": "stream",
     "text": [
      "2023-07-12 20:28:53 +09:00\n"
     ]
    }
   ],
   "source": [
    "import arrow\n",
    "\n",
    "now = arrow.now()\n",
    "\n",
    "# 날짜와 시간 서식 지정하기\n",
    "print(now.format('YYYY-MM-DD HH:mm:ss ZZ'))\n"
   ]
  },
  {
   "cell_type": "code",
   "execution_count": 9,
   "id": "ecbb84d0",
   "metadata": {},
   "outputs": [
    {
     "name": "stdout",
     "output_type": "stream",
     "text": [
      "2023-07-12T04:29:08.585670-07:00\n",
      "2023-07-12T04:29:08.590396-07:00\n"
     ]
    }
   ],
   "source": [
    "import arrow\n",
    "\n",
    "now = arrow.now()\n",
    "\n",
    "# 현재 시간을 다른 시간대로 바꾸기\n",
    "print(now.to('US/Pacific'))\n",
    "\n",
    "# 특정 시간대의 현재 시간 얻기\n",
    "print(arrow.now('US/Pacific'))\n"
   ]
  },
  {
   "cell_type": "code",
   "execution_count": 14,
   "id": "b51e7189",
   "metadata": {},
   "outputs": [
    {
     "name": "stdout",
     "output_type": "stream",
     "text": [
      "지금\n"
     ]
    }
   ],
   "source": [
    "import arrow\n",
    "\n",
    "now = arrow.now()\n",
    "\n",
    "# 날짜와 시간을 다른 언어로 출력하기\n",
    "print(now.humanize(locale='ko'))\n"
   ]
  },
  {
   "cell_type": "code",
   "execution_count": null,
   "id": "9979427b",
   "metadata": {},
   "outputs": [],
   "source": []
  }
 ],
 "metadata": {
  "kernelspec": {
   "display_name": "Python 3 (ipykernel)",
   "language": "python",
   "name": "python3"
  },
  "language_info": {
   "codemirror_mode": {
    "name": "ipython",
    "version": 3
   },
   "file_extension": ".py",
   "mimetype": "text/x-python",
   "name": "python",
   "nbconvert_exporter": "python",
   "pygments_lexer": "ipython3",
   "version": "3.9.16"
  }
 },
 "nbformat": 4,
 "nbformat_minor": 5
}
