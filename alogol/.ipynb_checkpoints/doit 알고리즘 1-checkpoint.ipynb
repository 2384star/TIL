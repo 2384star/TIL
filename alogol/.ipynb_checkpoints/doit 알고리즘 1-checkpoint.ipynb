{
 "cells": [
  {
   "cell_type": "code",
   "execution_count": 3,
   "id": "a9bb7b3f",
   "metadata": {},
   "outputs": [
    {
     "name": "stdout",
     "output_type": "stream",
     "text": [
      "세정수의 최대값을 구합니다\n",
      "정수 a의 최대값을 구하세요3\n",
      "정수 a의 최대값을 구하세요5\n",
      "정수 a의 최대값을 구하세요7\n",
      "최대값은 7입니다.\n"
     ]
    }
   ],
   "source": [
    "## 세정수의 최대값 구하기\n",
    "\n",
    "print(\"세정수의 최대값을 구합니다\")\n",
    "a=int(input(\"정수 a 구하세요\"))\n",
    "b=int(input(\"정수 b 구하세요\"))\n",
    "c=int(input(\"정수 c 구하세요\"))\n",
    "\n",
    "maximum=a\n",
    "\n",
    "if b >maximum: maximum=b\n",
    "if c> maximum:\n",
    "    maximum=c\n",
    "\n",
    "    \n",
    "\n",
    "print(f\"최대값은 {maximum}입니다.\")\n"
   ]
  },
  {
   "cell_type": "code",
   "execution_count": 4,
   "id": "4669770a",
   "metadata": {},
   "outputs": [
    {
     "name": "stdout",
     "output_type": "stream",
     "text": [
      "이름을 입력하세요 :유별\n",
      "안녕하세요? 유별님.\n"
     ]
    }
   ],
   "source": [
    "#문자열 숫자 입력받기\n",
    "\n",
    "print(\"이름을 입력하세요 :\",end=\"\")\n",
    "name=input()\n",
    "print(f\"안녕하세요? {name}님.\")"
   ]
  },
  {
   "cell_type": "code",
   "execution_count": 5,
   "id": "9033b117",
   "metadata": {},
   "outputs": [
    {
     "name": "stdout",
     "output_type": "stream",
     "text": [
      "max(321)= 3\n",
      "max(322)= 3\n",
      "max(312)= 3\n",
      "max(323)= 3\n",
      "max(213)= 3\n",
      "max(332)= 3\n",
      "max(333)= 3\n",
      "max(223)= 3\n",
      "max(231)= 3\n",
      "max(231)= 3\n",
      "max(132)= 3\n",
      "max(132)= 3\n",
      "max(233)= 3\n",
      "max(123)= 3\n"
     ]
    }
   ],
   "source": [
    "def max3(a,b,c):\n",
    "    \"\"\"a,b,c,의 최대값을 구하여 반환\"\"\"\n",
    "    \n",
    "    maximum = a\n",
    "    if b> maximum: maximum=b\n",
    "    if c> maximum: maximum=b\n",
    "\n",
    "print(f\"max(321)= {max(3,2,1)}\")\n",
    "print(f\"max(322)= {max(3,2,2)}\")\n",
    "print(f\"max(312)= {max(3,1,2)}\")\n",
    "print(f\"max(323)= {max(3,2,3)}\")\n",
    "print(f\"max(213)= {max(2,1,3)}\")\n",
    "print(f\"max(332)= {max(3,3,2)}\")\n",
    "print(f\"max(333)= {max(3,3,3)}\")\n",
    "print(f\"max(223)= {max(2,2,3)}\")\n",
    "print(f\"max(231)= {max(2,3,1)}\")\n",
    "print(f\"max(231)= {max(2,3,2)}\")\n",
    "print(f\"max(132)= {max(1,3,2)}\")\n",
    "print(f\"max(132)= {max(1,3,2)}\")\n",
    "print(f\"max(233)= {max(2,3,3)}\")\n",
    "print(f\"max(123)= {max(1,2,3)}\")\n",
    "\n",
    "\n",
    "    "
   ]
  },
  {
   "cell_type": "code",
   "execution_count": 9,
   "id": "fe1f57d7",
   "metadata": {},
   "outputs": [
    {
     "name": "stdout",
     "output_type": "stream",
     "text": [
      "세 정수의 중앙값을 구합니다\n",
      "정수 a의 값을 입력하세요 :3\n",
      "정수 b의 값을 입력하세요:5\n",
      "정수 b의 값을 입력하세요:7\n",
      "5\n"
     ]
    }
   ],
   "source": [
    "# 세정수를 입력받아 중앙값 구학기\n",
    "\n",
    "def mad3(a,b,c):\n",
    "    \n",
    "    if a>=b:\n",
    "        if b>=c:\n",
    "            return b\n",
    "        elif a<=c:\n",
    "            return a\n",
    "        \n",
    "        else:\n",
    "            return c\n",
    "        \n",
    "    elif a>c:\n",
    "        return a\n",
    "    elif b>c:\n",
    "        return c\n",
    "    else:\n",
    "        return b\n",
    "    \n",
    "print(\"세 정수의 중앙값을 구합니다\")\n",
    "a=int(input(\"정수 a의 값을 입력하세요 :\"))\n",
    "b=int(input(\"정수 b의 값을 입력하세요:\"))\n",
    "c=int(input(\"정수 b의 값을 입력하세요:\"))\n",
    "\n",
    "print(f\"{mad3(a,b,c)}\")"
   ]
  },
  {
   "cell_type": "code",
   "execution_count": 11,
   "id": "1de61741",
   "metadata": {},
   "outputs": [
    {
     "name": "stdout",
     "output_type": "stream",
     "text": [
      "세 정수의 중앙값을 구합니다\n",
      "정수 a의 값을 입력하세요 :3\n",
      "정수 b의 값을 입력하세요:5\n",
      "정수 b의 값을 입력하세요:10\n",
      "5\n"
     ]
    }
   ],
   "source": [
    "def med3(a,b,c):\n",
    "    if ( b>=a and c<=3) or (b<=c and c>=a):\n",
    "        return a\n",
    "    \n",
    "    elif (a>b and c<b) or (a<b and c>b):\n",
    "        return b\n",
    "    return c\n",
    "\n",
    "print(\"세 정수의 중앙값을 구합니다\")\n",
    "a=int(input(\"정수 a의 값을 입력하세요 :\"))\n",
    "b=int(input(\"정수 b의 값을 입력하세요:\"))\n",
    "c=int(input(\"정수 b의 값을 입력하세요:\"))\n",
    "\n",
    "print(f\"{mad3(a,b,c)}\")"
   ]
  },
  {
   "cell_type": "code",
   "execution_count": null,
   "id": "6ba99b2f",
   "metadata": {},
   "outputs": [],
   "source": []
  }
 ],
 "metadata": {
  "kernelspec": {
   "display_name": "Python 3 (ipykernel)",
   "language": "python",
   "name": "python3"
  },
  "language_info": {
   "codemirror_mode": {
    "name": "ipython",
    "version": 3
   },
   "file_extension": ".py",
   "mimetype": "text/x-python",
   "name": "python",
   "nbconvert_exporter": "python",
   "pygments_lexer": "ipython3",
   "version": "3.9.16"
  }
 },
 "nbformat": 4,
 "nbformat_minor": 5
}
