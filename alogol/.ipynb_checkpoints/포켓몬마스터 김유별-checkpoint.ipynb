{
 "cells": [
  {
   "cell_type": "code",
   "execution_count": 8,
   "id": "ffa43231",
   "metadata": {},
   "outputs": [
    {
     "name": "stdout",
     "output_type": "stream",
     "text": [
      " 개체 수 입력3 5\n"
     ]
    }
   ],
   "source": [
    "number,s_number= map(int,input(\" 개체 수 입력\").split(' '))\n",
    "\n",
    "ポケモン={}\n",
    "dic=[]"
   ]
  },
  {
   "cell_type": "code",
   "execution_count": 9,
   "id": "9ce4ec55",
   "metadata": {},
   "outputs": [
    {
     "name": "stdout",
     "output_type": "stream",
     "text": [
      "포켓몬 이름 입력ㅁ\n",
      "포켓몬 이름 입력ㄴ\n",
      "포켓몬 이름 입력ㄷ\n"
     ]
    }
   ],
   "source": [
    "for i in range(1,number+1):\n",
    "    name = input(\"포켓몬 이름 입력\")\n",
    "    ポケモン[i]=name\n",
    "    \n",
    "    \n",
    "    "
   ]
  },
  {
   "cell_type": "code",
   "execution_count": null,
   "id": "486439ae",
   "metadata": {},
   "outputs": [],
   "source": [
    "for i in range(1,number+1):\n",
    "    search= input(\"찾으려는 도감 넘버나 이름 입력\")\n",
    "    if search.isdigit():\n",
    "        search=int(search)\n",
    "        dic.append(search)\n",
    "#         if ポケモン[i].key == search:\n",
    "#             print(search)\n",
    "    else:\n",
    "#          if ポケモン[i].value == search:\n",
    "#                 print(search) \n",
    "         dic.append(search)\n",
    "        \n"
   ]
  },
  {
   "cell_type": "code",
   "execution_count": 7,
   "id": "63240d21",
   "metadata": {},
   "outputs": [
    {
     "ename": "NameError",
     "evalue": "name 'dic' is not defined",
     "output_type": "error",
     "traceback": [
      "\u001b[0;31m---------------------------------------------------------------------------\u001b[0m",
      "\u001b[0;31mNameError\u001b[0m                                 Traceback (most recent call last)",
      "Cell \u001b[0;32mIn[7], line 1\u001b[0m\n\u001b[0;32m----> 1\u001b[0m \u001b[38;5;28;01mfor\u001b[39;00m i \u001b[38;5;129;01min\u001b[39;00m \u001b[38;5;28mrange\u001b[39m(\u001b[38;5;28mlen\u001b[39m(\u001b[43mdic\u001b[49m)):\n\u001b[1;32m      2\u001b[0m     \u001b[38;5;28;01mif\u001b[39;00m ポケモン[i\u001b[38;5;241m+\u001b[39m\u001b[38;5;241m1\u001b[39m] \u001b[38;5;241m==\u001b[39m dic[i] \u001b[38;5;129;01mor\u001b[39;00m dic[i] \u001b[38;5;129;01min\u001b[39;00m ポケモン\u001b[38;5;241m.\u001b[39mkeys():\n\u001b[1;32m      3\u001b[0m         \u001b[38;5;28mprint\u001b[39m(dic[i])\n",
      "\u001b[0;31mNameError\u001b[0m: name 'dic' is not defined"
     ]
    }
   ],
   "source": [
    "for i in range(len(dic)):\n",
    "    if ポケモン[i+1] == dic[i] or dic[i] in ポケモン.keys():\n",
    "        print(dic[i])"
   ]
  },
  {
   "cell_type": "code",
   "execution_count": null,
   "id": "771a40db",
   "metadata": {},
   "outputs": [],
   "source": []
  },
  {
   "cell_type": "code",
   "execution_count": 6,
   "id": "8e545c4c",
   "metadata": {},
   "outputs": [
    {
     "name": "stdout",
     "output_type": "stream",
     "text": [
      "3 5\n",
      "ㅁ\n",
      "ㄴ\n",
      "ㄷ\n",
      "3\n",
      "ㄷ\n",
      "ㅁ\n",
      "1\n",
      "ㄴ\n",
      "2\n",
      "ㅁ\n",
      "1\n",
      "ㄴ\n",
      "2\n"
     ]
    }
   ],
   "source": [
    "# import sys\n",
    "\n",
    "# input = sys.stdin.readline\n",
    "\n",
    "n, m = map(int, input().split())\n",
    "\n",
    "dict = {}\n",
    "\n",
    "for i in range(1, n + 1):\n",
    "    a = input().rstrip()\n",
    "    dict[i] = a\n",
    "    dict[a] = i\n",
    "\n",
    "for i in range(m):\n",
    "    quest = input().rstrip()\n",
    "    if quest.isdigit():\n",
    "        print(dict[int(quest)])\n",
    "    else:\n",
    "        print(dict[quest])"
   ]
  },
  {
   "cell_type": "markdown",
   "id": "cfefe8ca",
   "metadata": {},
   "source": [
    "##### "
   ]
  }
 ],
 "metadata": {
  "kernelspec": {
   "display_name": "Python 3 (ipykernel)",
   "language": "python",
   "name": "python3"
  },
  "language_info": {
   "codemirror_mode": {
    "name": "ipython",
    "version": 3
   },
   "file_extension": ".py",
   "mimetype": "text/x-python",
   "name": "python",
   "nbconvert_exporter": "python",
   "pygments_lexer": "ipython3",
   "version": "3.9.16"
  }
 },
 "nbformat": 4,
 "nbformat_minor": 5
}
