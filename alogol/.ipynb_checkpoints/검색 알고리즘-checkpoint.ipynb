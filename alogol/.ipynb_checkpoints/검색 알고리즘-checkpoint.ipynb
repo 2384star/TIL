{
 "cells": [
  {
   "cell_type": "markdown",
   "id": "ad6b7b42",
   "metadata": {},
   "source": [
    "# 선형 검색 알고리즘\n",
    "- 직선모양으로 늘어선 베열에서 검색하는 경우에 원하는 키 값을 가진 원소를 찾을때까지 맨 앞부터 스캔하여 순서대로 검색하는 알고리즘"
   ]
  },
  {
   "cell_type": "code",
   "execution_count": 11,
   "id": "6bc69b8e",
   "metadata": {},
   "outputs": [
    {
     "name": "stdout",
     "output_type": "stream",
     "text": [
      "d원소의 수를 입력하세요:3\n",
      "x[0]: 6\n",
      "x[1]: 4\n",
      "x[2]: 3\n",
      "검색할 값을 입력하세요3\n",
      "검색값은 x[1]에 있습니다\n"
     ]
    }
   ],
   "source": [
    "#while 문으로 작성한 선형 검색 알고리즘\n",
    "from typing import Any,Sequence\n",
    "\n",
    "def seq_Search(a:Sequence, key:Any) -> int:  # 순차적인 데이터구조이고 key는 any 즉 모든타입이며 아직 특정짓지않앗고 함수의 반환값은 int다\n",
    "    \"\"\" 시퀸스 a 에서 key값이 같은 원소를 선형검색 \"\"\"\n",
    "    i=0\n",
    "    \n",
    "    while True:\n",
    "        \n",
    "        if i==len(a):\n",
    "            return -1\n",
    "        \n",
    "        if a[i]==key:\n",
    "            return 1\n",
    "        \n",
    "        i +=1\n",
    "        \n",
    "if __name__ == '__main__':\n",
    "    \n",
    "    num= int(input(\"d원소의 수를 입력하세요:\"))\n",
    "    x=[None] * num\n",
    "    \n",
    "    for i in range(num):\n",
    "        x[i]=int(input(f\"x[{i}]: \"))\n",
    "    \n",
    "    ky=int(input(\"검색할 값을 입력하세요\"))\n",
    "   \n",
    "    idx=seq_Search(x,ky)\n",
    "             \n",
    "    if idx == -1:\n",
    "             print(\"검색값을 갖는 원소가 존재하지 않습니다\")\n",
    "    else:\n",
    "             print(f\"검색값은 x[{idx}]에 있습니다\")"
   ]
  },
  {
   "cell_type": "code",
   "execution_count": 13,
   "id": "704e4c9e",
   "metadata": {},
   "outputs": [
    {
     "name": "stdout",
     "output_type": "stream",
     "text": [
      "d원소의 수를 입력하세요:3\n",
      "x[0]: 5\n",
      "x[1]: 1\n",
      "x[2]: 5\n",
      "검색할 값을 입력하세요5\n",
      "검색값은 x[1]에 있습니다\n"
     ]
    }
   ],
   "source": [
    "#for문으로 구현\n",
    "from typing import Any,Sequence\n",
    "\n",
    "def seq_search(a:Sequence, key:Any)-> int:\n",
    "    \"\"\"시퀸스 a에서 key와 값이 같은 원소를 선형검색 for문\"\"\"\n",
    "    for i in range(len(a)):\n",
    "        if a[i]==key:\n",
    "            return i\n",
    "        \n",
    "        return -1\n",
    "    \n",
    "        \n",
    "if __name__ == '__main__':\n",
    "    \n",
    "    num= int(input(\"d원소의 수를 입력하세요:\"))\n",
    "    x=[None] * num\n",
    "    \n",
    "    for i in range(num):\n",
    "        x[i]=int(input(f\"x[{i}]: \"))\n",
    "    \n",
    "    ky=int(input(\"검색할 값을 입력하세요\"))\n",
    "   \n",
    "    idx=seq_Search(x,ky)\n",
    "             \n",
    "    if idx == -1:\n",
    "             print(\"검색값을 갖는 원소가 존재하지 않습니다\")\n",
    "    else:\n",
    "             print(f\"검색값은 x[{idx}]에 있습니다\")"
   ]
  },
  {
   "cell_type": "code",
   "execution_count": 19,
   "id": "a041aba0",
   "metadata": {},
   "outputs": [
    {
     "name": "stdout",
     "output_type": "stream",
     "text": [
      "d원소의 수를 입력하세요:2\n",
      "x[0]: 3\n",
      "x[1]: 5\n",
      "검색할 값을 입력하세요3\n",
      "검색값은 x[0]에 있습니다\n"
     ]
    }
   ],
   "source": [
    "#보초법\n",
    "#while 문으로 작성한 선형 검색 알고리즘\n",
    "from typing import Any,Sequence\n",
    "import copy\n",
    "\n",
    "def seq_Search(a:Sequence, key:Any) -> int:  # 순차적인 데이터구조이고 key는 any 즉 모든타입이며 아직 특정짓지않앗고 함수의 반환값은 int다\n",
    "    \"\"\" 시퀸스 a 에서 key값이 같은 원소를 선형검색 \"\"\"\n",
    "    \n",
    "    a=copy.deepcopy(a)\n",
    "    a.append(key)\n",
    "    i=0\n",
    "    \n",
    "    while True:\n",
    "        if a[i]==key:\n",
    "            break\n",
    "        i +=1\n",
    "        \n",
    "    return -1 if i== len(a) else i\n",
    "        \n",
    "if __name__ == '__main__':\n",
    "    \n",
    "    num= int(input(\"d원소의 수를 입력하세요:\"))\n",
    "    x=[None] * num\n",
    "    \n",
    "    for i in range(num):\n",
    "        x[i]=int(input(f\"x[{i}]: \"))\n",
    "    \n",
    "    ky=int(input(\"검색할 값을 입력하세요\"))\n",
    "   \n",
    "    idx=seq_Search(x,ky)\n",
    "             \n",
    "    if idx == -1:\n",
    "             print(\"검색값을 갖는 원소가 존재하지 않습니다\")\n",
    "    else:\n",
    "             print(f\"검색값은 x[{idx}]에 있습니다\")"
   ]
  },
  {
   "cell_type": "markdown",
   "id": "888626cd",
   "metadata": {},
   "source": [
    "# 이진검색\n",
    "- 정렬된 배열에서 효율적으로 검색할수 있는 알고리즘"
   ]
  },
  {
   "cell_type": "code",
   "execution_count": 39,
   "id": "748c252d",
   "metadata": {},
   "outputs": [
    {
     "name": "stdout",
     "output_type": "stream",
     "text": [
      "원소 수를 입력하세요 :5\n",
      "배열의 데이터를 오름 차순으로 입력하세요\n",
      "x[0] :1\n",
      "[1]:2\n",
      "[2]:3\n",
      "[3]:4\n",
      "[4]:5\n",
      "검색할 값을 입력하세요 :5\n",
      "검색값은 x[4]에 있습니다\n"
     ]
    }
   ],
   "source": [
    "from typing import Any,Sequence\n",
    "\n",
    "def bin_search(a: Sequence,key:Any) -> int:\n",
    "    \n",
    "    pl =0\n",
    "    pr = len(a)-1\n",
    "#     print(\" |\" ,end=\"\")\n",
    "#     for i in range(len(a)):\n",
    "#         print(f\"{i:4}\", end=\"\")\n",
    "#     print()\n",
    "#     print(\"----+\" + (4*len(a)+2)* \"-\")\n",
    "    \n",
    "    while True:\n",
    "        pc=(pl+pr)//2\n",
    "   \n",
    "             \n",
    "#         print(\"  |\",end=\"\")\n",
    "#         if pl !=pc:\n",
    "#             print((pl*4+1)* \" \" + \"<-\" + ((pc-pl)*4) * \" \" + \"+\" ,end=\" \")\n",
    "        \n",
    "                \n",
    "#         else:\n",
    "#             print((pl*4+1)* \" \" + \"<+\",end=\" \")\n",
    "        \n",
    "#         if pc != pr:\n",
    "#             print(((pr-pc)* 4-2) *\" \"+ \"->\")\n",
    "            \n",
    "#         else:\n",
    "#             print(\"->\")\n",
    "            \n",
    "#         print(f\"{pc:3} |\",end=\"\")\n",
    "#         for i in range(len(a)):\n",
    "#             print(f\"{a[i]:4}\",end=\"\")\n",
    "#         print(\"\\n |\")\n",
    "        if a[pc]==key:\n",
    "            return pc\n",
    "        elif a[pc]<key:\n",
    "            pl=pc+1\n",
    "        else:\n",
    "            pr=pc-1\n",
    "        \n",
    "        if pl>pr:\n",
    "            break\n",
    "            \n",
    "    return -1\n",
    "    \n",
    "if __name__ ==\"__main__\":\n",
    "    num=int(input(\"원소 수를 입력하세요 :\"))\n",
    "    x=[None] * num\n",
    "        \n",
    "    print(\"배열의 데이터를 오름 차순으로 입력하세요\")\n",
    "        \n",
    "    x[0]=int(input(\"x[0] :\"))\n",
    "        \n",
    "    for i in range(1,num):\n",
    "        while True:\n",
    "            x[i]=int(input(f\"[{i}]:\"))\n",
    "            if x[i] >=x[i-1]:\n",
    "                break\n",
    "                    \n",
    "    ky= int(input(\"검색할 값을 입력하세요 :\"))\n",
    "    idx=bin_search(x,ky)        \n",
    "    if idx == -1:\n",
    "        print(\"검색값을 갖는 원소가 존재하지 않습니다\")\n",
    "    else:\n",
    "        print(f\"검색값은 x[{idx}]에 있습니다\")"
   ]
  },
  {
   "cell_type": "code",
   "execution_count": 42,
   "id": "e16fee56",
   "metadata": {},
   "outputs": [],
   "source": [
    "#체인법으로 해시 함수 구현하기\n",
    "\n",
    "from __future__ import annotations\n",
    "from typing import Any,Type\n",
    "import hashlib\n",
    "\n",
    "class Node:\n",
    "    \n",
    "    \n",
    "    def __init__(self,Key: Any, value: Any, next:Node) -> None:\n",
    "        \n",
    "        \n",
    "        self.key=key\n",
    "        self.value=value\n",
    "        self.next=next\n",
    "        \n",
    "##체인법으로 헤시 클레스구현\n",
    "\n",
    "class ChaneHash:\n",
    "    \n",
    "    def __init__(self,capaciy:int) -> None:\n",
    "        \n",
    "        \"\"\"초기화\"\"\"\n",
    "        self.capaciy=capaciy\n",
    "        self.table = [None] *self.capaciy\n",
    "        \n",
    "    def hash_value(self,key:Any) -> int:\n",
    "        \"\"\"해시값을 구하기\"\"\"\n",
    "        if isinstance(key,int):\n",
    "            return key % self.capaciy\n",
    "        \n",
    "        return(int(hashlib.sha256(str(key).encode()).hexdigest(),16)% self.capaciy)"
   ]
  },
  {
   "cell_type": "code",
   "execution_count": null,
   "id": "697b80d2",
   "metadata": {},
   "outputs": [],
   "source": [
    "\n"
   ]
  }
 ],
 "metadata": {
  "kernelspec": {
   "display_name": "Python 3 (ipykernel)",
   "language": "python",
   "name": "python3"
  },
  "language_info": {
   "codemirror_mode": {
    "name": "ipython",
    "version": 3
   },
   "file_extension": ".py",
   "mimetype": "text/x-python",
   "name": "python",
   "nbconvert_exporter": "python",
   "pygments_lexer": "ipython3",
   "version": "3.9.16"
  }
 },
 "nbformat": 4,
 "nbformat_minor": 5
}
