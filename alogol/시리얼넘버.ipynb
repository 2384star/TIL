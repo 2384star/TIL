{
 "cells": [
  {
   "cell_type": "code",
   "execution_count": 115,
   "id": "ade8bd5c",
   "metadata": {},
   "outputs": [
    {
     "name": "stdout",
     "output_type": "stream",
     "text": [
      "5\n"
     ]
    }
   ],
   "source": [
    "code_list= []\n",
    "a= int(input())\n",
    "\n"
   ]
  },
  {
   "cell_type": "code",
   "execution_count": 116,
   "id": "b36acb68",
   "metadata": {},
   "outputs": [
    {
     "name": "stdout",
     "output_type": "stream",
     "text": [
      "ABCDE\n",
      "BCDEF\n",
      "ABCDA\n",
      "BAAAA\n",
      "ACAAA\n"
     ]
    }
   ],
   "source": [
    "\n",
    "for i in range(0,a):\n",
    "    name= str(input())\n",
    "    code_list.append(name)"
   ]
  },
  {
   "cell_type": "code",
   "execution_count": 117,
   "id": "38eb9a85",
   "metadata": {},
   "outputs": [
    {
     "data": {
      "text/plain": [
       "['ABCDE', 'BCDEF', 'ABCDA', 'BAAAA', 'ACAAA']"
      ]
     },
     "execution_count": 117,
     "metadata": {},
     "output_type": "execute_result"
    }
   ],
   "source": [
    "code_list"
   ]
  },
  {
   "cell_type": "code",
   "execution_count": 118,
   "id": "d5c4dd41",
   "metadata": {},
   "outputs": [],
   "source": [
    "import re\n",
    "def sum_of_numbers(s):\n",
    "    numbers=re.findall(r\"\\d\",s)\n",
    "    return sum(int(num)for num in numbers)"
   ]
  },
  {
   "cell_type": "markdown",
   "id": "82a6670e",
   "metadata": {},
   "source": [
    "#### 버블정렬에 조건문 걸면 될거같은대"
   ]
  },
  {
   "cell_type": "code",
   "execution_count": 125,
   "id": "19f78cf3",
   "metadata": {},
   "outputs": [],
   "source": [
    "for i in range(a):\n",
    "    for j in range(0,a-i-1):\n",
    "        if len(code_list[j]) >len(code_list[j+1]):\n",
    "            code_list[j],code_list[j+1]= code_list[j+1],code_list[j]\n",
    "        elif len(code_list[j])==len(code_list[j+1]):\n",
    "            if sum_of_numbers(code_list[j]) > sum_of_numbers(code_list[j+1]):\n",
    "                code_list[j], code_list[j+1] = code_list[j+1], code_list[j]\n",
    "            elif sum_of_numbers(code_list[j]) == sum_of_numbers(code_list[j+1]):  # 추가된 코드\n",
    "                if code_list[j] > code_list[j+1]:\n",
    "                    code_list[j], code_list[j+1] = code_list[j+1], code_list[j]\n"
   ]
  },
  {
   "cell_type": "code",
   "execution_count": 126,
   "id": "6dbc1d78",
   "metadata": {},
   "outputs": [
    {
     "name": "stdout",
     "output_type": "stream",
     "text": [
      "ABCDA\n",
      "ABCDE\n",
      "ACAAA\n",
      "BAAAA\n",
      "BCDEF\n"
     ]
    }
   ],
   "source": [
    "for i in code_list:\n",
    "    print(i)\n"
   ]
  },
  {
   "cell_type": "code",
   "execution_count": null,
   "id": "79a9f3c6",
   "metadata": {},
   "outputs": [],
   "source": []
  },
  {
   "cell_type": "code",
   "execution_count": 17,
   "id": "85266f06",
   "metadata": {},
   "outputs": [
    {
     "name": "stdout",
     "output_type": "stream",
     "text": [
      "[Sorted array is]\n",
      "1 12 25 34 57 64 93 123 "
     ]
    }
   ],
   "source": [
    "def bubble_sort(arr):\n",
    "    n=len(arr)\n",
    "    \n",
    "    for i in range(n):\n",
    "        for j in range(0,n-i-1):\n",
    "        \n",
    "            if arr[j]>arr[j+1]:\n",
    "                arr[j],arr[j+1] = arr[j+1],arr[j] #서로스왑\n",
    "            \n",
    "arr = [64, 34, 25, 12, 57, 93, 1, 123]\n",
    "\n",
    "bubble_sort(arr)\n",
    "\n",
    "print(\"[Sorted array is]\")\n",
    "for i in range(len(arr)):\n",
    "    print(\"%d \" %arr[i], end = \"\")"
   ]
  },
  {
   "cell_type": "code",
   "execution_count": 30,
   "id": "0d03ce6f",
   "metadata": {},
   "outputs": [
    {
     "name": "stdout",
     "output_type": "stream",
     "text": [
      "[23, 1, 4]\n"
     ]
    }
   ],
   "source": [
    "import re\n",
    "\n",
    "# 예시 문자열 리스트\n",
    "string_list = [\"aaab23\", \"adsa1\", \"asdaga4\", \"adsasdasdasd\"]\n",
    "\n",
    "def extract_numbers_from_strings(string_list):\n",
    "    result = []\n",
    "    for s in string_list:\n",
    "        numbers = re.findall(r'\\d+', s)\n",
    "        for number in numbers:\n",
    "            result.append(int(number))\n",
    "    return result\n",
    "\n",
    "print(extract_numbers_from_strings(string_list))\n"
   ]
  },
  {
   "cell_type": "code",
   "execution_count": null,
   "id": "bba1f127",
   "metadata": {},
   "outputs": [],
   "source": []
  }
 ],
 "metadata": {
  "kernelspec": {
   "display_name": "Python 3 (ipykernel)",
   "language": "python",
   "name": "python3"
  },
  "language_info": {
   "codemirror_mode": {
    "name": "ipython",
    "version": 3
   },
   "file_extension": ".py",
   "mimetype": "text/x-python",
   "name": "python",
   "nbconvert_exporter": "python",
   "pygments_lexer": "ipython3",
   "version": "3.9.16"
  }
 },
 "nbformat": 4,
 "nbformat_minor": 5
}
