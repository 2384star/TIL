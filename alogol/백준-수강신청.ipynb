{
 "cells": [
  {
   "cell_type": "code",
   "execution_count": 1,
   "id": "59fad7e0",
   "metadata": {},
   "outputs": [
    {
     "name": "stdout",
     "output_type": "stream",
     "text": [
      "3 8\n"
     ]
    }
   ],
   "source": [
    "import sys\n",
    "n,m = map(int,input().split())\n",
    "#n, m = map(int, sys.stdin.readline().split())"
   ]
  },
  {
   "cell_type": "code",
   "execution_count": 2,
   "id": "33c523b8",
   "metadata": {},
   "outputs": [
    {
     "name": "stdout",
     "output_type": "stream",
     "text": [
      "20103324\n",
      "20133221\n",
      "20133221\n",
      "20093778\n",
      "20140101\n",
      "01234567\n",
      "20093778\n",
      "20103325\n"
     ]
    }
   ],
   "source": [
    "num_list={}\n",
    "for i in range(m):\n",
    "    num_list[input().strip()]=i\n",
    "\n",
    "# for i in range(m):\n",
    "#     dict[sys.stdin.readline().rstrip()] = i\n",
    "\n"
   ]
  },
  {
   "cell_type": "code",
   "execution_count": 3,
   "id": "04eb4181",
   "metadata": {},
   "outputs": [
    {
     "name": "stdout",
     "output_type": "stream",
     "text": [
      "[('20103324', 0), ('20133221', 2), ('20140101', 4), ('01234567', 5), ('20093778', 6), ('20103325', 7)]\n"
     ]
    }
   ],
   "source": [
    "sort_list=sorted(num_list.items(),key=lambda x :x[1])\n",
    "print(sort_list)"
   ]
  },
  {
   "cell_type": "code",
   "execution_count": 4,
   "id": "dff20dd9",
   "metadata": {},
   "outputs": [
    {
     "name": "stdout",
     "output_type": "stream",
     "text": [
      "20103324\n",
      "20133221\n",
      "20140101\n"
     ]
    }
   ],
   "source": [
    "#이거 외부함수로 구현\n",
    "import operator\n",
    "\n",
    "sort_list=sorted(num_list.items(),key=operator.itemgetter(1))\n",
    "# 제한 인원보다 신청 인원이 적을 경우\n",
    "if (n > len(sort_list)):\n",
    "    # 제한 인원을 신청 인원과 동일하게 수정\n",
    "    n = len(sort_list)\n",
    "\n",
    "for i in range(n):\n",
    "    print(sort_list[i][0])"
   ]
  },
  {
   "cell_type": "code",
   "execution_count": null,
   "id": "7bd52f0a",
   "metadata": {},
   "outputs": [],
   "source": []
  }
 ],
 "metadata": {
  "kernelspec": {
   "display_name": "Python 3 (ipykernel)",
   "language": "python",
   "name": "python3"
  },
  "language_info": {
   "codemirror_mode": {
    "name": "ipython",
    "version": 3
   },
   "file_extension": ".py",
   "mimetype": "text/x-python",
   "name": "python",
   "nbconvert_exporter": "python",
   "pygments_lexer": "ipython3",
   "version": "3.9.16"
  }
 },
 "nbformat": 4,
 "nbformat_minor": 5
}
