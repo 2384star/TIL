{
 "cells": [
  {
   "cell_type": "code",
   "execution_count": 5,
   "id": "dcc11250",
   "metadata": {},
   "outputs": [
    {
     "name": "stdout",
     "output_type": "stream",
     "text": [
      "3\n",
      "123123\n",
      "123124\n",
      "123125\n",
      "1\n"
     ]
    }
   ],
   "source": [
    "n=int(input())\n",
    "nums=[]\n",
    "for _ in range(n):\n",
    "    nums.append(str(input()))\n",
    "    \n",
    "for i in range(1, len(nums[0])+1):\n",
    "    results=[]\n",
    "    for j in range(n):\n",
    "        if nums[j][-i:] in results:\n",
    "            break\n",
    "            #뒤로서부터 1개씩가져와서 같은값이 잇는지 비교 없으면 추가하고 넘어감\n",
    "        else:\n",
    "            results.append(nums[j][-i:])\n",
    "    if len(results)==n:\n",
    "        print(i)\n",
    "        break"
   ]
  },
  {
   "cell_type": "code",
   "execution_count": 8,
   "id": "dad05ca8",
   "metadata": {},
   "outputs": [
    {
     "data": {
      "text/plain": [
       "['123123', '123124', '123125']"
      ]
     },
     "execution_count": 8,
     "metadata": {},
     "output_type": "execute_result"
    }
   ],
   "source": [
    "nums"
   ]
  },
  {
   "cell_type": "code",
   "execution_count": 9,
   "id": "bb09fd4b",
   "metadata": {},
   "outputs": [
    {
     "data": {
      "text/plain": [
       "3"
      ]
     },
     "execution_count": 9,
     "metadata": {},
     "output_type": "execute_result"
    }
   ],
   "source": [
    "len(nums)"
   ]
  },
  {
   "cell_type": "code",
   "execution_count": null,
   "id": "28565d4c",
   "metadata": {},
   "outputs": [],
   "source": []
  }
 ],
 "metadata": {
  "kernelspec": {
   "display_name": "Python 3 (ipykernel)",
   "language": "python",
   "name": "python3"
  },
  "language_info": {
   "codemirror_mode": {
    "name": "ipython",
    "version": 3
   },
   "file_extension": ".py",
   "mimetype": "text/x-python",
   "name": "python",
   "nbconvert_exporter": "python",
   "pygments_lexer": "ipython3",
   "version": "3.10.9"
  }
 },
 "nbformat": 4,
 "nbformat_minor": 5
}
