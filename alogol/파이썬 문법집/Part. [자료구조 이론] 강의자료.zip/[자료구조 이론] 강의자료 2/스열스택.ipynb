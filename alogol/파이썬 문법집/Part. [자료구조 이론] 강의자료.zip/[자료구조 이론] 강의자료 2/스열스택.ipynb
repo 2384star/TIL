{
 "cells": [
  {
   "cell_type": "code",
   "execution_count": 1,
   "id": "abc6da28",
   "metadata": {},
   "outputs": [],
   "source": []
  },
  {
   "cell_type": "code",
   "execution_count": 2,
   "id": "231eabdb",
   "metadata": {},
   "outputs": [
    {
     "name": "stdout",
     "output_type": "stream",
     "text": [
      "8\n"
     ]
    }
   ],
   "source": []
  },
  {
   "cell_type": "code",
   "execution_count": 4,
   "id": "12637629",
   "metadata": {},
   "outputs": [
    {
     "name": "stdout",
     "output_type": "stream",
     "text": [
      "8\n",
      "4\n",
      "3\n",
      "6\n",
      "8\n",
      "7\n",
      "5\n",
      "2\n",
      "1\n",
      "+\n",
      "+\n",
      "+\n",
      "+\n",
      "-\n",
      "-\n",
      "+\n",
      "+\n",
      "-\n",
      "+\n",
      "+\n",
      "-\n",
      "-\n",
      "-\n",
      "-\n",
      "-\n"
     ]
    }
   ],
   "source": [
    "count=1\n",
    "stack=[]\n",
    "result=[]\n",
    "number= (int)(input())\n",
    "for i in range(1,number+1):\n",
    "\n",
    "    st_num= int(input())\n",
    "    while count<=st_num:\n",
    "        stack.append(count)\n",
    "        result.append('+')\n",
    "        count+=1\n",
    "\n",
    "        \n",
    "    if stack[-1]==st_num:\n",
    "        stack.pop()\n",
    "        result.append('-')\n",
    "    else:\n",
    "        temp = False\n",
    "        \n",
    "if not temp:\n",
    "    print(\"NO\")\n",
    "\n",
    "print('\\n'.join(result))"
   ]
  }
 ],
 "metadata": {
  "kernelspec": {
   "display_name": "Python 3 (ipykernel)",
   "language": "python",
   "name": "python3"
  },
  "language_info": {
   "codemirror_mode": {
    "name": "ipython",
    "version": 3
   },
   "file_extension": ".py",
   "mimetype": "text/x-python",
   "name": "python",
   "nbconvert_exporter": "python",
   "pygments_lexer": "ipython3",
   "version": "3.9.16"
  }
 },
 "nbformat": 4,
 "nbformat_minor": 5
}
