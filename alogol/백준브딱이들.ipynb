{
 "cells": [
  {
   "cell_type": "markdown",
   "id": "cc9b1d1a",
   "metadata": {},
   "source": [
    " ### 1000번"
   ]
  },
  {
   "cell_type": "code",
   "execution_count": null,
   "id": "cb851528",
   "metadata": {},
   "outputs": [],
   "source": [
    "a,b =map(int,input().split())\n",
    "print(a+b)"
   ]
  },
  {
   "cell_type": "markdown",
   "id": "e8578184",
   "metadata": {},
   "source": [
    "# 1001번"
   ]
  },
  {
   "cell_type": "code",
   "execution_count": 12,
   "id": "27f78999",
   "metadata": {},
   "outputs": [
    {
     "ename": "SyntaxError",
     "evalue": "invalid syntax (33609173.py, line 1)",
     "output_type": "error",
     "traceback": [
      "\u001b[0;36m  Cell \u001b[0;32mIn[12], line 1\u001b[0;36m\u001b[0m\n\u001b[0;31m    a,b =map(int,input().split()1)\u001b[0m\n\u001b[0m                                ^\u001b[0m\n\u001b[0;31mSyntaxError\u001b[0m\u001b[0;31m:\u001b[0m invalid syntax\n"
     ]
    }
   ],
   "source": [
    "a,b =map(int,input().split()1)\n",
    "print(a/b)"
   ]
  },
  {
   "cell_type": "markdown",
   "id": "e972be37",
   "metadata": {},
   "source": [
    "### 1008번"
   ]
  },
  {
   "cell_type": "code",
   "execution_count": null,
   "id": "38169fd7",
   "metadata": {},
   "outputs": [],
   "source": [
    "a,b =map(int,input().split())\n",
    "print(a/b)"
   ]
  },
  {
   "cell_type": "markdown",
   "id": "38ea1e6e",
   "metadata": {},
   "source": [
    "### 1009번\n"
   ]
  },
  {
   "cell_type": "code",
   "execution_count": 35,
   "id": "96fa0cde",
   "metadata": {},
   "outputs": [
    {
     "name": "stdout",
     "output_type": "stream",
     "text": [
      "5\n",
      "1 6\n",
      "3 7\n",
      "6 2\n",
      "7 100\n",
      "9 635\n",
      "1\n",
      "7\n",
      "6\n",
      "1\n",
      "9\n"
     ]
    }
   ],
   "source": [
    "num =(int(input()))\n",
    "a=[]\n",
    "for i in range(num):\n",
    "    sub_a,sub_b =list(map(int,input().split()))\n",
    "    num=(sub_a **sub_b) %10\n",
    "    a.append(num)\n",
    "    \n",
    "    \n",
    "    \n",
    "for i in a:\n",
    "    print(i)\n"
   ]
  },
  {
   "cell_type": "markdown",
   "id": "f035e8ae",
   "metadata": {},
   "source": [
    "\n",
    "## 2338번"
   ]
  },
  {
   "cell_type": "code",
   "execution_count": 38,
   "id": "ac3a9c71",
   "metadata": {},
   "outputs": [
    {
     "name": "stdout",
     "output_type": "stream",
     "text": [
      "1\n",
      "-1\n",
      "0\n",
      "2\n",
      "-1\n"
     ]
    }
   ],
   "source": [
    "a=int(input())\n",
    "b= int(input())\n",
    "print(a+b)\n",
    "print(a-b)\n",
    "print(a*b)"
   ]
  },
  {
   "cell_type": "code",
   "execution_count": 53,
   "id": "fcc0dfa5",
   "metadata": {},
   "outputs": [
    {
     "name": "stdout",
     "output_type": "stream",
     "text": [
      "5\n",
      "*\n",
      "**\n",
      "***\n",
      "****\n",
      "*****\n"
     ]
    }
   ],
   "source": [
    "a=int(input(\"\"))\n",
    "for i in range(1,a+1):\n",
    "    print(i*\"*\")\n",
    "       "
   ]
  },
  {
   "cell_type": "code",
   "execution_count": 63,
   "id": "3bc7bcd0",
   "metadata": {},
   "outputs": [
    {
     "name": "stdout",
     "output_type": "stream",
     "text": [
      "5\n",
      "*****\n",
      "****\n",
      "***\n",
      "**\n",
      "*\n"
     ]
    }
   ],
   "source": [
    "a=int(input(\"\"))\n",
    "for i in range(a,0,-1):\n",
    "    print(i*\"*\")\n",
    "       "
   ]
  },
  {
   "cell_type": "code",
   "execution_count": 57,
   "id": "d38aa031",
   "metadata": {},
   "outputs": [
    {
     "name": "stdout",
     "output_type": "stream",
     "text": [
      "5\n",
      "    *\n",
      "   **\n",
      "  ***\n",
      " ****\n",
      "*****\n"
     ]
    }
   ],
   "source": [
    "n = int(input())\n",
    "for i in range(1, n+1): #1~n까지 범위\n",
    "    print(\" \"*(n-i)+\"*\"*i) #5넣었을 때, 4공백+1별\n"
   ]
  },
  {
   "cell_type": "code",
   "execution_count": 80,
   "id": "0c68b140",
   "metadata": {},
   "outputs": [
    {
     "name": "stdout",
     "output_type": "stream",
     "text": [
      "5\n",
      "*****\n",
      " ****\n",
      "  ***\n",
      "   **\n",
      "    *\n"
     ]
    }
   ],
   "source": [
    "a=int(input())\n",
    "for i in range(a,0,-1):\n",
    "    print(\" \"*(a-i)+\"*\"*(i))"
   ]
  },
  {
   "cell_type": "code",
   "execution_count": 77,
   "id": "21341c5a",
   "metadata": {},
   "outputs": [
    {
     "name": "stdout",
     "output_type": "stream",
     "text": [
      "5\n",
      "*****\n",
      " ****\n",
      "  ***\n",
      "   **\n",
      "    *\n"
     ]
    }
   ],
   "source": [
    "n = int(input())\n",
    "\n",
    "for i in range(n, 0, -1): #내림차순 n~1까지\n",
    "   print(\" \"*(n-i)+\"*\"*(i)) #5입력 시 5-5=0공백+5별"
   ]
  },
  {
   "cell_type": "code",
   "execution_count": null,
   "id": "e16eb230",
   "metadata": {},
   "outputs": [],
   "source": []
  }
 ],
 "metadata": {
  "kernelspec": {
   "display_name": "Python 3 (ipykernel)",
   "language": "python",
   "name": "python3"
  },
  "language_info": {
   "codemirror_mode": {
    "name": "ipython",
    "version": 3
   },
   "file_extension": ".py",
   "mimetype": "text/x-python",
   "name": "python",
   "nbconvert_exporter": "python",
   "pygments_lexer": "ipython3",
   "version": "3.9.16"
  }
 },
 "nbformat": 4,
 "nbformat_minor": 5
}
