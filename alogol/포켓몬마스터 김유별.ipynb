{
 "cells": [
  {
   "cell_type": "code",
   "execution_count": 1,
   "id": "63956d71",
   "metadata": {},
   "outputs": [
    {
     "ename": "ValueError",
     "evalue": "not enough values to unpack (expected 2, got 0)",
     "output_type": "error",
     "traceback": [
      "\u001b[0;31m---------------------------------------------------------------------------\u001b[0m",
      "\u001b[0;31mValueError\u001b[0m                                Traceback (most recent call last)",
      "Cell \u001b[0;32mIn[1], line 5\u001b[0m\n\u001b[1;32m      1\u001b[0m \u001b[38;5;28;01mimport\u001b[39;00m \u001b[38;5;21;01msys\u001b[39;00m\n\u001b[1;32m      3\u001b[0m \u001b[38;5;28minput\u001b[39m \u001b[38;5;241m=\u001b[39m sys\u001b[38;5;241m.\u001b[39mstdin\u001b[38;5;241m.\u001b[39mreadline\n\u001b[0;32m----> 5\u001b[0m number, s_number \u001b[38;5;241m=\u001b[39m \u001b[38;5;28mmap\u001b[39m(\u001b[38;5;28mint\u001b[39m, \u001b[38;5;28minput\u001b[39m()\u001b[38;5;241m.\u001b[39msplit())\n\u001b[1;32m      8\u001b[0m poketmon\u001b[38;5;241m=\u001b[39m{}\n\u001b[1;32m      9\u001b[0m poketmon_name\u001b[38;5;241m=\u001b[39m{}\n",
      "\u001b[0;31mValueError\u001b[0m: not enough values to unpack (expected 2, got 0)"
     ]
    }
   ],
   "source": [
    "import sys\n",
    "\n",
    "input = sys.stdin.readline\n",
    "\n",
    "number, s_number = map(int, input().split())\n",
    "\n",
    "\n",
    "poketmon={}\n",
    "poketmon_name={}\n",
    "# dic=[]"
   ]
  },
  {
   "cell_type": "code",
   "execution_count": null,
   "id": "9a08195e",
   "metadata": {},
   "outputs": [],
   "source": [
    "for i in range(1,number+1):\n",
    "    name = input(\"\")\n",
    "    poketmon[i]=name\n",
    "    poketmon_name[name]=i  #이름을 키로 도감번호를 값으로 저장\n",
    "    \n",
    "    \n",
    "    "
   ]
  },
  {
   "cell_type": "code",
   "execution_count": null,
   "id": "51f083eb",
   "metadata": {},
   "outputs": [],
   "source": [
    "\n",
    "for i in range(s_number):\n",
    "    search= input(\"\")\n",
    "    \n",
    "    if search.isdigit():\n",
    "        search=int(search)\n",
    "        if search in poketmon:\n",
    "            print(poketmon[search])\n",
    "        \n",
    "    else:\n",
    "        if search in poketmon_name:\n",
    "            print(int(poketmon_name[search]))\n"
   ]
  },
  {
   "cell_type": "code",
   "execution_count": 4,
   "id": "6895370b",
   "metadata": {},
   "outputs": [
    {
     "ename": "ValueError",
     "evalue": "not enough values to unpack (expected 2, got 0)",
     "output_type": "error",
     "traceback": [
      "\u001b[0;31m---------------------------------------------------------------------------\u001b[0m",
      "\u001b[0;31mValueError\u001b[0m                                Traceback (most recent call last)",
      "Cell \u001b[0;32mIn[4], line 5\u001b[0m\n\u001b[1;32m      1\u001b[0m \u001b[38;5;28;01mimport\u001b[39;00m \u001b[38;5;21;01msys\u001b[39;00m\n\u001b[1;32m      3\u001b[0m \u001b[38;5;28minput\u001b[39m \u001b[38;5;241m=\u001b[39m sys\u001b[38;5;241m.\u001b[39mstdin\u001b[38;5;241m.\u001b[39mreadline\n\u001b[0;32m----> 5\u001b[0m number, s_number \u001b[38;5;241m=\u001b[39m \u001b[38;5;28mmap\u001b[39m(\u001b[38;5;28mint\u001b[39m, \u001b[38;5;28minput\u001b[39m()\u001b[38;5;241m.\u001b[39msplit())\n\u001b[1;32m      7\u001b[0m poketmon \u001b[38;5;241m=\u001b[39m {}\n\u001b[1;32m      8\u001b[0m poketmon_name \u001b[38;5;241m=\u001b[39m {}\n",
      "\u001b[0;31mValueError\u001b[0m: not enough values to unpack (expected 2, got 0)"
     ]
    }
   ],
   "source": [
    "import sys\n",
    "\n",
    "input = sys.stdin.readline\n",
    "\n",
    "number, s_number = map(int, input().split())\n",
    "\n",
    "poketmon = {}\n",
    "poketmon_name = {}\n",
    "\n",
    "for i in range(1, number + 1):\n",
    "    name = input().rstrip()\n",
    "    poketmon[i] = name\n",
    "    poketmon_name[name] = i\n",
    "\n",
    "for i in range(s_number):\n",
    "    search = input().rstrip()\n",
    "\n",
    "    if search.isdigit():\n",
    "        search = int(search)\n",
    "        if search in poketmon:\n",
    "            print(poketmon[search])\n",
    "    else:\n",
    "        if search in poketmon_name:\n",
    "            print(poketmon_name[search])\n"
   ]
  },
  {
   "cell_type": "code",
   "execution_count": null,
   "id": "091ed861",
   "metadata": {},
   "outputs": [],
   "source": []
  }
 ],
 "metadata": {
  "kernelspec": {
   "display_name": "Python 3 (ipykernel)",
   "language": "python",
   "name": "python3"
  },
  "language_info": {
   "codemirror_mode": {
    "name": "ipython",
    "version": 3
   },
   "file_extension": ".py",
   "mimetype": "text/x-python",
   "name": "python",
   "nbconvert_exporter": "python",
   "pygments_lexer": "ipython3",
   "version": "3.9.16"
  }
 },
 "nbformat": 4,
 "nbformat_minor": 5
}
