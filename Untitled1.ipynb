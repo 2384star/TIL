{
 "cells": [
  {
   "cell_type": "code",
   "execution_count": 2,
   "id": "ae53b743",
   "metadata": {},
   "outputs": [],
   "source": [
    "import math"
   ]
  },
  {
   "cell_type": "code",
   "execution_count": 39,
   "id": "d12b1cc2",
   "metadata": {},
   "outputs": [
    {
     "data": {
      "text/plain": [
       "[29, 6]"
      ]
     },
     "execution_count": 39,
     "metadata": {},
     "output_type": "execute_result"
    }
   ],
   "source": [
    "\n",
    "numer1=9\n",
    "denom1=2\n",
    "numer2=1\n",
    "denom2=3\n",
    "answer=[]\n",
    "\n",
    "\n",
    "\n",
    "min_denom=math.lcm(denom1,denom2)\n",
    "sub_numer1=min_denom / denom1\n",
    "sub_numer2=min_denom / denom2\n",
    "numer1=numer1*sub_numer1\n",
    "numer2=numer2*sub_numer2\n",
    "\n",
    "\n",
    "sum_num=(int)(numer1+numer2)\n",
    "max_nuber=math.gcd(sum_num,min_denom)\n",
    "\n",
    "if max_nuber == 0:\n",
    "    answer.append(sum_num)\n",
    "    answer.append(min_denom)\n",
    "\n",
    "else:\n",
    "    sum_num=int(sum_num/max_nuber)\n",
    "    min_denom/sum_num\n",
    "    answer.append(sum_num)\n",
    "    answer.append(min_denom)\n",
    "\n",
    "    \n",
    "answer"
   ]
  }
 ],
 "metadata": {
  "kernelspec": {
   "display_name": "Python 3 (ipykernel)",
   "language": "python",
   "name": "python3"
  },
  "language_info": {
   "codemirror_mode": {
    "name": "ipython",
    "version": 3
   },
   "file_extension": ".py",
   "mimetype": "text/x-python",
   "name": "python",
   "nbconvert_exporter": "python",
   "pygments_lexer": "ipython3",
   "version": "3.9.16"
  }
 },
 "nbformat": 4,
 "nbformat_minor": 5
}
